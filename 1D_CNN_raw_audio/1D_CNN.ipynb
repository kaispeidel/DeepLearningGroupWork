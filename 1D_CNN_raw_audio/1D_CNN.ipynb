{
 "cells": [
  {
   "cell_type": "markdown",
   "id": "47b32dcf",
   "metadata": {},
   "source": [
    "# 1D CNN Model on the raw audio data"
   ]
  },
  {
   "cell_type": "markdown",
   "id": "70ed9a3c",
   "metadata": {},
   "source": [
    "### loading the dependencies"
   ]
  },
  {
   "cell_type": "code",
   "execution_count": null,
   "id": "2c072010",
   "metadata": {},
   "outputs": [],
   "source": [
    "\n",
    "#* libraries we will need.\n",
    "import pandas as pd\n",
    "import matplotlib.pyplot as plt\n",
    "import librosa\n",
    "import librosa.display\n",
    "from tqdm import tqdm\n",
    "import numpy as np\n",
    "from sklearn.model_selection import train_test_split\n",
    "import tensorflow as tf\n",
    "import tensorflow.keras.models as models\n",
    "import tensorflow.keras.layers as layers\n",
    "import IPython.display as ipd\n",
    "from IPython.core.interactiveshell import InteractiveShell\n",
    "InteractiveShell.ast_node_interactivity = \"all\"\n",
    "\n",
    "%matplotlib inline\n",
    "%load_ext tensorboard\n",
    "\n"
   ]
  },
  {
   "cell_type": "code",
   "execution_count": 3,
   "id": "c0181f31",
   "metadata": {},
   "outputs": [],
   "source": [
    "import numpy as np\n",
    "import pandas as pd\n",
    "import matplotlib.pyplot as plt\n",
    "import seaborn as sns\n",
    "import os"
   ]
  },
  {
   "cell_type": "code",
   "execution_count": 4,
   "id": "76007649",
   "metadata": {},
   "outputs": [],
   "source": [
    "def custom_pad_raw_audio(audio, fixed_length):\n",
    "    padded = np.zeros(fixed_length)  #* zero-filled array\n",
    "    length_to_copy = min(len(audio), fixed_length)\n",
    "    padded[:length_to_copy] = audio[:length_to_copy]\n",
    "    return padded\n",
    "\n",
    "raw_audio_length = 16000"
   ]
  },
  {
   "cell_type": "markdown",
   "id": "05a6500d",
   "metadata": {},
   "source": [
    "### limit cpu usage"
   ]
  },
  {
   "cell_type": "code",
   "execution_count": 5,
   "id": "7fa84813",
   "metadata": {},
   "outputs": [
    {
     "name": "stdout",
     "output_type": "stream",
     "text": [
      "Total CPUs: 8, Using: 5 (70%)\n",
      "Could not set memory limit: current limit exceeds maximum limit\n"
     ]
    }
   ],
   "source": [
    "# Limit CPU usage for TensorFlow\n",
    "import tensorflow as tf\n",
    "import multiprocessing\n",
    "\n",
    "# Get number of available CPU cores\n",
    "num_cpu = multiprocessing.cpu_count()\n",
    "num_cpu_to_use = int(num_cpu * 0.7)  # Use 70% of available CPUs\n",
    "\n",
    "# Configure TensorFlow to use specific number of threads\n",
    "tf.config.threading.set_intra_op_parallelism_threads(num_cpu_to_use)\n",
    "tf.config.threading.set_inter_op_parallelism_threads(num_cpu_to_use)\n",
    "\n",
    "print(f\"Total CPUs: {num_cpu}, Using: {num_cpu_to_use} (70%)\")\n",
    "\n",
    "# For memory limitation\n",
    "import resource\n",
    "import psutil\n",
    "\n",
    "# Get total system memory\n",
    "try:\n",
    "    total_memory = psutil.virtual_memory().total\n",
    "    memory_limit = int(total_memory * 0.7)  # 70% of memory\n",
    "    \n",
    "    # Set soft limit\n",
    "    resource.setrlimit(resource.RLIMIT_AS, (memory_limit, memory_limit))\n",
    "    print(f\"System memory limited to {memory_limit/(1024**3):.2f} GB (70%)\")\n",
    "except Exception as e:\n",
    "    print(f\"Could not set memory limit: {e}\")\n",
    "    \n",
    "# Check for available GPUs\n",
    "gpus = tf.config.list_physical_devices('GPU')\n",
    "if gpus:\n",
    "    try:\n",
    "        # For GPU devices, we can use memory growth\n",
    "        for gpu in gpus:\n",
    "            tf.config.experimental.set_memory_growth(gpu, True)\n",
    "        print(f\"Found {len(gpus)} GPU(s), memory growth enabled\")\n",
    "    except Exception as e:\n",
    "        print(f\"Error configuring GPUs: {e}\")"
   ]
  },
  {
   "cell_type": "markdown",
   "id": "d00ef890",
   "metadata": {},
   "source": [
    "### inintalize model"
   ]
  },
  {
   "cell_type": "code",
   "execution_count": 40,
   "id": "732097aa",
   "metadata": {},
   "outputs": [
    {
     "name": "stderr",
     "output_type": "stream",
     "text": [
      "Raw Audio Progress: 3166it [00:04, 652.73it/s]\n"
     ]
    },
    {
     "name": "stdout",
     "output_type": "stream",
     "text": [
      "Raw audio training set: 2217 samples\n",
      "Raw audio validation set: 474 samples\n",
      "Raw audio test set: 475 samples\n",
      "\n",
      "Dataframes created:\n",
      "Test set dataframe: 475 samples\n"
     ]
    }
   ],
   "source": [
    "from tensorflow.keras.utils import to_categorical\n",
    "\n",
    "# Reload the train_df to make sure we have the original data\n",
    "train_dir = '/Users/kaispeidel/Downloads/DeepLearning/Train'\n",
    "train_files = os.listdir(train_dir)\n",
    "\n",
    "train_df = pd.DataFrame(train_files, columns=['file'])\n",
    "train_df['file_path'] = train_df['file'].apply(lambda x: os.path.join(train_dir, x))\n",
    "train_df['file_name'] = train_df['file'].str.replace('.wav', '')\n",
    "train_df['accent'] = train_df['file_name'].str[0]\n",
    "train_df['gender'] = train_df['file_name'].str[1]\n",
    "\n",
    "df_raw = train_df.copy()\n",
    "\n",
    "#* process raw audio data\n",
    "X_raw = []\n",
    "y_raw = []\n",
    "\n",
    "for data in tqdm(df_raw.iterrows(), desc='Raw Audio Progress'):\n",
    "    file_path = os.path.join(train_dir, data[1]['file'])  # Fixed: use train_dir instead of data_dir\n",
    "    audio, sr = librosa.load(file_path, sr=16000)\n",
    "    \n",
    "    #* z-score standardization\n",
    "    audio = (audio - np.mean(audio)) / (np.std(audio) + 1e-8)\n",
    "    \n",
    "    #* padding to fixed length\n",
    "    padded_audio = custom_pad_raw_audio(audio, raw_audio_length)\n",
    "    \n",
    "    X_raw.append(padded_audio)\n",
    "    y_raw.append(data[1]['accent'])  # Use accent from original dataframe\n",
    "\n",
    "# Convert to numpy arrays\n",
    "X_raw = np.array(X_raw)\n",
    "y_raw = np.array(y_raw, dtype=int)\n",
    "\n",
    "# Prepare labels\n",
    "y_raw = y_raw.astype(int) - 1\n",
    "y_raw = to_categorical(y_raw, num_classes=5)\n",
    "\n",
    "#* reshpae for a 1D CNN\n",
    "X_raw = X_raw.reshape(X_raw.shape[0], X_raw.shape[1], 1)\n",
    "\n",
    "#* train/validation/test split \n",
    "X_raw_temp, X_raw_test, y_raw_temp, y_raw_test = train_test_split(\n",
    "    X_raw, y_raw, test_size=0.15, random_state=42, stratify=y_raw\n",
    ")\n",
    "\n",
    "X_raw_train, X_raw_val, y_raw_train, y_raw_val = train_test_split(\n",
    "    X_raw_temp, y_raw_temp, test_size=0.176, random_state=42, stratify=y_raw_temp \n",
    ")\n",
    "\n",
    "#* create dataframes with file infor for each split\n",
    "temp_indices = list(range(len(df_raw)))\n",
    "\n",
    "#! Split indices same way as data\n",
    "temp_train_idx, test_idx = train_test_split(\n",
    "    temp_indices, test_size=0.15, random_state=42, \n",
    "    stratify=[df_raw.iloc[i]['accent'] for i in temp_indices]\n",
    ")\n",
    "\n",
    "train_idx, val_idx = train_test_split(\n",
    "    temp_train_idx, test_size=0.176, random_state=42,\n",
    "    stratify=[df_raw.iloc[i]['accent'] for i in temp_train_idx]\n",
    ")\n",
    "\n",
    "#* create dataframe with file info and arrays\n",
    "test_set_df = df_raw.iloc[test_idx].copy().reset_index(drop=True)\n",
    "\n",
    "#* add audio arrays to dataframes\n",
    "test_set_df['audio_array'] = list(X_raw_test)\n",
    "\n",
    "test_set_df['predicted_accent'] = None\n",
    "\n",
    "\n",
    "\n",
    "\n",
    "print(f\"Raw audio training set: {X_raw_train.shape[0]} samples\")\n",
    "print(f\"Raw audio validation set: {X_raw_val.shape[0]} samples\") \n",
    "print(f\"Raw audio test set: {X_raw_test.shape[0]} samples\")\n",
    "print(f\"\\nDataframes created:\")\n",
    "\n",
    "print(f\"Test set dataframe: {test_set_df.shape[0]} samples\")\n"
   ]
  },
  {
   "cell_type": "code",
   "execution_count": 47,
   "id": "8d3914aa",
   "metadata": {},
   "outputs": [
    {
     "data": {
      "application/vnd.microsoft.datawrangler.viewer.v0+json": {
       "columns": [
        {
         "name": "index",
         "rawType": "int64",
         "type": "integer"
        },
        {
         "name": "file",
         "rawType": "object",
         "type": "string"
        },
        {
         "name": "file_path",
         "rawType": "object",
         "type": "string"
        },
        {
         "name": "file_name",
         "rawType": "object",
         "type": "string"
        },
        {
         "name": "accent",
         "rawType": "object",
         "type": "string"
        },
        {
         "name": "gender",
         "rawType": "object",
         "type": "string"
        },
        {
         "name": "audio_array",
         "rawType": "object",
         "type": "unknown"
        },
        {
         "name": "predicted_accent",
         "rawType": "int64",
         "type": "integer"
        },
        {
         "name": "prediction_confidence",
         "rawType": "float32",
         "type": "float"
        }
       ],
       "ref": "0ff058fe-8150-450f-bd97-81e613f57b9c",
       "rows": [
        [
         "0",
         "5f_8431.wav",
         "/Users/kaispeidel/Downloads/DeepLearning/Train/5f_8431.wav",
         "5f_8431",
         "5",
         "f",
         "[[-7.16434151e-04]\n [-7.32791596e-05]\n [-7.32791596e-05]\n ...\n [ 1.98213029e+00]\n [ 2.01718235e+00]\n [ 2.38217282e+00]]",
         "2",
         "0.8160277"
        ],
        [
         "1",
         "5f_3560.wav",
         "/Users/kaispeidel/Downloads/DeepLearning/Train/5f_3560.wav",
         "5f_3560",
         "5",
         "f",
         "[[-0.00688555]\n [-0.00688555]\n [-0.00579686]\n ...\n [-0.67715895]\n [-0.51530623]\n [-0.39155787]]",
         "4",
         "0.7298373"
        ],
        [
         "2",
         "4f_9833.wav",
         "/Users/kaispeidel/Downloads/DeepLearning/Train/4f_9833.wav",
         "4f_9833",
         "4",
         "f",
         "[[0.00104494]\n [0.00420673]\n [0.00547145]\n ...\n [0.2527236 ]\n [0.32607722]\n [0.38551891]]",
         "4",
         "0.66508716"
        ],
        [
         "3",
         "1f_9293.wav",
         "/Users/kaispeidel/Downloads/DeepLearning/Train/1f_9293.wav",
         "1f_9293",
         "1",
         "f",
         "[[-0.0043571 ]\n [-0.00563177]\n [-0.00563177]\n ...\n [-0.01327981]\n [-0.01115535]\n [-0.01455448]]",
         "4",
         "0.6306214"
        ],
        [
         "4",
         "2f_8352.wav",
         "/Users/kaispeidel/Downloads/DeepLearning/Train/2f_8352.wav",
         "2f_8352",
         "2",
         "f",
         "[[-0.00111337]\n [-0.00157428]\n [-0.0024961 ]\n ...\n [-0.86439741]\n [-0.87085015]\n [-0.84550011]]",
         "5",
         "0.40326476"
        ],
        [
         "5",
         "2f_5138.wav",
         "/Users/kaispeidel/Downloads/DeepLearning/Train/2f_5138.wav",
         "2f_5138",
         "2",
         "f",
         "[[ 0.02521582]\n [ 0.01549819]\n [ 0.00869585]\n ...\n [-0.00782411]\n [ 0.00189352]\n [-0.00782411]]",
         "4",
         "0.34476933"
        ],
        [
         "6",
         "5f_9479.wav",
         "/Users/kaispeidel/Downloads/DeepLearning/Train/5f_9479.wav",
         "5f_9479",
         "5",
         "f",
         "[[-0.00242495]\n [-0.00120503]\n [-0.00201831]\n ...\n [-0.00283159]\n [-0.00283159]\n [-0.00405152]]",
         "4",
         "0.6614372"
        ],
        [
         "7",
         "1f_5518.wav",
         "/Users/kaispeidel/Downloads/DeepLearning/Train/1f_5518.wav",
         "1f_5518",
         "1",
         "f",
         "[[-0.00248076]\n [-0.00248076]\n [-0.00248076]\n ...\n [ 1.45896637]\n [ 2.16782022]\n [ 2.35666275]]",
         "4",
         "0.98308593"
        ],
        [
         "8",
         "3m_3132.wav",
         "/Users/kaispeidel/Downloads/DeepLearning/Train/3m_3132.wav",
         "3m_3132",
         "3",
         "m",
         "[[-5.73776755e-03]\n [-3.08191706e-03]\n [-3.08191706e-03]\n ...\n [-3.28836870e+00]\n [-5.68593740e+00]\n [-5.24041843e+00]]",
         "3",
         "0.5871548"
        ],
        [
         "9",
         "2f_8444.wav",
         "/Users/kaispeidel/Downloads/DeepLearning/Train/2f_8444.wav",
         "2f_8444",
         "2",
         "f",
         "[[ 0.00081507]\n [ 0.00131049]\n [-0.00017578]\n ...\n [-0.00166206]\n [-0.00215749]\n [-0.00116664]]",
         "4",
         "0.65992445"
        ],
        [
         "10",
         "5m_7013.wav",
         "/Users/kaispeidel/Downloads/DeepLearning/Train/5m_7013.wav",
         "5m_7013",
         "5",
         "m",
         "[[ 4.02502902e-03]\n [ 1.35896646e-03]\n [ 4.70279105e-04]\n ...\n [-1.22369671e+00]\n [-8.45560193e-01]\n [-2.79466271e-01]]",
         "2",
         "0.80958694"
        ],
        [
         "11",
         "5f_6372.wav",
         "/Users/kaispeidel/Downloads/DeepLearning/Train/5f_6372.wav",
         "5f_6372",
         "5",
         "f",
         "[[0.00245926]\n [0.00107729]\n [0.0007318 ]\n ...\n [0.07397627]\n [0.07466725]\n [0.06844839]]",
         "2",
         "0.6879"
        ],
        [
         "12",
         "4f_3998.wav",
         "/Users/kaispeidel/Downloads/DeepLearning/Train/4f_3998.wav",
         "4f_3998",
         "4",
         "f",
         "[[-8.14964820e-04]\n [-1.12587179e-03]\n [-1.43677881e-03]\n ...\n [-1.00535536e+00]\n [-1.07530940e+00]\n [-1.16733789e+00]]",
         "1",
         "0.987501"
        ],
        [
         "13",
         "1f_5040.wav",
         "/Users/kaispeidel/Downloads/DeepLearning/Train/1f_5040.wav",
         "1f_5040",
         "1",
         "f",
         "[[-2.17462628e-04]\n [ 1.35491660e-04]\n [-2.17462628e-04]\n ...\n [-1.14061284e+00]\n [-1.34814990e+00]\n [-1.45368326e+00]]",
         "5",
         "0.57755595"
        ],
        [
         "14",
         "4m_3898.wav",
         "/Users/kaispeidel/Downloads/DeepLearning/Train/4m_3898.wav",
         "4m_3898",
         "4",
         "m",
         "[[-2.45812407e-04]\n [-2.45812407e-04]\n [-9.79101867e-04]\n ...\n [ 3.96097094e-01]\n [ 2.58238703e-01]\n [ 1.00948118e-01]]",
         "2",
         "0.53705454"
        ],
        [
         "15",
         "2m_5366.wav",
         "/Users/kaispeidel/Downloads/DeepLearning/Train/2m_5366.wav",
         "2m_5366",
         "2",
         "m",
         "[[-0.00343235]\n [-0.00765768]\n [-0.00765768]\n ...\n [ 0.42332605]\n [ 0.34680063]\n [ 0.21299848]]",
         "3",
         "0.99770856"
        ],
        [
         "16",
         "3f_4940.wav",
         "/Users/kaispeidel/Downloads/DeepLearning/Train/3f_4940.wav",
         "3f_4940",
         "3",
         "f",
         "[[ 0.01912126]\n [ 0.0174008 ]\n [ 0.01611045]\n ...\n [-1.20800173]\n [-1.70607698]\n [-2.17619467]]",
         "5",
         "0.9027562"
        ],
        [
         "17",
         "4f_6674.wav",
         "/Users/kaispeidel/Downloads/DeepLearning/Train/4f_6674.wav",
         "4f_6674",
         "4",
         "f",
         "[[0.01161187]\n [0.00860953]\n [0.01161187]\n ...\n [4.12181997]\n [5.21091986]\n [4.68851233]]",
         "4",
         "0.96795183"
        ],
        [
         "18",
         "1m_1928.wav",
         "/Users/kaispeidel/Downloads/DeepLearning/Train/1m_1928.wav",
         "1m_1928",
         "1",
         "m",
         "[[-9.42893093e-04]\n [ 5.45571849e-04]\n [ 4.94168962e-05]\n ...\n [-1.53406179e+00]\n [-1.03150822e-01]\n [ 1.20421755e+00]]",
         "4",
         "0.9933083"
        ],
        [
         "19",
         "4f_7754.wav",
         "/Users/kaispeidel/Downloads/DeepLearning/Train/4f_7754.wav",
         "4f_7754",
         "4",
         "f",
         "[[ 4.56713402e-04]\n [ 1.21208921e-03]\n [ 1.21208921e-03]\n ...\n [-1.62851107e+00]\n [-1.52804625e+00]\n [-1.55335128e+00]]",
         "4",
         "0.76974565"
        ],
        [
         "20",
         "2m_8626.wav",
         "/Users/kaispeidel/Downloads/DeepLearning/Train/2m_8626.wav",
         "2m_8626",
         "2",
         "m",
         "[[-0.00690633]\n [-0.00468258]\n [-0.00512733]\n ...\n [ 0.00910468]\n [ 0.01043893]\n [ 0.00999418]]",
         "2",
         "0.3800208"
        ],
        [
         "21",
         "4f_6088.wav",
         "/Users/kaispeidel/Downloads/DeepLearning/Train/4f_6088.wav",
         "4f_6088",
         "4",
         "f",
         "[[2.56013102e-03]\n [2.21440545e-03]\n [4.85778583e-04]\n ...\n [9.73011315e-01]\n [1.73222435e+00]\n [2.34070110e+00]]",
         "2",
         "0.48567176"
        ],
        [
         "22",
         "4m_1598.wav",
         "/Users/kaispeidel/Downloads/DeepLearning/Train/4m_1598.wav",
         "4m_1598",
         "4",
         "m",
         "[[-0.05376391]\n [-0.05816337]\n [-0.05376391]\n ...\n [-0.09225921]\n [-0.09115934]\n [-0.06916203]]",
         "1",
         "0.9912369"
        ],
        [
         "23",
         "5m_5063.wav",
         "/Users/kaispeidel/Downloads/DeepLearning/Train/5m_5063.wav",
         "5m_5063",
         "5",
         "m",
         "[[ 0.00945253]\n [ 0.00945253]\n [ 0.01163252]\n ...\n [-1.23781395]\n [-1.09642589]\n [-1.09954023]]",
         "2",
         "0.6416337"
        ],
        [
         "24",
         "4m_6281.wav",
         "/Users/kaispeidel/Downloads/DeepLearning/Train/4m_6281.wav",
         "4m_6281",
         "4",
         "m",
         "[[-0.00771183]\n [-0.00835994]\n [-0.00641563]\n ...\n [ 0.03959972]\n [ 0.03635921]\n [ 0.04089593]]",
         "5",
         "0.9701054"
        ],
        [
         "25",
         "4m_9380.wav",
         "/Users/kaispeidel/Downloads/DeepLearning/Train/4m_9380.wav",
         "4m_9380",
         "4",
         "m",
         "[[ 7.52656837e-04]\n [ 7.52656837e-04]\n [ 7.52656837e-04]\n ...\n [-1.98013639e+00]\n [-1.24705577e+00]\n [-9.32259083e-01]]",
         "4",
         "0.98801607"
        ],
        [
         "26",
         "4m_1452.wav",
         "/Users/kaispeidel/Downloads/DeepLearning/Train/4m_1452.wav",
         "4m_1452",
         "4",
         "m",
         "[[ 5.56687883e-04]\n [-2.09955120e-04]\n [ 1.73366381e-04]\n ...\n [ 3.78128380e-01]\n [ 4.10710692e-01]\n [ 4.37159896e-01]]",
         "2",
         "0.92040056"
        ],
        [
         "27",
         "1f_8218.wav",
         "/Users/kaispeidel/Downloads/DeepLearning/Train/1f_8218.wav",
         "1f_8218",
         "1",
         "f",
         "[[-1.11366960e-03]\n [-3.73473449e-04]\n [-3.73473449e-04]\n ...\n [ 5.84381461e-01]\n [ 6.49148643e-01]\n [ 7.81643748e-01]]",
         "4",
         "0.7965032"
        ],
        [
         "28",
         "1f_3854.wav",
         "/Users/kaispeidel/Downloads/DeepLearning/Train/1f_3854.wav",
         "1f_3854",
         "1",
         "f",
         "[[-0.02147174]\n [-0.0191582 ]\n [-0.0191582 ]\n ...\n [-0.3044942 ]\n [-0.14717381]\n [-0.05000533]]",
         "1",
         "0.9973211"
        ],
        [
         "29",
         "5f_2207.wav",
         "/Users/kaispeidel/Downloads/DeepLearning/Train/5f_2207.wav",
         "5f_2207",
         "5",
         "f",
         "[[ 0.00508921]\n [ 0.00352265]\n [ 0.00665577]\n ...\n [-0.2439936 ]\n [ 0.03602874]\n [ 0.22793217]]",
         "3",
         "0.82363194"
        ],
        [
         "30",
         "1f_2182.wav",
         "/Users/kaispeidel/Downloads/DeepLearning/Train/1f_2182.wav",
         "1f_2182",
         "1",
         "f",
         "[[ 0.00065587]\n [ 0.00065587]\n [ 0.00065587]\n ...\n [-0.00791802]\n [-0.00475922]\n [-0.0038567 ]]",
         "5",
         "0.9044815"
        ],
        [
         "31",
         "2f_9607.wav",
         "/Users/kaispeidel/Downloads/DeepLearning/Train/2f_9607.wav",
         "2f_9607",
         "2",
         "f",
         "[[-1.40646880e-03]\n [-1.40646880e-03]\n [-1.40646880e-03]\n ...\n [ 2.70458579e+00]\n [ 2.09775257e+00]\n [ 1.20477521e+00]]",
         "5",
         "0.9957975"
        ],
        [
         "32",
         "2f_2444.wav",
         "/Users/kaispeidel/Downloads/DeepLearning/Train/2f_2444.wav",
         "2f_2444",
         "2",
         "f",
         "[[ 0.00453275]\n [ 0.0030853 ]\n [ 0.00417088]\n ...\n [-0.44019577]\n [-1.19286883]\n [-2.22128081]]",
         "2",
         "0.48306897"
        ],
        [
         "33",
         "1f_5299.wav",
         "/Users/kaispeidel/Downloads/DeepLearning/Train/1f_5299.wav",
         "1f_5299",
         "1",
         "f",
         "[[ 0.0008342 ]\n [-0.00056307]\n [ 0.0008342 ]\n ...\n [ 0.00316296]\n [ 0.00688899]\n [ 0.00595749]]",
         "4",
         "0.41295454"
        ],
        [
         "34",
         "4f_6720.wav",
         "/Users/kaispeidel/Downloads/DeepLearning/Train/4f_6720.wav",
         "4f_6720",
         "4",
         "f",
         "[[-0.00474377]\n [-0.00149042]\n [-0.00149042]\n ...\n [ 0.91487026]\n [ 0.4653655 ]\n [ 0.3276403 ]]",
         "3",
         "0.9999718"
        ],
        [
         "35",
         "4m_5325.wav",
         "/Users/kaispeidel/Downloads/DeepLearning/Train/4m_5325.wav",
         "4m_5325",
         "4",
         "m",
         "[[ 6.30714523e-04]\n [ 2.21103823e-04]\n [ 6.30714523e-04]\n ...\n [-4.77384955e-01]\n [-3.99968535e-01]\n [-2.53737509e-01]]",
         "5",
         "0.99954945"
        ],
        [
         "36",
         "1f_7454.wav",
         "/Users/kaispeidel/Downloads/DeepLearning/Train/1f_7454.wav",
         "1f_7454",
         "1",
         "f",
         "[[-0.00023259]\n [-0.00023259]\n [-0.00023259]\n ...\n [ 0.00187345]\n [ 0.00247517]\n [ 0.00217431]]",
         "4",
         "0.6706306"
        ],
        [
         "37",
         "3m_8790.wav",
         "/Users/kaispeidel/Downloads/DeepLearning/Train/3m_8790.wav",
         "3m_8790",
         "3",
         "m",
         "[[ 2.18486995e-04]\n [-4.35135327e-04]\n [-4.35135327e-04]\n ...\n [ 5.35535157e-01]\n [ 6.17564738e-01]\n [ 6.47958219e-01]]",
         "4",
         "0.4588511"
        ],
        [
         "38",
         "4m_7504.wav",
         "/Users/kaispeidel/Downloads/DeepLearning/Train/4m_7504.wav",
         "4m_7504",
         "4",
         "m",
         "[[ 1.33850728e-03]\n [ 2.11876608e-03]\n [-6.12139585e-04]\n ...\n [ 1.00475132e+00]\n [-7.34055400e-01]\n [-5.74102342e-01]]",
         "5",
         "0.5058656"
        ],
        [
         "39",
         "1f_1082.wav",
         "/Users/kaispeidel/Downloads/DeepLearning/Train/1f_1082.wav",
         "1f_1082",
         "1",
         "f",
         "[[ 0.00333598]\n [-0.00041202]\n [ 0.00108718]\n ...\n [-0.00041202]\n [-0.00266081]\n [-0.0056592 ]]",
         "4",
         "0.6208447"
        ],
        [
         "40",
         "3m_6691.wav",
         "/Users/kaispeidel/Downloads/DeepLearning/Train/3m_6691.wav",
         "3m_6691",
         "3",
         "m",
         "[[0.01932576]\n [0.02250463]\n [0.02250463]\n ...\n [2.61464143]\n [2.75451159]\n [2.84806108]]",
         "3",
         "0.58727896"
        ],
        [
         "41",
         "3m_3382.wav",
         "/Users/kaispeidel/Downloads/DeepLearning/Train/3m_3382.wav",
         "3m_3382",
         "3",
         "m",
         "[[-0.02076804]\n [-0.02634909]\n [-0.0293933 ]\n ...\n [ 1.05637538]\n [ 1.07159638]\n [ 0.82298583]]",
         "4",
         "0.47002128"
        ],
        [
         "42",
         "1f_7577.wav",
         "/Users/kaispeidel/Downloads/DeepLearning/Train/1f_7577.wav",
         "1f_7577",
         "1",
         "f",
         "[[-0.00041452]\n [-0.00041452]\n [-0.00041452]\n ...\n [ 0.07785714]\n [ 0.02751155]\n [-0.02047409]]",
         "2",
         "0.96571404"
        ],
        [
         "43",
         "4f_2773.wav",
         "/Users/kaispeidel/Downloads/DeepLearning/Train/4f_2773.wav",
         "4f_2773",
         "4",
         "f",
         "[[ 0.00251945]\n [ 0.00251945]\n [ 0.00398241]\n ...\n [-2.35138369]\n [-2.08317423]\n [-1.82179201]]",
         "3",
         "0.99570155"
        ],
        [
         "44",
         "4m_6566.wav",
         "/Users/kaispeidel/Downloads/DeepLearning/Train/4m_6566.wav",
         "4m_6566",
         "4",
         "m",
         "[[-0.00263437]\n [-0.0003556 ]\n [-0.0003556 ]\n ...\n [ 0.00116359]\n [ 0.00116359]\n [ 0.00078379]]",
         "4",
         "0.65286076"
        ],
        [
         "45",
         "4f_1052.wav",
         "/Users/kaispeidel/Downloads/DeepLearning/Train/4f_1052.wav",
         "4f_1052",
         "4",
         "f",
         "[[ 0.00938673]\n [ 0.00994452]\n [ 0.0110601 ]\n ...\n [-1.20269001]\n [-1.21217251]\n [-1.25791121]]",
         "2",
         "0.91779536"
        ],
        [
         "46",
         "2m_2699.wav",
         "/Users/kaispeidel/Downloads/DeepLearning/Train/2m_2699.wav",
         "2m_2699",
         "2",
         "m",
         "[[ 0.00204315]\n [ 0.00338351]\n [ 0.00177508]\n ...\n [-0.09633886]\n [ 0.03555201]\n [ 0.2668972 ]]",
         "5",
         "0.9921372"
        ],
        [
         "47",
         "3f_7569.wav",
         "/Users/kaispeidel/Downloads/DeepLearning/Train/3f_7569.wav",
         "3f_7569",
         "3",
         "f",
         "[[ 0.00051593]\n [ 0.00010349]\n [-0.0007214 ]\n ...\n [ 0.01618873]\n [ 0.01825093]\n [ 0.01701361]]",
         "2",
         "0.999509"
        ],
        [
         "48",
         "4m_6413.wav",
         "/Users/kaispeidel/Downloads/DeepLearning/Train/4m_6413.wav",
         "4m_6413",
         "4",
         "m",
         "[[0.0054101 ]\n [0.00240565]\n [0.00390787]\n ...\n [1.39872062]\n [1.44679177]\n [1.54556286]]",
         "4",
         "0.49370953"
        ],
        [
         "49",
         "3m_3335.wav",
         "/Users/kaispeidel/Downloads/DeepLearning/Train/3m_3335.wav",
         "3m_3335",
         "3",
         "m",
         "[[0.00298763]\n [0.00161024]\n [0.00206937]\n ...\n [0.04063627]\n [0.04017714]\n [0.03374933]]",
         "4",
         "0.38654986"
        ]
       ],
       "shape": {
        "columns": 8,
        "rows": 475
       }
      },
      "text/html": [
       "<div>\n",
       "<style scoped>\n",
       "    .dataframe tbody tr th:only-of-type {\n",
       "        vertical-align: middle;\n",
       "    }\n",
       "\n",
       "    .dataframe tbody tr th {\n",
       "        vertical-align: top;\n",
       "    }\n",
       "\n",
       "    .dataframe thead th {\n",
       "        text-align: right;\n",
       "    }\n",
       "</style>\n",
       "<table border=\"1\" class=\"dataframe\">\n",
       "  <thead>\n",
       "    <tr style=\"text-align: right;\">\n",
       "      <th></th>\n",
       "      <th>file</th>\n",
       "      <th>file_path</th>\n",
       "      <th>file_name</th>\n",
       "      <th>accent</th>\n",
       "      <th>gender</th>\n",
       "      <th>audio_array</th>\n",
       "      <th>predicted_accent</th>\n",
       "      <th>prediction_confidence</th>\n",
       "    </tr>\n",
       "  </thead>\n",
       "  <tbody>\n",
       "    <tr>\n",
       "      <th>0</th>\n",
       "      <td>5f_8431.wav</td>\n",
       "      <td>/Users/kaispeidel/Downloads/DeepLearning/Train...</td>\n",
       "      <td>5f_8431</td>\n",
       "      <td>5</td>\n",
       "      <td>f</td>\n",
       "      <td>[[-0.0007164341513998806], [-7.327915955102071...</td>\n",
       "      <td>2</td>\n",
       "      <td>0.816028</td>\n",
       "    </tr>\n",
       "    <tr>\n",
       "      <th>1</th>\n",
       "      <td>5f_3560.wav</td>\n",
       "      <td>/Users/kaispeidel/Downloads/DeepLearning/Train...</td>\n",
       "      <td>5f_3560</td>\n",
       "      <td>5</td>\n",
       "      <td>f</td>\n",
       "      <td>[[-0.006885554175823927], [-0.0068855541758239...</td>\n",
       "      <td>4</td>\n",
       "      <td>0.729837</td>\n",
       "    </tr>\n",
       "    <tr>\n",
       "      <th>2</th>\n",
       "      <td>4f_9833.wav</td>\n",
       "      <td>/Users/kaispeidel/Downloads/DeepLearning/Train...</td>\n",
       "      <td>4f_9833</td>\n",
       "      <td>4</td>\n",
       "      <td>f</td>\n",
       "      <td>[[0.0010449393885210156], [0.00420673191547393...</td>\n",
       "      <td>4</td>\n",
       "      <td>0.665087</td>\n",
       "    </tr>\n",
       "    <tr>\n",
       "      <th>3</th>\n",
       "      <td>1f_9293.wav</td>\n",
       "      <td>/Users/kaispeidel/Downloads/DeepLearning/Train...</td>\n",
       "      <td>1f_9293</td>\n",
       "      <td>1</td>\n",
       "      <td>f</td>\n",
       "      <td>[[-0.004357101861387491], [-0.0056317741982638...</td>\n",
       "      <td>4</td>\n",
       "      <td>0.630621</td>\n",
       "    </tr>\n",
       "    <tr>\n",
       "      <th>4</th>\n",
       "      <td>2f_8352.wav</td>\n",
       "      <td>/Users/kaispeidel/Downloads/DeepLearning/Train...</td>\n",
       "      <td>2f_8352</td>\n",
       "      <td>2</td>\n",
       "      <td>f</td>\n",
       "      <td>[[-0.0011133668012917042], [-0.001574276597239...</td>\n",
       "      <td>5</td>\n",
       "      <td>0.403265</td>\n",
       "    </tr>\n",
       "    <tr>\n",
       "      <th>...</th>\n",
       "      <td>...</td>\n",
       "      <td>...</td>\n",
       "      <td>...</td>\n",
       "      <td>...</td>\n",
       "      <td>...</td>\n",
       "      <td>...</td>\n",
       "      <td>...</td>\n",
       "      <td>...</td>\n",
       "    </tr>\n",
       "    <tr>\n",
       "      <th>470</th>\n",
       "      <td>4m_7980.wav</td>\n",
       "      <td>/Users/kaispeidel/Downloads/DeepLearning/Train...</td>\n",
       "      <td>4m_7980</td>\n",
       "      <td>4</td>\n",
       "      <td>m</td>\n",
       "      <td>[[0.0014999943086877465], [0.00096733926329761...</td>\n",
       "      <td>4</td>\n",
       "      <td>0.862518</td>\n",
       "    </tr>\n",
       "    <tr>\n",
       "      <th>471</th>\n",
       "      <td>3m_7926.wav</td>\n",
       "      <td>/Users/kaispeidel/Downloads/DeepLearning/Train...</td>\n",
       "      <td>3m_7926</td>\n",
       "      <td>3</td>\n",
       "      <td>m</td>\n",
       "      <td>[[-0.001725443871691823], [-0.0028165169060230...</td>\n",
       "      <td>4</td>\n",
       "      <td>0.965305</td>\n",
       "    </tr>\n",
       "    <tr>\n",
       "      <th>472</th>\n",
       "      <td>3f_7895.wav</td>\n",
       "      <td>/Users/kaispeidel/Downloads/DeepLearning/Train...</td>\n",
       "      <td>3f_7895</td>\n",
       "      <td>3</td>\n",
       "      <td>f</td>\n",
       "      <td>[[-0.006140249315649271], [-0.0061402493156492...</td>\n",
       "      <td>4</td>\n",
       "      <td>0.960227</td>\n",
       "    </tr>\n",
       "    <tr>\n",
       "      <th>473</th>\n",
       "      <td>5f_7459.wav</td>\n",
       "      <td>/Users/kaispeidel/Downloads/DeepLearning/Train...</td>\n",
       "      <td>5f_7459</td>\n",
       "      <td>5</td>\n",
       "      <td>f</td>\n",
       "      <td>[[0.0005547950277104974], [0.00203530327416956...</td>\n",
       "      <td>2</td>\n",
       "      <td>0.622169</td>\n",
       "    </tr>\n",
       "    <tr>\n",
       "      <th>474</th>\n",
       "      <td>3f_9944.wav</td>\n",
       "      <td>/Users/kaispeidel/Downloads/DeepLearning/Train...</td>\n",
       "      <td>3f_9944</td>\n",
       "      <td>3</td>\n",
       "      <td>f</td>\n",
       "      <td>[[0.0005391551530919969], [0.00053915515309199...</td>\n",
       "      <td>4</td>\n",
       "      <td>0.585987</td>\n",
       "    </tr>\n",
       "  </tbody>\n",
       "</table>\n",
       "<p>475 rows × 8 columns</p>\n",
       "</div>"
      ],
      "text/plain": [
       "            file                                          file_path file_name  \\\n",
       "0    5f_8431.wav  /Users/kaispeidel/Downloads/DeepLearning/Train...   5f_8431   \n",
       "1    5f_3560.wav  /Users/kaispeidel/Downloads/DeepLearning/Train...   5f_3560   \n",
       "2    4f_9833.wav  /Users/kaispeidel/Downloads/DeepLearning/Train...   4f_9833   \n",
       "3    1f_9293.wav  /Users/kaispeidel/Downloads/DeepLearning/Train...   1f_9293   \n",
       "4    2f_8352.wav  /Users/kaispeidel/Downloads/DeepLearning/Train...   2f_8352   \n",
       "..           ...                                                ...       ...   \n",
       "470  4m_7980.wav  /Users/kaispeidel/Downloads/DeepLearning/Train...   4m_7980   \n",
       "471  3m_7926.wav  /Users/kaispeidel/Downloads/DeepLearning/Train...   3m_7926   \n",
       "472  3f_7895.wav  /Users/kaispeidel/Downloads/DeepLearning/Train...   3f_7895   \n",
       "473  5f_7459.wav  /Users/kaispeidel/Downloads/DeepLearning/Train...   5f_7459   \n",
       "474  3f_9944.wav  /Users/kaispeidel/Downloads/DeepLearning/Train...   3f_9944   \n",
       "\n",
       "    accent gender                                        audio_array  \\\n",
       "0        5      f  [[-0.0007164341513998806], [-7.327915955102071...   \n",
       "1        5      f  [[-0.006885554175823927], [-0.0068855541758239...   \n",
       "2        4      f  [[0.0010449393885210156], [0.00420673191547393...   \n",
       "3        1      f  [[-0.004357101861387491], [-0.0056317741982638...   \n",
       "4        2      f  [[-0.0011133668012917042], [-0.001574276597239...   \n",
       "..     ...    ...                                                ...   \n",
       "470      4      m  [[0.0014999943086877465], [0.00096733926329761...   \n",
       "471      3      m  [[-0.001725443871691823], [-0.0028165169060230...   \n",
       "472      3      f  [[-0.006140249315649271], [-0.0061402493156492...   \n",
       "473      5      f  [[0.0005547950277104974], [0.00203530327416956...   \n",
       "474      3      f  [[0.0005391551530919969], [0.00053915515309199...   \n",
       "\n",
       "     predicted_accent  prediction_confidence  \n",
       "0                   2               0.816028  \n",
       "1                   4               0.729837  \n",
       "2                   4               0.665087  \n",
       "3                   4               0.630621  \n",
       "4                   5               0.403265  \n",
       "..                ...                    ...  \n",
       "470                 4               0.862518  \n",
       "471                 4               0.965305  \n",
       "472                 4               0.960227  \n",
       "473                 2               0.622169  \n",
       "474                 4               0.585987  \n",
       "\n",
       "[475 rows x 8 columns]"
      ]
     },
     "execution_count": 47,
     "metadata": {},
     "output_type": "execute_result"
    }
   ],
   "source": [
    "test_set_df"
   ]
  },
  {
   "cell_type": "code",
   "execution_count": 12,
   "id": "4375419e",
   "metadata": {},
   "outputs": [
    {
     "data": {
      "text/plain": [
       "<Figure size 1500x1000 with 0 Axes>"
      ]
     },
     "execution_count": 12,
     "metadata": {},
     "output_type": "execute_result"
    },
    {
     "data": {
      "text/plain": [
       "<Axes: >"
      ]
     },
     "execution_count": 12,
     "metadata": {},
     "output_type": "execute_result"
    },
    {
     "data": {
      "text/plain": [
       "[<matplotlib.lines.Line2D at 0x32515bcd0>]"
      ]
     },
     "execution_count": 12,
     "metadata": {},
     "output_type": "execute_result"
    },
    {
     "data": {
      "text/plain": [
       "Text(0.5, 1.0, 'accent: 2, gender: m')"
      ]
     },
     "execution_count": 12,
     "metadata": {},
     "output_type": "execute_result"
    },
    {
     "data": {
      "text/plain": [
       "(-1.0, 1.0)"
      ]
     },
     "execution_count": 12,
     "metadata": {},
     "output_type": "execute_result"
    },
    {
     "data": {
      "text/plain": [
       "<matplotlib.lines.Line2D at 0x32519d9d0>"
      ]
     },
     "execution_count": 12,
     "metadata": {},
     "output_type": "execute_result"
    },
    {
     "data": {
      "text/plain": [
       "<Axes: >"
      ]
     },
     "execution_count": 12,
     "metadata": {},
     "output_type": "execute_result"
    },
    {
     "data": {
      "text/plain": [
       "[<matplotlib.lines.Line2D at 0x325b4fd10>]"
      ]
     },
     "execution_count": 12,
     "metadata": {},
     "output_type": "execute_result"
    },
    {
     "data": {
      "text/plain": [
       "Text(0.5, 1.0, 'accent: 4, gender: f')"
      ]
     },
     "execution_count": 12,
     "metadata": {},
     "output_type": "execute_result"
    },
    {
     "data": {
      "text/plain": [
       "(-1.0, 1.0)"
      ]
     },
     "execution_count": 12,
     "metadata": {},
     "output_type": "execute_result"
    },
    {
     "data": {
      "text/plain": [
       "<matplotlib.lines.Line2D at 0x32578d9d0>"
      ]
     },
     "execution_count": 12,
     "metadata": {},
     "output_type": "execute_result"
    },
    {
     "data": {
      "text/plain": [
       "<Axes: >"
      ]
     },
     "execution_count": 12,
     "metadata": {},
     "output_type": "execute_result"
    },
    {
     "data": {
      "text/plain": [
       "[<matplotlib.lines.Line2D at 0x325b6fc10>]"
      ]
     },
     "execution_count": 12,
     "metadata": {},
     "output_type": "execute_result"
    },
    {
     "data": {
      "text/plain": [
       "Text(0.5, 1.0, 'accent: 1, gender: f')"
      ]
     },
     "execution_count": 12,
     "metadata": {},
     "output_type": "execute_result"
    },
    {
     "data": {
      "text/plain": [
       "(-1.0, 1.0)"
      ]
     },
     "execution_count": 12,
     "metadata": {},
     "output_type": "execute_result"
    },
    {
     "data": {
      "text/plain": [
       "<matplotlib.lines.Line2D at 0x32521d9d0>"
      ]
     },
     "execution_count": 12,
     "metadata": {},
     "output_type": "execute_result"
    },
    {
     "data": {
      "text/plain": [
       "<Axes: >"
      ]
     },
     "execution_count": 12,
     "metadata": {},
     "output_type": "execute_result"
    },
    {
     "data": {
      "text/plain": [
       "[<matplotlib.lines.Line2D at 0x325bb1850>]"
      ]
     },
     "execution_count": 12,
     "metadata": {},
     "output_type": "execute_result"
    },
    {
     "data": {
      "text/plain": [
       "Text(0.5, 1.0, 'accent: 3, gender: f')"
      ]
     },
     "execution_count": 12,
     "metadata": {},
     "output_type": "execute_result"
    },
    {
     "data": {
      "text/plain": [
       "(-1.0, 1.0)"
      ]
     },
     "execution_count": 12,
     "metadata": {},
     "output_type": "execute_result"
    },
    {
     "data": {
      "text/plain": [
       "<matplotlib.lines.Line2D at 0x325bba590>"
      ]
     },
     "execution_count": 12,
     "metadata": {},
     "output_type": "execute_result"
    },
    {
     "data": {
      "text/plain": [
       "<Axes: >"
      ]
     },
     "execution_count": 12,
     "metadata": {},
     "output_type": "execute_result"
    },
    {
     "data": {
      "text/plain": [
       "[<matplotlib.lines.Line2D at 0x325bcf850>]"
      ]
     },
     "execution_count": 12,
     "metadata": {},
     "output_type": "execute_result"
    },
    {
     "data": {
      "text/plain": [
       "Text(0.5, 1.0, 'accent: 5, gender: f')"
      ]
     },
     "execution_count": 12,
     "metadata": {},
     "output_type": "execute_result"
    },
    {
     "data": {
      "text/plain": [
       "(-1.0, 1.0)"
      ]
     },
     "execution_count": 12,
     "metadata": {},
     "output_type": "execute_result"
    },
    {
     "data": {
      "text/plain": [
       "<matplotlib.lines.Line2D at 0x325bf6e10>"
      ]
     },
     "execution_count": 12,
     "metadata": {},
     "output_type": "execute_result"
    },
    {
     "data": {
      "image/png": "[encoded data removed]",
      "text/plain": [
       "<Figure size 1500x1000 with 5 Axes>"
      ]
     },
     "metadata": {},
     "output_type": "display_data"
    }
   ],
   "source": [
    "#* visualize raw waveforms from different accents\n",
    "plt.figure(figsize=(15, 10))\n",
    "\n",
    "#* plot one example per accent\n",
    "for i, accent in enumerate(train_df['accent'].unique()):\n",
    "    #* get one sample from this accent\n",
    "    sample = train_df[train_df['accent'] == accent].sample(1).iloc[0]\n",
    "    audio, sr = librosa.load(sample['file_path'], sr=16000)  # Fixed: use consistent sr=16000\n",
    "    \n",
    "    #* normalize for visualization\n",
    "    audio = audio / np.max(np.abs(audio))\n",
    "    \n",
    "    #* plot waveform\n",
    "    plt.subplot(len(train_df['accent'].unique()), 1, i+1)\n",
    "    plt.plot(audio)\n",
    "    plt.title(f\"accent: {sample['accent']}, gender: {sample['gender']}\")\n",
    "    plt.ylim([-1, 1])\n",
    "    \n",
    "    #* add vertical line at 1 second (16000 samples at 16kHz)\n",
    "    if len(audio) > 16000:\n",
    "        plt.axvline(x=16000, color='r', linestyle='--', label='1 second')\n",
    "\n",
    "plt.tight_layout()\n",
    "plt.savefig('raw_audio_waveforms.png', dpi=300, bbox_inches='tight')\n",
    "plt.show()"
   ]
  },
  {
   "cell_type": "markdown",
   "id": "7c1a3119",
   "metadata": {},
   "source": [
    "### 1D CNN "
   ]
  },
  {
   "cell_type": "code",
   "execution_count": 21,
   "id": "c53399b9",
   "metadata": {},
   "outputs": [
    {
     "name": "stderr",
     "output_type": "stream",
     "text": [
      "/opt/homebrew/lib/python3.11/site-packages/keras/src/layers/convolutional/base_conv.py:107: UserWarning: Do not pass an `input_shape`/`input_dim` argument to a layer. When using Sequential models, prefer using an `Input(shape)` object as the first layer in the model instead.\n",
      "  super().__init__(activity_regularizer=activity_regularizer, **kwargs)\n",
      "/opt/homebrew/lib/python3.11/site-packages/keras/src/layers/activations/leaky_relu.py:41: UserWarning: Argument `alpha` is deprecated. Use `negative_slope` instead.\n",
      "  warnings.warn(\n"
     ]
    },
    {
     "data": {
      "text/html": [
       "<pre style=\"white-space:pre;overflow-x:auto;line-height:normal;font-family:Menlo,'DejaVu Sans Mono',consolas,'Courier New',monospace\"><span style=\"font-weight: bold\">Model: \"sequential_1\"</span>\n",
       "</pre>\n"
      ],
      "text/plain": [
       "\u001b[1mModel: \"sequential_1\"\u001b[0m\n"
      ]
     },
     "metadata": {},
     "output_type": "display_data"
    },
    {
     "data": {
      "text/html": [
       "<pre style=\"white-space:pre;overflow-x:auto;line-height:normal;font-family:Menlo,'DejaVu Sans Mono',consolas,'Courier New',monospace\">┏━━━━━━━━━━━━━━━━━━━━━━━━━━━━━━━━━┳━━━━━━━━━━━━━━━━━━━━━━━━┳━━━━━━━━━━━━━━━┓\n",
       "┃<span style=\"font-weight: bold\"> Layer (type)                    </span>┃<span style=\"font-weight: bold\"> Output Shape           </span>┃<span style=\"font-weight: bold\">       Param # </span>┃\n",
       "┡━━━━━━━━━━━━━━━━━━━━━━━━━━━━━━━━━╇━━━━━━━━━━━━━━━━━━━━━━━━╇━━━━━━━━━━━━━━━┩\n",
       "│ conv1d_4 (<span style=\"color: #0087ff; text-decoration-color: #0087ff\">Conv1D</span>)               │ (<span style=\"color: #00d7ff; text-decoration-color: #00d7ff\">None</span>, <span style=\"color: #00af00; text-decoration-color: #00af00\">8000</span>, <span style=\"color: #00af00; text-decoration-color: #00af00\">16</span>)       │         <span style=\"color: #00af00; text-decoration-color: #00af00\">1,040</span> │\n",
       "├─────────────────────────────────┼────────────────────────┼───────────────┤\n",
       "│ leaky_re_lu (<span style=\"color: #0087ff; text-decoration-color: #0087ff\">LeakyReLU</span>)         │ (<span style=\"color: #00d7ff; text-decoration-color: #00d7ff\">None</span>, <span style=\"color: #00af00; text-decoration-color: #00af00\">8000</span>, <span style=\"color: #00af00; text-decoration-color: #00af00\">16</span>)       │             <span style=\"color: #00af00; text-decoration-color: #00af00\">0</span> │\n",
       "├─────────────────────────────────┼────────────────────────┼───────────────┤\n",
       "│ max_pooling1d_4 (<span style=\"color: #0087ff; text-decoration-color: #0087ff\">MaxPooling1D</span>)  │ (<span style=\"color: #00d7ff; text-decoration-color: #00d7ff\">None</span>, <span style=\"color: #00af00; text-decoration-color: #00af00\">1000</span>, <span style=\"color: #00af00; text-decoration-color: #00af00\">16</span>)       │             <span style=\"color: #00af00; text-decoration-color: #00af00\">0</span> │\n",
       "├─────────────────────────────────┼────────────────────────┼───────────────┤\n",
       "│ batch_normalization_4           │ (<span style=\"color: #00d7ff; text-decoration-color: #00d7ff\">None</span>, <span style=\"color: #00af00; text-decoration-color: #00af00\">1000</span>, <span style=\"color: #00af00; text-decoration-color: #00af00\">16</span>)       │            <span style=\"color: #00af00; text-decoration-color: #00af00\">64</span> │\n",
       "│ (<span style=\"color: #0087ff; text-decoration-color: #0087ff\">BatchNormalization</span>)            │                        │               │\n",
       "├─────────────────────────────────┼────────────────────────┼───────────────┤\n",
       "│ conv1d_5 (<span style=\"color: #0087ff; text-decoration-color: #0087ff\">Conv1D</span>)               │ (<span style=\"color: #00d7ff; text-decoration-color: #00d7ff\">None</span>, <span style=\"color: #00af00; text-decoration-color: #00af00\">500</span>, <span style=\"color: #00af00; text-decoration-color: #00af00\">32</span>)        │        <span style=\"color: #00af00; text-decoration-color: #00af00\">16,416</span> │\n",
       "├─────────────────────────────────┼────────────────────────┼───────────────┤\n",
       "│ leaky_re_lu_1 (<span style=\"color: #0087ff; text-decoration-color: #0087ff\">LeakyReLU</span>)       │ (<span style=\"color: #00d7ff; text-decoration-color: #00d7ff\">None</span>, <span style=\"color: #00af00; text-decoration-color: #00af00\">500</span>, <span style=\"color: #00af00; text-decoration-color: #00af00\">32</span>)        │             <span style=\"color: #00af00; text-decoration-color: #00af00\">0</span> │\n",
       "├─────────────────────────────────┼────────────────────────┼───────────────┤\n",
       "│ max_pooling1d_5 (<span style=\"color: #0087ff; text-decoration-color: #0087ff\">MaxPooling1D</span>)  │ (<span style=\"color: #00d7ff; text-decoration-color: #00d7ff\">None</span>, <span style=\"color: #00af00; text-decoration-color: #00af00\">125</span>, <span style=\"color: #00af00; text-decoration-color: #00af00\">32</span>)        │             <span style=\"color: #00af00; text-decoration-color: #00af00\">0</span> │\n",
       "├─────────────────────────────────┼────────────────────────┼───────────────┤\n",
       "│ batch_normalization_5           │ (<span style=\"color: #00d7ff; text-decoration-color: #00d7ff\">None</span>, <span style=\"color: #00af00; text-decoration-color: #00af00\">125</span>, <span style=\"color: #00af00; text-decoration-color: #00af00\">32</span>)        │           <span style=\"color: #00af00; text-decoration-color: #00af00\">128</span> │\n",
       "│ (<span style=\"color: #0087ff; text-decoration-color: #0087ff\">BatchNormalization</span>)            │                        │               │\n",
       "├─────────────────────────────────┼────────────────────────┼───────────────┤\n",
       "│ conv1d_6 (<span style=\"color: #0087ff; text-decoration-color: #0087ff\">Conv1D</span>)               │ (<span style=\"color: #00d7ff; text-decoration-color: #00d7ff\">None</span>, <span style=\"color: #00af00; text-decoration-color: #00af00\">63</span>, <span style=\"color: #00af00; text-decoration-color: #00af00\">64</span>)         │        <span style=\"color: #00af00; text-decoration-color: #00af00\">32,832</span> │\n",
       "├─────────────────────────────────┼────────────────────────┼───────────────┤\n",
       "│ leaky_re_lu_2 (<span style=\"color: #0087ff; text-decoration-color: #0087ff\">LeakyReLU</span>)       │ (<span style=\"color: #00d7ff; text-decoration-color: #00d7ff\">None</span>, <span style=\"color: #00af00; text-decoration-color: #00af00\">63</span>, <span style=\"color: #00af00; text-decoration-color: #00af00\">64</span>)         │             <span style=\"color: #00af00; text-decoration-color: #00af00\">0</span> │\n",
       "├─────────────────────────────────┼────────────────────────┼───────────────┤\n",
       "│ max_pooling1d_6 (<span style=\"color: #0087ff; text-decoration-color: #0087ff\">MaxPooling1D</span>)  │ (<span style=\"color: #00d7ff; text-decoration-color: #00d7ff\">None</span>, <span style=\"color: #00af00; text-decoration-color: #00af00\">15</span>, <span style=\"color: #00af00; text-decoration-color: #00af00\">64</span>)         │             <span style=\"color: #00af00; text-decoration-color: #00af00\">0</span> │\n",
       "├─────────────────────────────────┼────────────────────────┼───────────────┤\n",
       "│ batch_normalization_6           │ (<span style=\"color: #00d7ff; text-decoration-color: #00d7ff\">None</span>, <span style=\"color: #00af00; text-decoration-color: #00af00\">15</span>, <span style=\"color: #00af00; text-decoration-color: #00af00\">64</span>)         │           <span style=\"color: #00af00; text-decoration-color: #00af00\">256</span> │\n",
       "│ (<span style=\"color: #0087ff; text-decoration-color: #0087ff\">BatchNormalization</span>)            │                        │               │\n",
       "├─────────────────────────────────┼────────────────────────┼───────────────┤\n",
       "│ conv1d_7 (<span style=\"color: #0087ff; text-decoration-color: #0087ff\">Conv1D</span>)               │ (<span style=\"color: #00d7ff; text-decoration-color: #00d7ff\">None</span>, <span style=\"color: #00af00; text-decoration-color: #00af00\">15</span>, <span style=\"color: #00af00; text-decoration-color: #00af00\">128</span>)        │        <span style=\"color: #00af00; text-decoration-color: #00af00\">65,664</span> │\n",
       "├─────────────────────────────────┼────────────────────────┼───────────────┤\n",
       "│ leaky_re_lu_3 (<span style=\"color: #0087ff; text-decoration-color: #0087ff\">LeakyReLU</span>)       │ (<span style=\"color: #00d7ff; text-decoration-color: #00d7ff\">None</span>, <span style=\"color: #00af00; text-decoration-color: #00af00\">15</span>, <span style=\"color: #00af00; text-decoration-color: #00af00\">128</span>)        │             <span style=\"color: #00af00; text-decoration-color: #00af00\">0</span> │\n",
       "├─────────────────────────────────┼────────────────────────┼───────────────┤\n",
       "│ max_pooling1d_7 (<span style=\"color: #0087ff; text-decoration-color: #0087ff\">MaxPooling1D</span>)  │ (<span style=\"color: #00d7ff; text-decoration-color: #00d7ff\">None</span>, <span style=\"color: #00af00; text-decoration-color: #00af00\">7</span>, <span style=\"color: #00af00; text-decoration-color: #00af00\">128</span>)         │             <span style=\"color: #00af00; text-decoration-color: #00af00\">0</span> │\n",
       "├─────────────────────────────────┼────────────────────────┼───────────────┤\n",
       "│ batch_normalization_7           │ (<span style=\"color: #00d7ff; text-decoration-color: #00d7ff\">None</span>, <span style=\"color: #00af00; text-decoration-color: #00af00\">7</span>, <span style=\"color: #00af00; text-decoration-color: #00af00\">128</span>)         │           <span style=\"color: #00af00; text-decoration-color: #00af00\">512</span> │\n",
       "│ (<span style=\"color: #0087ff; text-decoration-color: #0087ff\">BatchNormalization</span>)            │                        │               │\n",
       "├─────────────────────────────────┼────────────────────────┼───────────────┤\n",
       "│ flatten_1 (<span style=\"color: #0087ff; text-decoration-color: #0087ff\">Flatten</span>)             │ (<span style=\"color: #00d7ff; text-decoration-color: #00d7ff\">None</span>, <span style=\"color: #00af00; text-decoration-color: #00af00\">896</span>)            │             <span style=\"color: #00af00; text-decoration-color: #00af00\">0</span> │\n",
       "├─────────────────────────────────┼────────────────────────┼───────────────┤\n",
       "│ dense_2 (<span style=\"color: #0087ff; text-decoration-color: #0087ff\">Dense</span>)                 │ (<span style=\"color: #00d7ff; text-decoration-color: #00d7ff\">None</span>, <span style=\"color: #00af00; text-decoration-color: #00af00\">256</span>)            │       <span style=\"color: #00af00; text-decoration-color: #00af00\">229,632</span> │\n",
       "├─────────────────────────────────┼────────────────────────┼───────────────┤\n",
       "│ leaky_re_lu_4 (<span style=\"color: #0087ff; text-decoration-color: #0087ff\">LeakyReLU</span>)       │ (<span style=\"color: #00d7ff; text-decoration-color: #00d7ff\">None</span>, <span style=\"color: #00af00; text-decoration-color: #00af00\">256</span>)            │             <span style=\"color: #00af00; text-decoration-color: #00af00\">0</span> │\n",
       "├─────────────────────────────────┼────────────────────────┼───────────────┤\n",
       "│ dropout_1 (<span style=\"color: #0087ff; text-decoration-color: #0087ff\">Dropout</span>)             │ (<span style=\"color: #00d7ff; text-decoration-color: #00d7ff\">None</span>, <span style=\"color: #00af00; text-decoration-color: #00af00\">256</span>)            │             <span style=\"color: #00af00; text-decoration-color: #00af00\">0</span> │\n",
       "├─────────────────────────────────┼────────────────────────┼───────────────┤\n",
       "│ dense_3 (<span style=\"color: #0087ff; text-decoration-color: #0087ff\">Dense</span>)                 │ (<span style=\"color: #00d7ff; text-decoration-color: #00d7ff\">None</span>, <span style=\"color: #00af00; text-decoration-color: #00af00\">5</span>)              │         <span style=\"color: #00af00; text-decoration-color: #00af00\">1,285</span> │\n",
       "└─────────────────────────────────┴────────────────────────┴───────────────┘\n",
       "</pre>\n"
      ],
      "text/plain": [
       "┏━━━━━━━━━━━━━━━━━━━━━━━━━━━━━━━━━┳━━━━━━━━━━━━━━━━━━━━━━━━┳━━━━━━━━━━━━━━━┓\n",
       "┃\u001b[1m \u001b[0m\u001b[1mLayer (type)                   \u001b[0m\u001b[1m \u001b[0m┃\u001b[1m \u001b[0m\u001b[1mOutput Shape          \u001b[0m\u001b[1m \u001b[0m┃\u001b[1m \u001b[0m\u001b[1m      Param #\u001b[0m\u001b[1m \u001b[0m┃\n",
       "┡━━━━━━━━━━━━━━━━━━━━━━━━━━━━━━━━━╇━━━━━━━━━━━━━━━━━━━━━━━━╇━━━━━━━━━━━━━━━┩\n",
       "│ conv1d_4 (\u001b[38;5;33mConv1D\u001b[0m)               │ (\u001b[38;5;45mNone\u001b[0m, \u001b[38;5;34m8000\u001b[0m, \u001b[38;5;34m16\u001b[0m)       │         \u001b[38;5;34m1,040\u001b[0m │\n",
       "├─────────────────────────────────┼────────────────────────┼───────────────┤\n",
       "│ leaky_re_lu (\u001b[38;5;33mLeakyReLU\u001b[0m)         │ (\u001b[38;5;45mNone\u001b[0m, \u001b[38;5;34m8000\u001b[0m, \u001b[38;5;34m16\u001b[0m)       │             \u001b[38;5;34m0\u001b[0m │\n",
       "├─────────────────────────────────┼────────────────────────┼───────────────┤\n",
       "│ max_pooling1d_4 (\u001b[38;5;33mMaxPooling1D\u001b[0m)  │ (\u001b[38;5;45mNone\u001b[0m, \u001b[38;5;34m1000\u001b[0m, \u001b[38;5;34m16\u001b[0m)       │             \u001b[38;5;34m0\u001b[0m │\n",
       "├─────────────────────────────────┼────────────────────────┼───────────────┤\n",
       "│ batch_normalization_4           │ (\u001b[38;5;45mNone\u001b[0m, \u001b[38;5;34m1000\u001b[0m, \u001b[38;5;34m16\u001b[0m)       │            \u001b[38;5;34m64\u001b[0m │\n",
       "│ (\u001b[38;5;33mBatchNormalization\u001b[0m)            │                        │               │\n",
       "├─────────────────────────────────┼────────────────────────┼───────────────┤\n",
       "│ conv1d_5 (\u001b[38;5;33mConv1D\u001b[0m)               │ (\u001b[38;5;45mNone\u001b[0m, \u001b[38;5;34m500\u001b[0m, \u001b[38;5;34m32\u001b[0m)        │        \u001b[38;5;34m16,416\u001b[0m │\n",
       "├─────────────────────────────────┼────────────────────────┼───────────────┤\n",
       "│ leaky_re_lu_1 (\u001b[38;5;33mLeakyReLU\u001b[0m)       │ (\u001b[38;5;45mNone\u001b[0m, \u001b[38;5;34m500\u001b[0m, \u001b[38;5;34m32\u001b[0m)        │             \u001b[38;5;34m0\u001b[0m │\n",
       "├─────────────────────────────────┼────────────────────────┼───────────────┤\n",
       "│ max_pooling1d_5 (\u001b[38;5;33mMaxPooling1D\u001b[0m)  │ (\u001b[38;5;45mNone\u001b[0m, \u001b[38;5;34m125\u001b[0m, \u001b[38;5;34m32\u001b[0m)        │             \u001b[38;5;34m0\u001b[0m │\n",
       "├─────────────────────────────────┼────────────────────────┼───────────────┤\n",
       "│ batch_normalization_5           │ (\u001b[38;5;45mNone\u001b[0m, \u001b[38;5;34m125\u001b[0m, \u001b[38;5;34m32\u001b[0m)        │           \u001b[38;5;34m128\u001b[0m │\n",
       "│ (\u001b[38;5;33mBatchNormalization\u001b[0m)            │                        │               │\n",
       "├─────────────────────────────────┼────────────────────────┼───────────────┤\n",
       "│ conv1d_6 (\u001b[38;5;33mConv1D\u001b[0m)               │ (\u001b[38;5;45mNone\u001b[0m, \u001b[38;5;34m63\u001b[0m, \u001b[38;5;34m64\u001b[0m)         │        \u001b[38;5;34m32,832\u001b[0m │\n",
       "├─────────────────────────────────┼────────────────────────┼───────────────┤\n",
       "│ leaky_re_lu_2 (\u001b[38;5;33mLeakyReLU\u001b[0m)       │ (\u001b[38;5;45mNone\u001b[0m, \u001b[38;5;34m63\u001b[0m, \u001b[38;5;34m64\u001b[0m)         │             \u001b[38;5;34m0\u001b[0m │\n",
       "├─────────────────────────────────┼────────────────────────┼───────────────┤\n",
       "│ max_pooling1d_6 (\u001b[38;5;33mMaxPooling1D\u001b[0m)  │ (\u001b[38;5;45mNone\u001b[0m, \u001b[38;5;34m15\u001b[0m, \u001b[38;5;34m64\u001b[0m)         │             \u001b[38;5;34m0\u001b[0m │\n",
       "├─────────────────────────────────┼────────────────────────┼───────────────┤\n",
       "│ batch_normalization_6           │ (\u001b[38;5;45mNone\u001b[0m, \u001b[38;5;34m15\u001b[0m, \u001b[38;5;34m64\u001b[0m)         │           \u001b[38;5;34m256\u001b[0m │\n",
       "│ (\u001b[38;5;33mBatchNormalization\u001b[0m)            │                        │               │\n",
       "├─────────────────────────────────┼────────────────────────┼───────────────┤\n",
       "│ conv1d_7 (\u001b[38;5;33mConv1D\u001b[0m)               │ (\u001b[38;5;45mNone\u001b[0m, \u001b[38;5;34m15\u001b[0m, \u001b[38;5;34m128\u001b[0m)        │        \u001b[38;5;34m65,664\u001b[0m │\n",
       "├─────────────────────────────────┼────────────────────────┼───────────────┤\n",
       "│ leaky_re_lu_3 (\u001b[38;5;33mLeakyReLU\u001b[0m)       │ (\u001b[38;5;45mNone\u001b[0m, \u001b[38;5;34m15\u001b[0m, \u001b[38;5;34m128\u001b[0m)        │             \u001b[38;5;34m0\u001b[0m │\n",
       "├─────────────────────────────────┼────────────────────────┼───────────────┤\n",
       "│ max_pooling1d_7 (\u001b[38;5;33mMaxPooling1D\u001b[0m)  │ (\u001b[38;5;45mNone\u001b[0m, \u001b[38;5;34m7\u001b[0m, \u001b[38;5;34m128\u001b[0m)         │             \u001b[38;5;34m0\u001b[0m │\n",
       "├─────────────────────────────────┼────────────────────────┼───────────────┤\n",
       "│ batch_normalization_7           │ (\u001b[38;5;45mNone\u001b[0m, \u001b[38;5;34m7\u001b[0m, \u001b[38;5;34m128\u001b[0m)         │           \u001b[38;5;34m512\u001b[0m │\n",
       "│ (\u001b[38;5;33mBatchNormalization\u001b[0m)            │                        │               │\n",
       "├─────────────────────────────────┼────────────────────────┼───────────────┤\n",
       "│ flatten_1 (\u001b[38;5;33mFlatten\u001b[0m)             │ (\u001b[38;5;45mNone\u001b[0m, \u001b[38;5;34m896\u001b[0m)            │             \u001b[38;5;34m0\u001b[0m │\n",
       "├─────────────────────────────────┼────────────────────────┼───────────────┤\n",
       "│ dense_2 (\u001b[38;5;33mDense\u001b[0m)                 │ (\u001b[38;5;45mNone\u001b[0m, \u001b[38;5;34m256\u001b[0m)            │       \u001b[38;5;34m229,632\u001b[0m │\n",
       "├─────────────────────────────────┼────────────────────────┼───────────────┤\n",
       "│ leaky_re_lu_4 (\u001b[38;5;33mLeakyReLU\u001b[0m)       │ (\u001b[38;5;45mNone\u001b[0m, \u001b[38;5;34m256\u001b[0m)            │             \u001b[38;5;34m0\u001b[0m │\n",
       "├─────────────────────────────────┼────────────────────────┼───────────────┤\n",
       "│ dropout_1 (\u001b[38;5;33mDropout\u001b[0m)             │ (\u001b[38;5;45mNone\u001b[0m, \u001b[38;5;34m256\u001b[0m)            │             \u001b[38;5;34m0\u001b[0m │\n",
       "├─────────────────────────────────┼────────────────────────┼───────────────┤\n",
       "│ dense_3 (\u001b[38;5;33mDense\u001b[0m)                 │ (\u001b[38;5;45mNone\u001b[0m, \u001b[38;5;34m5\u001b[0m)              │         \u001b[38;5;34m1,285\u001b[0m │\n",
       "└─────────────────────────────────┴────────────────────────┴───────────────┘\n"
      ]
     },
     "metadata": {},
     "output_type": "display_data"
    },
    {
     "data": {
      "text/html": [
       "<pre style=\"white-space:pre;overflow-x:auto;line-height:normal;font-family:Menlo,'DejaVu Sans Mono',consolas,'Courier New',monospace\"><span style=\"font-weight: bold\"> Total params: </span><span style=\"color: #00af00; text-decoration-color: #00af00\">347,829</span> (1.33 MB)\n",
       "</pre>\n"
      ],
      "text/plain": [
       "\u001b[1m Total params: \u001b[0m\u001b[38;5;34m347,829\u001b[0m (1.33 MB)\n"
      ]
     },
     "metadata": {},
     "output_type": "display_data"
    },
    {
     "data": {
      "text/html": [
       "<pre style=\"white-space:pre;overflow-x:auto;line-height:normal;font-family:Menlo,'DejaVu Sans Mono',consolas,'Courier New',monospace\"><span style=\"font-weight: bold\"> Trainable params: </span><span style=\"color: #00af00; text-decoration-color: #00af00\">347,349</span> (1.33 MB)\n",
       "</pre>\n"
      ],
      "text/plain": [
       "\u001b[1m Trainable params: \u001b[0m\u001b[38;5;34m347,349\u001b[0m (1.33 MB)\n"
      ]
     },
     "metadata": {},
     "output_type": "display_data"
    },
    {
     "data": {
      "text/html": [
       "<pre style=\"white-space:pre;overflow-x:auto;line-height:normal;font-family:Menlo,'DejaVu Sans Mono',consolas,'Courier New',monospace\"><span style=\"font-weight: bold\"> Non-trainable params: </span><span style=\"color: #00af00; text-decoration-color: #00af00\">480</span> (1.88 KB)\n",
       "</pre>\n"
      ],
      "text/plain": [
       "\u001b[1m Non-trainable params: \u001b[0m\u001b[38;5;34m480\u001b[0m (1.88 KB)\n"
      ]
     },
     "metadata": {},
     "output_type": "display_data"
    }
   ],
   "source": [
    "#* define model architecture for raw audio\n",
    "#* Conv1D uses the glorot_uniform weight initialization technique as its default \n",
    "def create_raw_audio_model(input_shape, num_classes=5):\n",
    "    model = models.Sequential([\n",
    "        #* first conv block\n",
    "        layers.Conv1D(16, 64, strides=2, padding='same', input_shape=input_shape),\n",
    "        layers.LeakyReLU(alpha=0.01),\n",
    "        layers.MaxPooling1D(pool_size=8, strides=8),\n",
    "        layers.BatchNormalization(),\n",
    "        \n",
    "        #* second conv block\n",
    "        layers.Conv1D(32, 32, strides=2, padding='same'),\n",
    "        layers.LeakyReLU(alpha=0.01),\n",
    "        layers.MaxPooling1D(pool_size=4, strides=4),\n",
    "        layers.BatchNormalization(),\n",
    "        \n",
    "        #* third conv block\n",
    "        layers.Conv1D(64, 16, strides=2, padding='same'),\n",
    "        layers.LeakyReLU(alpha=0.01),\n",
    "        layers.MaxPooling1D(pool_size=4, strides=4),\n",
    "        layers.BatchNormalization(),\n",
    "        \n",
    "        #* fourth conv block\n",
    "        layers.Conv1D(128, 8, padding='same'),\n",
    "        layers.LeakyReLU(alpha=0.01),\n",
    "        layers.MaxPooling1D(pool_size=2, strides=2),\n",
    "        layers.BatchNormalization(),\n",
    "        \n",
    "        #* flatten and dense layers\n",
    "        layers.Flatten(),\n",
    "        layers.Dense(256),\n",
    "        layers.LeakyReLU(alpha=0.01),\n",
    "        layers.Dropout(0.5),\n",
    "        layers.Dense(num_classes, activation='softmax')  # Keep softmax for final output\n",
    "    ])\n",
    "    \n",
    "    model.compile(\n",
    "        optimizer='adam',\n",
    "        loss='categorical_crossentropy',\n",
    "        metrics=['accuracy']\n",
    "    )\n",
    "    \n",
    "    return model\n",
    "\n",
    "#* create model instance\n",
    "raw_audio_model = create_raw_audio_model((raw_audio_length, 1))\n",
    "raw_audio_model.summary()"
   ]
  },
  {
   "cell_type": "code",
   "execution_count": 22,
   "id": "b95729ca",
   "metadata": {},
   "outputs": [
    {
     "name": "stdout",
     "output_type": "stream",
     "text": [
      "Epoch 1/20\n",
      "\u001b[1m70/70\u001b[0m \u001b[32m━━━━━━━━━━━━━━━━━━━━\u001b[0m\u001b[37m\u001b[0m \u001b[1m5s\u001b[0m 57ms/step - accuracy: 0.2262 - loss: 2.2097 - val_accuracy: 0.2764 - val_loss: 1.5876\n",
      "Epoch 2/20\n",
      "\u001b[1m70/70\u001b[0m \u001b[32m━━━━━━━━━━━━━━━━━━━━\u001b[0m\u001b[37m\u001b[0m \u001b[1m4s\u001b[0m 56ms/step - accuracy: 0.3050 - loss: 1.7580 - val_accuracy: 0.2932 - val_loss: 1.5726\n",
      "Epoch 3/20\n",
      "\u001b[1m70/70\u001b[0m \u001b[32m━━━━━━━━━━━━━━━━━━━━\u001b[0m\u001b[37m\u001b[0m \u001b[1m4s\u001b[0m 58ms/step - accuracy: 0.3713 - loss: 1.5197 - val_accuracy: 0.3312 - val_loss: 1.5264\n",
      "Epoch 4/20\n",
      "\u001b[1m70/70\u001b[0m \u001b[32m━━━━━━━━━━━━━━━━━━━━\u001b[0m\u001b[37m\u001b[0m \u001b[1m4s\u001b[0m 58ms/step - accuracy: 0.3928 - loss: 1.4050 - val_accuracy: 0.2806 - val_loss: 1.5628\n",
      "Epoch 5/20\n",
      "\u001b[1m70/70\u001b[0m \u001b[32m━━━━━━━━━━━━━━━━━━━━\u001b[0m\u001b[37m\u001b[0m \u001b[1m4s\u001b[0m 61ms/step - accuracy: 0.4416 - loss: 1.3213 - val_accuracy: 0.3354 - val_loss: 1.4367\n",
      "Epoch 6/20\n",
      "\u001b[1m70/70\u001b[0m \u001b[32m━━━━━━━━━━━━━━━━━━━━\u001b[0m\u001b[37m\u001b[0m \u001b[1m4s\u001b[0m 56ms/step - accuracy: 0.4765 - loss: 1.2307 - val_accuracy: 0.3354 - val_loss: 1.4619\n",
      "Epoch 7/20\n",
      "\u001b[1m70/70\u001b[0m \u001b[32m━━━━━━━━━━━━━━━━━━━━\u001b[0m\u001b[37m\u001b[0m \u001b[1m4s\u001b[0m 60ms/step - accuracy: 0.5236 - loss: 1.1439 - val_accuracy: 0.2911 - val_loss: 1.7082\n",
      "Epoch 8/20\n",
      "\u001b[1m70/70\u001b[0m \u001b[32m━━━━━━━━━━━━━━━━━━━━\u001b[0m\u001b[37m\u001b[0m \u001b[1m4s\u001b[0m 57ms/step - accuracy: 0.5379 - loss: 1.0846 - val_accuracy: 0.2932 - val_loss: 8.1277\n",
      "Epoch 9/20\n",
      "\u001b[1m70/70\u001b[0m \u001b[32m━━━━━━━━━━━━━━━━━━━━\u001b[0m\u001b[37m\u001b[0m \u001b[1m4s\u001b[0m 55ms/step - accuracy: 0.5793 - loss: 0.9919 - val_accuracy: 0.2743 - val_loss: 6.4675\n",
      "Epoch 10/20\n",
      "\u001b[1m70/70\u001b[0m \u001b[32m━━━━━━━━━━━━━━━━━━━━\u001b[0m\u001b[37m\u001b[0m \u001b[1m4s\u001b[0m 54ms/step - accuracy: 0.5935 - loss: 1.0382 - val_accuracy: 0.2890 - val_loss: 14.1259\n",
      "Epoch 11/20\n",
      "\u001b[1m70/70\u001b[0m \u001b[32m━━━━━━━━━━━━━━━━━━━━\u001b[0m\u001b[37m\u001b[0m \u001b[1m4s\u001b[0m 55ms/step - accuracy: 0.6115 - loss: 0.8976 - val_accuracy: 0.3186 - val_loss: 11.4583\n",
      "Epoch 12/20\n",
      "\u001b[1m70/70\u001b[0m \u001b[32m━━━━━━━━━━━━━━━━━━━━\u001b[0m\u001b[37m\u001b[0m \u001b[1m4s\u001b[0m 58ms/step - accuracy: 0.6711 - loss: 0.8127 - val_accuracy: 0.3038 - val_loss: 7.7011\n",
      "Epoch 13/20\n",
      "\u001b[1m70/70\u001b[0m \u001b[32m━━━━━━━━━━━━━━━━━━━━\u001b[0m\u001b[37m\u001b[0m \u001b[1m4s\u001b[0m 57ms/step - accuracy: 0.7045 - loss: 0.7435 - val_accuracy: 0.3523 - val_loss: 3.4520\n",
      "Epoch 14/20\n",
      "\u001b[1m70/70\u001b[0m \u001b[32m━━━━━━━━━━━━━━━━━━━━\u001b[0m\u001b[37m\u001b[0m \u001b[1m4s\u001b[0m 57ms/step - accuracy: 0.7189 - loss: 0.6945 - val_accuracy: 0.3502 - val_loss: 4.3714\n",
      "Epoch 15/20\n",
      "\u001b[1m70/70\u001b[0m \u001b[32m━━━━━━━━━━━━━━━━━━━━\u001b[0m\u001b[37m\u001b[0m \u001b[1m4s\u001b[0m 57ms/step - accuracy: 0.7082 - loss: 0.6988 - val_accuracy: 0.3143 - val_loss: 9.5929\n",
      "Epoch 16/20\n",
      "\u001b[1m70/70\u001b[0m \u001b[32m━━━━━━━━━━━━━━━━━━━━\u001b[0m\u001b[37m\u001b[0m \u001b[1m4s\u001b[0m 57ms/step - accuracy: 0.7399 - loss: 0.7140 - val_accuracy: 0.4156 - val_loss: 1.4757\n",
      "Epoch 17/20\n",
      "\u001b[1m70/70\u001b[0m \u001b[32m━━━━━━━━━━━━━━━━━━━━\u001b[0m\u001b[37m\u001b[0m \u001b[1m4s\u001b[0m 58ms/step - accuracy: 0.7653 - loss: 0.5891 - val_accuracy: 0.4262 - val_loss: 1.9921\n",
      "Epoch 18/20\n",
      "\u001b[1m70/70\u001b[0m \u001b[32m━━━━━━━━━━━━━━━━━━━━\u001b[0m\u001b[37m\u001b[0m \u001b[1m4s\u001b[0m 61ms/step - accuracy: 0.7838 - loss: 0.5474 - val_accuracy: 0.2954 - val_loss: 11.7937\n",
      "Epoch 19/20\n",
      "\u001b[1m70/70\u001b[0m \u001b[32m━━━━━━━━━━━━━━━━━━━━\u001b[0m\u001b[37m\u001b[0m \u001b[1m4s\u001b[0m 57ms/step - accuracy: 0.8167 - loss: 0.4739 - val_accuracy: 0.2848 - val_loss: 5.7155\n",
      "Epoch 20/20\n",
      "\u001b[1m70/70\u001b[0m \u001b[32m━━━━━━━━━━━━━━━━━━━━\u001b[0m\u001b[37m\u001b[0m \u001b[1m4s\u001b[0m 57ms/step - accuracy: 0.8012 - loss: 0.5157 - val_accuracy: 0.4451 - val_loss: 2.3887\n"
     ]
    }
   ],
   "source": [
    "\n",
    "#* train the model\n",
    "raw_audio_history = raw_audio_model.fit(\n",
    "    X_raw_train, y_raw_train,\n",
    "    validation_data=(X_raw_val, y_raw_val),\n",
    "    epochs=20,\n",
    "    batch_size=32,\n",
    "    verbose=1\n",
    ")"
   ]
  },
  {
   "cell_type": "code",
   "execution_count": null,
   "id": "e2abc5b1",
   "metadata": {},
   "outputs": [],
   "source": [
    "#* evaluate model performance on FINAL test set\n",
    "raw_audio_final_loss, raw_audio_final_acc = raw_audio_model.evaluate(X_raw_test, y_raw_test, verbose=1)\n",
    "print(f\"raw audio model - FINAL test loss: {raw_audio_final_loss:.4f}\")\n",
    "print(f\"raw audio model - FINAL test accuracy: {raw_audio_final_acc:.4f}\")\n",
    "\n",
    "#* plot training history\n",
    "plt.figure(figsize=(12, 4))\n",
    "plt.subplot(1, 2, 1)\n",
    "plt.plot(raw_audio_history.history['accuracy'], label='train accuracy')\n",
    "plt.plot(raw_audio_history.history['val_accuracy'], label='validation accuracy')\n",
    "plt.title('raw audio model accuracy')\n",
    "plt.xlabel('epoch')\n",
    "plt.ylabel('accuracy')\n",
    "plt.legend()\n",
    "\n",
    "plt.subplot(1, 2, 2)\n",
    "plt.plot(raw_audio_history.history['loss'], label='train loss')\n",
    "plt.plot(raw_audio_history.history['val_loss'], label='validation loss')\n",
    "plt.title('raw audio model loss')\n",
    "plt.xlabel('epoch')\n",
    "plt.ylabel('loss')\n",
    "plt.legend()\n",
    "\n",
    "plt.tight_layout()\n",
    "plt.savefig('raw_audio_model_history.png', dpi=300, bbox_inches='tight')\n",
    "plt.show()"
   ]
  },
  {
   "cell_type": "code",
   "execution_count": null,
   "id": "4a7fb40a",
   "metadata": {},
   "outputs": [],
   "source": [
    "from sklearn.metrics import classification_report, confusion_matrix\n",
    "class_names = [str(i+1) for i in range(5)] \n",
    "#* generate predictions\n",
    "y_raw_pred = raw_audio_model.predict(X_raw_test)\n",
    "y_raw_pred_classes = np.argmax(y_raw_pred, axis=1)\n",
    "y_raw_true_classes = np.argmax(y_raw_test, axis=1)\n",
    "\n",
    "#* create confusion matrix\n",
    "raw_cm = confusion_matrix(y_raw_true_classes, y_raw_pred_classes)\n",
    "\n",
    "#* plot confusion matrix\n",
    "plt.figure(figsize=(10, 8))\n",
    "sns.heatmap(raw_cm, annot=True, fmt='d', cmap='Blues', \n",
    "           xticklabels=class_names, yticklabels=class_names)\n",
    "plt.title('confusion matrix - raw audio model')\n",
    "plt.ylabel('true label')\n",
    "plt.xlabel('predicted label')\n",
    "plt.tight_layout()\n",
    "plt.savefig('raw_audio_confusion_matrix.png', dpi=300, bbox_inches='tight')\n",
    "plt.show()"
   ]
  },
  {
   "cell_type": "markdown",
   "id": "9527ce9a",
   "metadata": {},
   "source": [
    "### hyperparemeter search"
   ]
  },
  {
   "cell_type": "code",
   "execution_count": null,
   "id": "e2cfebf5",
   "metadata": {},
   "outputs": [
    {
     "name": "stdout",
     "output_type": "stream",
     "text": [
      "Testing: filters=16, dense=128, dropout=0.3, lr=0.001\n",
      "Validation accuracy: 0.4072\n",
      "Testing: filters=16, dense=128, dropout=0.3, lr=0.0005\n",
      "Validation accuracy: 0.4958\n",
      "Testing: filters=16, dense=128, dropout=0.5, lr=0.001\n",
      "Validation accuracy: 0.4177\n",
      "Testing: filters=16, dense=128, dropout=0.5, lr=0.0005\n",
      "Validation accuracy: 0.3987\n",
      "Testing: filters=16, dense=256, dropout=0.3, lr=0.001\n",
      "Validation accuracy: 0.3397\n",
      "Testing: filters=16, dense=256, dropout=0.3, lr=0.0005\n",
      "Validation accuracy: 0.4641\n",
      "Testing: filters=16, dense=256, dropout=0.5, lr=0.001\n",
      "Validation accuracy: 0.3713\n",
      "Testing: filters=16, dense=256, dropout=0.5, lr=0.0005\n",
      "Validation accuracy: 0.4177\n",
      "Testing: filters=32, dense=128, dropout=0.3, lr=0.001\n",
      "Validation accuracy: 0.3882\n",
      "Testing: filters=32, dense=128, dropout=0.3, lr=0.0005\n",
      "Validation accuracy: 0.4093\n",
      "Testing: filters=32, dense=128, dropout=0.5, lr=0.001\n",
      "Validation accuracy: 0.4219\n",
      "Testing: filters=32, dense=128, dropout=0.5, lr=0.0005\n",
      "Validation accuracy: 0.4008\n",
      "Testing: filters=32, dense=256, dropout=0.3, lr=0.001\n",
      "Validation accuracy: 0.4430\n",
      "Testing: filters=32, dense=256, dropout=0.3, lr=0.0005\n",
      "Validation accuracy: 0.3861\n",
      "Testing: filters=32, dense=256, dropout=0.5, lr=0.001\n",
      "Validation accuracy: 0.4219\n",
      "Testing: filters=32, dense=256, dropout=0.5, lr=0.0005\n",
      "Validation accuracy: 0.4051\n",
      "\n",
      "Best parameters:\n",
      "Conv1 filters: 16\n",
      "Dense units: 128\n",
      "Dropout rate: 0.3\n",
      "Learning rate: 0.0005\n",
      "Best validation accuracy: 0.4958\n",
      "\n",
      "Training final model with best parameters...\n",
      "Epoch 1/20\n",
      "\u001b[1m70/70\u001b[0m \u001b[32m━━━━━━━━━━━━━━━━━━━━\u001b[0m\u001b[37m\u001b[0m \u001b[1m6s\u001b[0m 71ms/step - accuracy: 0.2433 - loss: 2.0079 - val_accuracy: 0.2806 - val_loss: 1.5738\n",
      "Epoch 2/20\n",
      "\u001b[1m70/70\u001b[0m \u001b[32m━━━━━━━━━━━━━━━━━━━━\u001b[0m\u001b[37m\u001b[0m \u001b[1m5s\u001b[0m 71ms/step - accuracy: 0.3439 - loss: 1.5392 - val_accuracy: 0.2996 - val_loss: 1.5696\n",
      "Epoch 3/20\n",
      "\u001b[1m70/70\u001b[0m \u001b[32m━━━━━━━━━━━━━━━━━━━━\u001b[0m\u001b[37m\u001b[0m \u001b[1m5s\u001b[0m 72ms/step - accuracy: 0.3931 - loss: 1.4457 - val_accuracy: 0.3439 - val_loss: 1.4911\n",
      "Epoch 4/20\n",
      "\u001b[1m70/70\u001b[0m \u001b[32m━━━━━━━━━━━━━━━━━━━━\u001b[0m\u001b[37m\u001b[0m \u001b[1m5s\u001b[0m 71ms/step - accuracy: 0.4181 - loss: 1.3700 - val_accuracy: 0.3650 - val_loss: 1.4516\n",
      "Epoch 5/20\n",
      "\u001b[1m70/70\u001b[0m \u001b[32m━━━━━━━━━━━━━━━━━━━━\u001b[0m\u001b[37m\u001b[0m \u001b[1m5s\u001b[0m 72ms/step - accuracy: 0.4701 - loss: 1.2545 - val_accuracy: 0.3502 - val_loss: 1.4754\n",
      "Epoch 6/20\n",
      "\u001b[1m70/70\u001b[0m \u001b[32m━━━━━━━━━━━━━━━━━━━━\u001b[0m\u001b[37m\u001b[0m \u001b[1m5s\u001b[0m 71ms/step - accuracy: 0.5057 - loss: 1.2136 - val_accuracy: 0.3819 - val_loss: 1.5858\n",
      "Epoch 7/20\n",
      "\u001b[1m70/70\u001b[0m \u001b[32m━━━━━━━━━━━━━━━━━━━━\u001b[0m\u001b[37m\u001b[0m \u001b[1m5s\u001b[0m 75ms/step - accuracy: 0.5297 - loss: 1.1035 - val_accuracy: 0.2869 - val_loss: 1.8924\n",
      "Epoch 8/20\n",
      "\u001b[1m70/70\u001b[0m \u001b[32m━━━━━━━━━━━━━━━━━━━━\u001b[0m\u001b[37m\u001b[0m \u001b[1m5s\u001b[0m 70ms/step - accuracy: 0.5808 - loss: 1.0006 - val_accuracy: 0.4135 - val_loss: 1.3626\n",
      "Epoch 9/20\n",
      "\u001b[1m70/70\u001b[0m \u001b[32m━━━━━━━━━━━━━━━━━━━━\u001b[0m\u001b[37m\u001b[0m \u001b[1m5s\u001b[0m 68ms/step - accuracy: 0.6172 - loss: 0.9009 - val_accuracy: 0.2764 - val_loss: 2.6371\n",
      "Epoch 10/20\n",
      "\u001b[1m70/70\u001b[0m \u001b[32m━━━━━━━━━━━━━━━━━━━━\u001b[0m\u001b[37m\u001b[0m \u001b[1m5s\u001b[0m 70ms/step - accuracy: 0.6452 - loss: 0.8516 - val_accuracy: 0.4705 - val_loss: 1.2603\n",
      "Epoch 11/20\n",
      "\u001b[1m70/70\u001b[0m \u001b[32m━━━━━━━━━━━━━━━━━━━━\u001b[0m\u001b[37m\u001b[0m \u001b[1m5s\u001b[0m 69ms/step - accuracy: 0.6756 - loss: 0.7648 - val_accuracy: 0.4641 - val_loss: 1.3948\n",
      "Epoch 12/20\n",
      "\u001b[1m70/70\u001b[0m \u001b[32m━━━━━━━━━━━━━━━━━━━━\u001b[0m\u001b[37m\u001b[0m \u001b[1m5s\u001b[0m 68ms/step - accuracy: 0.7058 - loss: 0.7041 - val_accuracy: 0.3270 - val_loss: 2.9276\n",
      "Epoch 13/20\n",
      "\u001b[1m70/70\u001b[0m \u001b[32m━━━━━━━━━━━━━━━━━━━━\u001b[0m\u001b[37m\u001b[0m \u001b[1m5s\u001b[0m 66ms/step - accuracy: 0.7374 - loss: 0.6294 - val_accuracy: 0.2954 - val_loss: 4.3623\n",
      "Epoch 14/20\n",
      "\u001b[1m70/70\u001b[0m \u001b[32m━━━━━━━━━━━━━━━━━━━━\u001b[0m\u001b[37m\u001b[0m \u001b[1m5s\u001b[0m 68ms/step - accuracy: 0.7104 - loss: 0.7299 - val_accuracy: 0.3966 - val_loss: 1.7660\n",
      "Epoch 15/20\n",
      "\u001b[1m70/70\u001b[0m \u001b[32m━━━━━━━━━━━━━━━━━━━━\u001b[0m\u001b[37m\u001b[0m \u001b[1m5s\u001b[0m 68ms/step - accuracy: 0.7833 - loss: 0.5547 - val_accuracy: 0.2954 - val_loss: 2.8770\n",
      "Epoch 16/20\n",
      "\u001b[1m70/70\u001b[0m \u001b[32m━━━━━━━━━━━━━━━━━━━━\u001b[0m\u001b[37m\u001b[0m \u001b[1m5s\u001b[0m 69ms/step - accuracy: 0.8010 - loss: 0.4865 - val_accuracy: 0.2616 - val_loss: 7.8601\n",
      "Epoch 17/20\n",
      "\u001b[1m70/70\u001b[0m \u001b[32m━━━━━━━━━━━━━━━━━━━━\u001b[0m\u001b[37m\u001b[0m \u001b[1m5s\u001b[0m 70ms/step - accuracy: 0.8006 - loss: 0.4844 - val_accuracy: 0.3608 - val_loss: 3.6351\n",
      "Epoch 18/20\n",
      "\u001b[1m70/70\u001b[0m \u001b[32m━━━━━━━━━━━━━━━━━━━━\u001b[0m\u001b[37m\u001b[0m \u001b[1m5s\u001b[0m 69ms/step - accuracy: 0.8365 - loss: 0.4165 - val_accuracy: 0.3249 - val_loss: 6.0985\n",
      "Epoch 19/20\n",
      "\u001b[1m70/70\u001b[0m \u001b[32m━━━━━━━━━━━━━━━━━━━━\u001b[0m\u001b[37m\u001b[0m \u001b[1m5s\u001b[0m 71ms/step - accuracy: 0.8499 - loss: 0.3870 - val_accuracy: 0.3460 - val_loss: 2.8214\n",
      "Epoch 20/20\n",
      "\u001b[1m70/70\u001b[0m \u001b[32m━━━━━━━━━━━━━━━━━━━━\u001b[0m\u001b[37m\u001b[0m \u001b[1m5s\u001b[0m 75ms/step - accuracy: 0.8522 - loss: 0.3615 - val_accuracy: 0.3987 - val_loss: 2.2640\n",
      "\u001b[1m15/15\u001b[0m \u001b[32m━━━━━━━━━━━━━━━━━━━━\u001b[0m\u001b[37m\u001b[0m \u001b[1m0s\u001b[0m 14ms/step - accuracy: 0.4068 - loss: 2.2599\n",
      "Final test accuracy: 0.4189\n"
     ]
    }
   ],
   "source": [
    "#* simple hyperparameter experimentation\n",
    "param_grid = {\n",
    "    'conv1_filters': [16, 32],           \n",
    "    'dense_units': [128, 256],           \n",
    "    'dropout_rate': [0.3, 0.5],          \n",
    "    'learning_rate': [0.001, 0.0005]     \n",
    "}\n",
    "\n",
    "def create_model_with_params(conv1_filters, dense_units, dropout_rate, learning_rate):\n",
    "    model = models.Sequential([\n",
    "        layers.Conv1D(conv1_filters, 64, strides=2, padding='same', input_shape=(raw_audio_length, 1)),\n",
    "        layers.LeakyReLU(alpha=0.01),\n",
    "        layers.MaxPooling1D(pool_size=8, strides=8),\n",
    "        layers.BatchNormalization(),\n",
    "        \n",
    "        layers.Conv1D(conv1_filters*2, 32, strides=2, padding='same'),\n",
    "        layers.LeakyReLU(alpha=0.01),\n",
    "        layers.MaxPooling1D(pool_size=4, strides=4),\n",
    "        layers.BatchNormalization(),\n",
    "        \n",
    "        layers.Conv1D(conv1_filters*4, 16, strides=2, padding='same'),\n",
    "        layers.LeakyReLU(alpha=0.01),\n",
    "        layers.MaxPooling1D(pool_size=4, strides=4),\n",
    "        layers.BatchNormalization(),\n",
    "        \n",
    "        layers.Conv1D(128, 8, padding='same'),\n",
    "        layers.LeakyReLU(alpha=0.01),\n",
    "        layers.MaxPooling1D(pool_size=2, strides=2),\n",
    "        layers.BatchNormalization(),\n",
    "        \n",
    "        layers.Flatten(),\n",
    "        layers.Dense(dense_units),\n",
    "        layers.LeakyReLU(alpha=0.01),\n",
    "        layers.Dropout(dropout_rate),\n",
    "        layers.Dense(5, activation='softmax')\n",
    "    ])\n",
    "    \n",
    "    model.compile(\n",
    "        optimizer=tf.keras.optimizers.Adam(learning_rate=learning_rate),\n",
    "        loss='categorical_crossentropy',\n",
    "        metrics=['accuracy']\n",
    "    )\n",
    "    \n",
    "    return model\n",
    "\n",
    "#* test different parameter combinations\n",
    "results = []\n",
    "\n",
    "for conv1_filters in param_grid['conv1_filters']:\n",
    "    for dense_units in param_grid['dense_units']:\n",
    "        for dropout_rate in param_grid['dropout_rate']:\n",
    "            for learning_rate in param_grid['learning_rate']:\n",
    "                \n",
    "                print(f\"Testing: filters={conv1_filters}, dense={dense_units}, dropout={dropout_rate}, lr={learning_rate}\")\n",
    "                \n",
    "                model = create_model_with_params(conv1_filters, dense_units, dropout_rate, learning_rate)\n",
    "                \n",
    "                history = model.fit(\n",
    "                    X_raw_train, y_raw_train,\n",
    "                    validation_data=(X_raw_val, y_raw_val),\n",
    "                    epochs=10,\n",
    "                    batch_size=32,\n",
    "                    verbose=0\n",
    "                )\n",
    "                \n",
    "                val_acc = max(history.history['val_accuracy'])\n",
    "                \n",
    "                results.append({\n",
    "                    'conv1_filters': conv1_filters,\n",
    "                    'dense_units': dense_units,\n",
    "                    'dropout_rate': dropout_rate,\n",
    "                    'learning_rate': learning_rate,\n",
    "                    'val_accuracy': val_acc\n",
    "                })\n",
    "                \n",
    "                print(f\"Validation accuracy: {val_acc:.4f}\")\n",
    "\n",
    "#* find best parameters\n",
    "best_result = max(results, key=lambda x: x['val_accuracy'])\n",
    "\n",
    "print(\"\\nBest parameters:\")\n",
    "print(f\"Conv1 filters: {best_result['conv1_filters']}\")\n",
    "print(f\"Dense units: {best_result['dense_units']}\")\n",
    "print(f\"Dropout rate: {best_result['dropout_rate']}\")\n",
    "print(f\"Learning rate: {best_result['learning_rate']}\")\n",
    "print(f\"Best validation accuracy: {best_result['val_accuracy']:.4f}\")\n",
    "\n",
    "#* train final model with best parameters\n",
    "print(\"\\nTraining final model with best parameters...\")\n",
    "final_model = create_model_with_params(\n",
    "    best_result['conv1_filters'],\n",
    "    best_result['dense_units'], \n",
    "    best_result['dropout_rate'],\n",
    "    best_result['learning_rate']\n",
    ")\n",
    "\n",
    "final_history = final_model.fit(\n",
    "    X_raw_train, y_raw_train,\n",
    "    validation_data=(X_raw_val, y_raw_val),\n",
    "    epochs=20,\n",
    "    batch_size=32,\n",
    "    verbose=1\n",
    ")\n",
    "\n",
    "#* evaluate final model\n",
    "test_loss, test_acc = final_model.evaluate(X_raw_test, y_raw_test)\n",
    "print(f\"Final test accuracy: {test_acc:.4f}\")"
   ]
  },
  {
   "cell_type": "code",
   "execution_count": 28,
   "id": "2b5498f3",
   "metadata": {},
   "outputs": [
    {
     "name": "stdout",
     "output_type": "stream",
     "text": [
      "Evaluating best model on validation set...\n",
      "\u001b[1m15/15\u001b[0m \u001b[32m━━━━━━━━━━━━━━━━━━━━\u001b[0m\u001b[37m\u001b[0m \u001b[1m0s\u001b[0m 12ms/step - accuracy: 0.3939 - loss: 2.2824\n",
      "Best model - Validation loss: 2.2640\n",
      "Best model - Validation accuracy: 0.3987\n",
      "\n",
      "Comparison:\n",
      "Original model - Validation accuracy: 0.4451\n",
      "Best model - Validation accuracy: 0.3987\n",
      "Improvement: -0.0464\n",
      "\u001b[1m15/15\u001b[0m \u001b[32m━━━━━━━━━━━━━━━━━━━━\u001b[0m\u001b[37m\u001b[0m \u001b[1m0s\u001b[0m 18ms/step\n"
     ]
    },
    {
     "data": {
      "text/plain": [
       "<Figure size 800x600 with 0 Axes>"
      ]
     },
     "execution_count": 28,
     "metadata": {},
     "output_type": "execute_result"
    },
    {
     "data": {
      "text/plain": [
       "<Axes: >"
      ]
     },
     "execution_count": 28,
     "metadata": {},
     "output_type": "execute_result"
    },
    {
     "data": {
      "text/plain": [
       "Text(0.5, 1.0, 'Validation Set - Confusion Matrix (Best Model)')"
      ]
     },
     "execution_count": 28,
     "metadata": {},
     "output_type": "execute_result"
    },
    {
     "data": {
      "text/plain": [
       "Text(70.72222222222221, 0.5, 'True Label')"
      ]
     },
     "execution_count": 28,
     "metadata": {},
     "output_type": "execute_result"
    },
    {
     "data": {
      "text/plain": [
       "Text(0.5, 36.72222222222221, 'Predicted Label')"
      ]
     },
     "execution_count": 28,
     "metadata": {},
     "output_type": "execute_result"
    },
    {
     "data": {
      "image/png": "[encoded data removed]",
      "text/plain": [
       "<Figure size 800x600 with 2 Axes>"
      ]
     },
     "metadata": {},
     "output_type": "display_data"
    },
    {
     "name": "stdout",
     "output_type": "stream",
     "text": [
      "\n",
      "Validation Set Classification Report:\n",
      "              precision    recall  f1-score   support\n",
      "\n",
      "           1       0.97      0.30      0.46       111\n",
      "           2       0.43      0.33      0.37        94\n",
      "           3       0.41      0.31      0.35        84\n",
      "           4       0.31      0.67      0.42       113\n",
      "           5       0.40      0.32      0.36        72\n",
      "\n",
      "    accuracy                           0.40       474\n",
      "   macro avg       0.50      0.39      0.39       474\n",
      "weighted avg       0.52      0.40      0.40       474\n",
      "\n"
     ]
    }
   ],
   "source": [
    "#* evaluate the best model on validation set\n",
    "print(\"Evaluating best model on validation set...\")\n",
    "val_loss, val_acc = final_model.evaluate(X_raw_val, y_raw_val, verbose=1)\n",
    "print(f\"Best model - Validation loss: {val_loss:.4f}\")\n",
    "print(f\"Best model - Validation accuracy: {val_acc:.4f}\")\n",
    "\n",
    "#* compare with original model\n",
    "print(\"\\nComparison:\")\n",
    "print(f\"Original model - Validation accuracy: {max(raw_audio_history.history['val_accuracy']):.4f}\")\n",
    "print(f\"Best model - Validation accuracy: {val_acc:.4f}\")\n",
    "print(f\"Improvement: {val_acc - max(raw_audio_history.history['val_accuracy']):.4f}\")\n",
    "\n",
    "#* generate detailed predictions on validation set\n",
    "val_predictions = final_model.predict(X_raw_val)\n",
    "val_pred_classes = np.argmax(val_predictions, axis=1)\n",
    "val_true_classes = np.argmax(y_raw_val, axis=1)\n",
    "\n",
    "#* validation confusion matrix\n",
    "val_cm = confusion_matrix(val_true_classes, val_pred_classes)\n",
    "\n",
    "plt.figure(figsize=(8, 6))\n",
    "sns.heatmap(val_cm, annot=True, fmt='d', cmap='Blues', \n",
    "           xticklabels=class_names, yticklabels=class_names)\n",
    "plt.title('Validation Set - Confusion Matrix (Best Model)')\n",
    "plt.ylabel('True Label')\n",
    "plt.xlabel('Predicted Label')\n",
    "plt.tight_layout()\n",
    "plt.savefig('best_model_validation_confusion_matrix.png', dpi=300, bbox_inches='tight')\n",
    "plt.show()\n",
    "\n",
    "#* classification report\n",
    "print(\"\\nValidation Set Classification Report:\")\n",
    "print(classification_report(val_true_classes, val_pred_classes, target_names=class_names))"
   ]
  },
  {
   "cell_type": "markdown",
   "id": "b60cccd6",
   "metadata": {},
   "source": [
    "### predict accent and gener on test data"
   ]
  },
  {
   "cell_type": "code",
   "execution_count": 45,
   "id": "669ebb3a",
   "metadata": {},
   "outputs": [
    {
     "name": "stdout",
     "output_type": "stream",
     "text": [
      "\u001b[1m15/15\u001b[0m \u001b[32m━━━━━━━━━━━━━━━━━━━━\u001b[0m\u001b[37m\u001b[0m \u001b[1m0s\u001b[0m 12ms/step\n"
     ]
    }
   ],
   "source": [
    "\n",
    "#* predict accents for test set using the best model\n",
    "accent_predictions = final_model.predict(np.array(test_set_df['audio_array'].tolist()))\n",
    "test_pred_classes = np.argmax(accent_predictions, axis=1) #* get the class with the highest probability\n",
    "\n",
    "#* add a predction confidence column\n",
    "test_set_df['prediction_confidence'] = np.max(accent_predictions, axis=1)\n",
    "test_set_df['predicted_accent'] = test_pred_classes + 1  #* convert back to original accent labels (1-5)\n",
    "\n"
   ]
  },
  {
   "cell_type": "code",
   "execution_count": 49,
   "id": "a20900a0",
   "metadata": {},
   "outputs": [
    {
     "data": {
      "application/vnd.microsoft.datawrangler.viewer.v0+json": {
       "columns": [
        {
         "name": "index",
         "rawType": "int64",
         "type": "integer"
        },
        {
         "name": "file",
         "rawType": "object",
         "type": "string"
        },
        {
         "name": "file_path",
         "rawType": "object",
         "type": "string"
        },
        {
         "name": "file_name",
         "rawType": "object",
         "type": "string"
        },
        {
         "name": "accent",
         "rawType": "object",
         "type": "string"
        },
        {
         "name": "gender",
         "rawType": "object",
         "type": "string"
        },
        {
         "name": "audio_array",
         "rawType": "object",
         "type": "unknown"
        },
        {
         "name": "predicted_accent",
         "rawType": "int64",
         "type": "integer"
        },
        {
         "name": "prediction_confidence",
         "rawType": "float32",
         "type": "float"
        }
       ],
       "ref": "6efcf97b-cbbb-4124-afbf-17f5e590c980",
       "rows": [
        [
         "0",
         "5f_8431.wav",
         "/Users/kaispeidel/Downloads/DeepLearning/Train/5f_8431.wav",
         "5f_8431",
         "5",
         "f",
         "[[-7.16434151e-04]\n [-7.32791596e-05]\n [-7.32791596e-05]\n ...\n [ 1.98213029e+00]\n [ 2.01718235e+00]\n [ 2.38217282e+00]]",
         "2",
         "0.8160277"
        ],
        [
         "1",
         "5f_3560.wav",
         "/Users/kaispeidel/Downloads/DeepLearning/Train/5f_3560.wav",
         "5f_3560",
         "5",
         "f",
         "[[-0.00688555]\n [-0.00688555]\n [-0.00579686]\n ...\n [-0.67715895]\n [-0.51530623]\n [-0.39155787]]",
         "4",
         "0.7298373"
        ],
        [
         "2",
         "4f_9833.wav",
         "/Users/kaispeidel/Downloads/DeepLearning/Train/4f_9833.wav",
         "4f_9833",
         "4",
         "f",
         "[[0.00104494]\n [0.00420673]\n [0.00547145]\n ...\n [0.2527236 ]\n [0.32607722]\n [0.38551891]]",
         "4",
         "0.66508716"
        ],
        [
         "3",
         "1f_9293.wav",
         "/Users/kaispeidel/Downloads/DeepLearning/Train/1f_9293.wav",
         "1f_9293",
         "1",
         "f",
         "[[-0.0043571 ]\n [-0.00563177]\n [-0.00563177]\n ...\n [-0.01327981]\n [-0.01115535]\n [-0.01455448]]",
         "4",
         "0.6306214"
        ],
        [
         "4",
         "2f_8352.wav",
         "/Users/kaispeidel/Downloads/DeepLearning/Train/2f_8352.wav",
         "2f_8352",
         "2",
         "f",
         "[[-0.00111337]\n [-0.00157428]\n [-0.0024961 ]\n ...\n [-0.86439741]\n [-0.87085015]\n [-0.84550011]]",
         "5",
         "0.40326476"
        ]
       ],
       "shape": {
        "columns": 8,
        "rows": 5
       }
      },
      "text/html": [
       "<div>\n",
       "<style scoped>\n",
       "    .dataframe tbody tr th:only-of-type {\n",
       "        vertical-align: middle;\n",
       "    }\n",
       "\n",
       "    .dataframe tbody tr th {\n",
       "        vertical-align: top;\n",
       "    }\n",
       "\n",
       "    .dataframe thead th {\n",
       "        text-align: right;\n",
       "    }\n",
       "</style>\n",
       "<table border=\"1\" class=\"dataframe\">\n",
       "  <thead>\n",
       "    <tr style=\"text-align: right;\">\n",
       "      <th></th>\n",
       "      <th>file</th>\n",
       "      <th>file_path</th>\n",
       "      <th>file_name</th>\n",
       "      <th>accent</th>\n",
       "      <th>gender</th>\n",
       "      <th>audio_array</th>\n",
       "      <th>predicted_accent</th>\n",
       "      <th>prediction_confidence</th>\n",
       "    </tr>\n",
       "  </thead>\n",
       "  <tbody>\n",
       "    <tr>\n",
       "      <th>0</th>\n",
       "      <td>5f_8431.wav</td>\n",
       "      <td>/Users/kaispeidel/Downloads/DeepLearning/Train...</td>\n",
       "      <td>5f_8431</td>\n",
       "      <td>5</td>\n",
       "      <td>f</td>\n",
       "      <td>[[-0.0007164341513998806], [-7.327915955102071...</td>\n",
       "      <td>2</td>\n",
       "      <td>0.816028</td>\n",
       "    </tr>\n",
       "    <tr>\n",
       "      <th>1</th>\n",
       "      <td>5f_3560.wav</td>\n",
       "      <td>/Users/kaispeidel/Downloads/DeepLearning/Train...</td>\n",
       "      <td>5f_3560</td>\n",
       "      <td>5</td>\n",
       "      <td>f</td>\n",
       "      <td>[[-0.006885554175823927], [-0.0068855541758239...</td>\n",
       "      <td>4</td>\n",
       "      <td>0.729837</td>\n",
       "    </tr>\n",
       "    <tr>\n",
       "      <th>2</th>\n",
       "      <td>4f_9833.wav</td>\n",
       "      <td>/Users/kaispeidel/Downloads/DeepLearning/Train...</td>\n",
       "      <td>4f_9833</td>\n",
       "      <td>4</td>\n",
       "      <td>f</td>\n",
       "      <td>[[0.0010449393885210156], [0.00420673191547393...</td>\n",
       "      <td>4</td>\n",
       "      <td>0.665087</td>\n",
       "    </tr>\n",
       "    <tr>\n",
       "      <th>3</th>\n",
       "      <td>1f_9293.wav</td>\n",
       "      <td>/Users/kaispeidel/Downloads/DeepLearning/Train...</td>\n",
       "      <td>1f_9293</td>\n",
       "      <td>1</td>\n",
       "      <td>f</td>\n",
       "      <td>[[-0.004357101861387491], [-0.0056317741982638...</td>\n",
       "      <td>4</td>\n",
       "      <td>0.630621</td>\n",
       "    </tr>\n",
       "    <tr>\n",
       "      <th>4</th>\n",
       "      <td>2f_8352.wav</td>\n",
       "      <td>/Users/kaispeidel/Downloads/DeepLearning/Train...</td>\n",
       "      <td>2f_8352</td>\n",
       "      <td>2</td>\n",
       "      <td>f</td>\n",
       "      <td>[[-0.0011133668012917042], [-0.001574276597239...</td>\n",
       "      <td>5</td>\n",
       "      <td>0.403265</td>\n",
       "    </tr>\n",
       "  </tbody>\n",
       "</table>\n",
       "</div>"
      ],
      "text/plain": [
       "          file                                          file_path file_name  \\\n",
       "0  5f_8431.wav  /Users/kaispeidel/Downloads/DeepLearning/Train...   5f_8431   \n",
       "1  5f_3560.wav  /Users/kaispeidel/Downloads/DeepLearning/Train...   5f_3560   \n",
       "2  4f_9833.wav  /Users/kaispeidel/Downloads/DeepLearning/Train...   4f_9833   \n",
       "3  1f_9293.wav  /Users/kaispeidel/Downloads/DeepLearning/Train...   1f_9293   \n",
       "4  2f_8352.wav  /Users/kaispeidel/Downloads/DeepLearning/Train...   2f_8352   \n",
       "\n",
       "  accent gender                                        audio_array  \\\n",
       "0      5      f  [[-0.0007164341513998806], [-7.327915955102071...   \n",
       "1      5      f  [[-0.006885554175823927], [-0.0068855541758239...   \n",
       "2      4      f  [[0.0010449393885210156], [0.00420673191547393...   \n",
       "3      1      f  [[-0.004357101861387491], [-0.0056317741982638...   \n",
       "4      2      f  [[-0.0011133668012917042], [-0.001574276597239...   \n",
       "\n",
       "   predicted_accent  prediction_confidence  \n",
       "0                 2               0.816028  \n",
       "1                 4               0.729837  \n",
       "2                 4               0.665087  \n",
       "3                 4               0.630621  \n",
       "4                 5               0.403265  "
      ]
     },
     "execution_count": 49,
     "metadata": {},
     "output_type": "execute_result"
    }
   ],
   "source": [
    "test_set_df.head()"
   ]
  },
  {
   "cell_type": "code",
   "execution_count": 52,
   "id": "3d28d2ee",
   "metadata": {},
   "outputs": [
    {
     "name": "stdout",
     "output_type": "stream",
     "text": [
      "=== MODEL PERFORMANCE BY ACCENT ===\n",
      "             Sample_Count  Accuracy  Avg_Confidence\n",
      "true_accent                                        \n",
      "1                     111     0.252           0.694\n",
      "2                      94     0.330           0.723\n",
      "3                      85     0.471           0.818\n",
      "4                     113     0.708           0.745\n",
      "5                      72     0.278           0.745\n",
      "\n",
      "=== MODEL PERFORMANCE BY GENDER ===\n",
      "        Sample_Count  Accuracy  Avg_Confidence\n",
      "gender                                        \n",
      "f                245     0.424           0.749\n",
      "m                230     0.413           0.735\n",
      "\n",
      "=== MODEL PERFORMANCE BY ACCENT AND GENDER ===\n",
      "                    correct_prediction\n",
      "true_accent gender                    \n",
      "1           f                    0.232\n",
      "            m                    0.273\n",
      "2           f                    0.327\n",
      "            m                    0.333\n",
      "3           f                    0.432\n",
      "            m                    0.512\n",
      "4           f                    0.703\n",
      "            m                    0.714\n",
      "5           f                    0.344\n",
      "            m                    0.225\n"
     ]
    },
    {
     "data": {
      "text/plain": [
       "<Axes: xlabel='true_accent'>"
      ]
     },
     "execution_count": 52,
     "metadata": {},
     "output_type": "execute_result"
    },
    {
     "data": {
      "text/plain": [
       "Text(0.5, 1.0, 'Model Accuracy by Accent')"
      ]
     },
     "execution_count": 52,
     "metadata": {},
     "output_type": "execute_result"
    },
    {
     "data": {
      "text/plain": [
       "Text(0.5, 0, 'Accent')"
      ]
     },
     "execution_count": 52,
     "metadata": {},
     "output_type": "execute_result"
    },
    {
     "data": {
      "text/plain": [
       "Text(0, 0.5, 'Accuracy')"
      ]
     },
     "execution_count": 52,
     "metadata": {},
     "output_type": "execute_result"
    },
    {
     "data": {
      "text/plain": [
       "(0.0, 1.0)"
      ]
     },
     "execution_count": 52,
     "metadata": {},
     "output_type": "execute_result"
    },
    {
     "data": {
      "text/plain": [
       "<Axes: xlabel='gender'>"
      ]
     },
     "execution_count": 52,
     "metadata": {},
     "output_type": "execute_result"
    },
    {
     "data": {
      "text/plain": [
       "Text(0.5, 1.0, 'Model Accuracy by Gender')"
      ]
     },
     "execution_count": 52,
     "metadata": {},
     "output_type": "execute_result"
    },
    {
     "data": {
      "text/plain": [
       "Text(0.5, 0, 'Gender')"
      ]
     },
     "execution_count": 52,
     "metadata": {},
     "output_type": "execute_result"
    },
    {
     "data": {
      "text/plain": [
       "Text(0, 0.5, 'Accuracy')"
      ]
     },
     "execution_count": 52,
     "metadata": {},
     "output_type": "execute_result"
    },
    {
     "data": {
      "text/plain": [
       "(0.0, 1.0)"
      ]
     },
     "execution_count": 52,
     "metadata": {},
     "output_type": "execute_result"
    },
    {
     "data": {
      "image/png": "[encoded data removed]",
      "text/plain": [
       "<Figure size 1200x500 with 2 Axes>"
      ]
     },
     "metadata": {},
     "output_type": "display_data"
    }
   ],
   "source": [
    "#* Error Analysis Table and Figure for Accent and Gender Performance\n",
    "\n",
    "# Create analysis dataframe\n",
    "test_analysis_df = test_set_df.copy()\n",
    "test_analysis_df['true_accent'] = [np.argmax(y) + 1 for y in y_raw_test]\n",
    "test_analysis_df['correct_prediction'] = (test_analysis_df['true_accent'] == test_analysis_df['predicted_accent'])\n",
    "\n",
    "# Performance by Accent\n",
    "accent_performance = test_analysis_df.groupby('true_accent').agg({\n",
    "    'correct_prediction': ['count', 'mean'],\n",
    "    'prediction_confidence': 'mean'\n",
    "}).round(3)\n",
    "accent_performance.columns = ['Sample_Count', 'Accuracy', 'Avg_Confidence']\n",
    "\n",
    "# Performance by Gender  \n",
    "gender_performance = test_analysis_df.groupby('gender').agg({\n",
    "    'correct_prediction': ['count', 'mean'],\n",
    "    'prediction_confidence': 'mean'\n",
    "}).round(3)\n",
    "gender_performance.columns = ['Sample_Count', 'Accuracy', 'Avg_Confidence']\n",
    "\n",
    "# Combined Accent-Gender Performance\n",
    "combined_performance = test_analysis_df.groupby(['true_accent', 'gender']).agg({\n",
    "    'correct_prediction': 'mean'\n",
    "}).round(3)\n",
    "\n",
    "print(\"=== MODEL PERFORMANCE BY ACCENT ===\")\n",
    "print(accent_performance)\n",
    "\n",
    "print(\"\\n=== MODEL PERFORMANCE BY GENDER ===\")\n",
    "print(gender_performance)\n",
    "\n",
    "print(\"\\n=== MODEL PERFORMANCE BY ACCENT AND GENDER ===\")\n",
    "print(combined_performance)\n",
    "\n",
    "# Create visualization\n",
    "fig, (ax1, ax2) = plt.subplots(1, 2, figsize=(12, 5))\n",
    "\n",
    "# Accuracy by Accent\n",
    "accent_performance['Accuracy'].plot(kind='bar', ax=ax1, color='blue')\n",
    "ax1.set_title('Model Accuracy by Accent')\n",
    "ax1.set_xlabel('Accent')\n",
    "ax1.set_ylabel('Accuracy')\n",
    "ax1.set_ylim(0, 1)\n",
    "\n",
    "# Accuracy by Gender\n",
    "gender_performance['Accuracy'].plot(kind='bar', ax=ax2, color=['red', 'blue'])\n",
    "ax2.set_title('Model Accuracy by Gender')\n",
    "ax2.set_xlabel('Gender')\n",
    "ax2.set_ylabel('Accuracy')\n",
    "ax2.set_ylim(0, 1)\n",
    "\n",
    "plt.tight_layout()\n",
    "plt.savefig('accent_gender_performance.png', dpi=300, bbox_inches='tight')\n",
    "plt.show()"
   ]
  },
  {
   "cell_type": "markdown",
   "id": "2dc507a3",
   "metadata": {},
   "source": [
    "# predict accent on the test folder data"
   ]
  },
  {
   "cell_type": "code",
   "execution_count": 29,
   "id": "6f37ba50",
   "metadata": {},
   "outputs": [
    {
     "data": {
      "application/vnd.microsoft.datawrangler.viewer.v0+json": {
       "columns": [
        {
         "name": "index",
         "rawType": "int64",
         "type": "integer"
        },
        {
         "name": "file",
         "rawType": "object",
         "type": "string"
        },
        {
         "name": "file_path",
         "rawType": "object",
         "type": "string"
        },
        {
         "name": "file_name",
         "rawType": "object",
         "type": "string"
        }
       ],
       "ref": "34b0bd1e-971e-445f-b560-4f048e5dc68b",
       "rows": [
        [
         "0",
         "9430.wav",
         "/Users/kaispeidel/Downloads/DeepLearning/Test/9430.wav",
         "9430"
        ],
        [
         "1",
         "4458.wav",
         "/Users/kaispeidel/Downloads/DeepLearning/Test/4458.wav",
         "4458"
        ],
        [
         "2",
         "1534.wav",
         "/Users/kaispeidel/Downloads/DeepLearning/Test/1534.wav",
         "1534"
        ],
        [
         "3",
         "8510.wav",
         "/Users/kaispeidel/Downloads/DeepLearning/Test/8510.wav",
         "8510"
        ],
        [
         "4",
         "7192.wav",
         "/Users/kaispeidel/Downloads/DeepLearning/Test/7192.wav",
         "7192"
        ]
       ],
       "shape": {
        "columns": 3,
        "rows": 5
       }
      },
      "text/html": [
       "<div>\n",
       "<style scoped>\n",
       "    .dataframe tbody tr th:only-of-type {\n",
       "        vertical-align: middle;\n",
       "    }\n",
       "\n",
       "    .dataframe tbody tr th {\n",
       "        vertical-align: top;\n",
       "    }\n",
       "\n",
       "    .dataframe thead th {\n",
       "        text-align: right;\n",
       "    }\n",
       "</style>\n",
       "<table border=\"1\" class=\"dataframe\">\n",
       "  <thead>\n",
       "    <tr style=\"text-align: right;\">\n",
       "      <th></th>\n",
       "      <th>file</th>\n",
       "      <th>file_path</th>\n",
       "      <th>file_name</th>\n",
       "    </tr>\n",
       "  </thead>\n",
       "  <tbody>\n",
       "    <tr>\n",
       "      <th>0</th>\n",
       "      <td>9430.wav</td>\n",
       "      <td>/Users/kaispeidel/Downloads/DeepLearning/Test/...</td>\n",
       "      <td>9430</td>\n",
       "    </tr>\n",
       "    <tr>\n",
       "      <th>1</th>\n",
       "      <td>4458.wav</td>\n",
       "      <td>/Users/kaispeidel/Downloads/DeepLearning/Test/...</td>\n",
       "      <td>4458</td>\n",
       "    </tr>\n",
       "    <tr>\n",
       "      <th>2</th>\n",
       "      <td>1534.wav</td>\n",
       "      <td>/Users/kaispeidel/Downloads/DeepLearning/Test/...</td>\n",
       "      <td>1534</td>\n",
       "    </tr>\n",
       "    <tr>\n",
       "      <th>3</th>\n",
       "      <td>8510.wav</td>\n",
       "      <td>/Users/kaispeidel/Downloads/DeepLearning/Test/...</td>\n",
       "      <td>8510</td>\n",
       "    </tr>\n",
       "    <tr>\n",
       "      <th>4</th>\n",
       "      <td>7192.wav</td>\n",
       "      <td>/Users/kaispeidel/Downloads/DeepLearning/Test/...</td>\n",
       "      <td>7192</td>\n",
       "    </tr>\n",
       "  </tbody>\n",
       "</table>\n",
       "</div>"
      ],
      "text/plain": [
       "       file                                          file_path file_name\n",
       "0  9430.wav  /Users/kaispeidel/Downloads/DeepLearning/Test/...      9430\n",
       "1  4458.wav  /Users/kaispeidel/Downloads/DeepLearning/Test/...      4458\n",
       "2  1534.wav  /Users/kaispeidel/Downloads/DeepLearning/Test/...      1534\n",
       "3  8510.wav  /Users/kaispeidel/Downloads/DeepLearning/Test/...      8510\n",
       "4  7192.wav  /Users/kaispeidel/Downloads/DeepLearning/Test/...      7192"
      ]
     },
     "execution_count": 29,
     "metadata": {},
     "output_type": "execute_result"
    }
   ],
   "source": [
    "#* predict on the test directory\n",
    "test_dir = '/Users/kaispeidel/Downloads/DeepLearning/Test'\n",
    "test_files = os.listdir(test_dir)\n",
    "\n",
    "test_df = pd.DataFrame(test_files, columns=['file'])\n",
    "test_df['file_path'] = test_df['file'].apply(lambda x: os.path.join(test_dir, x))\n",
    "test_df['file_name'] = test_df['file'].str.replace('.wav', '')\n",
    "\n",
    "test_df.head()\n"
   ]
  },
  {
   "cell_type": "code",
   "execution_count": 54,
   "id": "40369485",
   "metadata": {},
   "outputs": [
    {
     "name": "stdout",
     "output_type": "stream",
     "text": [
      "--------------------------------------------------\n",
      "processing test files...\n",
      "Test data shape: (551, 16000, 1)\n",
      "\u001b[1m18/18\u001b[0m \u001b[32m━━━━━━━━━━━━━━━━━━━━\u001b[0m\u001b[37m\u001b[0m \u001b[1m0s\u001b[0m 10ms/step\n",
      "\n",
      "Prediction results:\n",
      "       file  predicted_accent_1D_CNN_raw_audio\n",
      "0  9430.wav                                  4\n",
      "1  4458.wav                                  4\n",
      "2  1534.wav                                  1\n",
      "3  8510.wav                                  4\n",
      "4  7192.wav                                  4\n",
      "5  2607.wav                                  4\n",
      "6  1468.wav                                  4\n",
      "7  5626.wav                                  3\n",
      "8  9949.wav                                  3\n",
      "9  5815.wav                                  4\n",
      "\n",
      "Predictions saved to 'test_predictions.csv'\n",
      "\n",
      "Predicted accent distribution:\n",
      "Accent 1: 41 files\n",
      "Accent 2: 62 files\n",
      "Accent 3: 98 files\n",
      "Accent 4: 284 files\n",
      "Accent 5: 66 files\n"
     ]
    }
   ],
   "source": [
    "print(f\"-----\"*10)\n",
    "#* predict the accents for the test set\n",
    "X_test = []\n",
    "\n",
    "print(\"processing test files...\")\n",
    "for i, row in test_df.iterrows():\n",
    "    file_path = row['file_path']\n",
    "    audio, sr = librosa.load(file_path, sr=16000)\n",
    "    \n",
    "    #* same preprocessing as training data\n",
    "    audio = (audio - np.mean(audio)) / (np.std(audio) + 1e-8)\n",
    "    padded_audio = custom_pad_raw_audio(audio, raw_audio_length)\n",
    "    \n",
    "    X_test.append(padded_audio)\n",
    "\n",
    "#* convert to numpy array and reshape for CNN\n",
    "X_test = np.array(X_test)\n",
    "X_test = X_test.reshape(X_test.shape[0], X_test.shape[1], 1)\n",
    "\n",
    "print(f\"Test data shape: {X_test.shape}\")\n",
    "\n",
    "#* make predictions using the trained model\n",
    "predictions = final_model.predict(X_test)\n",
    "predicted_classes = np.argmax(predictions, axis=1)\n",
    "\n",
    "#* convert back to accent labels (1-5)\n",
    "predicted_accents = predicted_classes + 1\n",
    "\n",
    "#* add predictions to test dataframe\n",
    "test_df['predicted_accent_1D_CNN_raw_audio'] = predicted_accents\n",
    "\n",
    "#* show results\n",
    "print(f\"\\nPrediction results:\")\n",
    "print(test_df[['file', 'predicted_accent_1D_CNN_raw_audio']].head(10))\n",
    "\n",
    "#* save predictions to CSV\n",
    "test_df[['file', 'predicted_accent_1D_CNN_raw_audio']].to_csv('test_accent_predictions.csv', index=False)\n",
    "print(f\"\\nPredictions saved to 'test_predictions.csv'\")\n",
    "\n",
    "#* show distribution of predicted accents\n",
    "accent_counts = test_df['predicted_accent_1D_CNN_raw_audio'].value_counts().sort_index()\n",
    "print(f\"\\nPredicted accent distribution:\")\n",
    "for accent, count in accent_counts.items():\n",
    "    print(f\"Accent {accent}: {count} files\")"
   ]
  },
  {
   "cell_type": "code",
   "execution_count": null,
   "id": "c5f5ef4f",
   "metadata": {},
   "outputs": [],
   "source": []
  }
 ],
 "metadata": {
  "kernelspec": {
   "display_name": "Python 3",
   "language": "python",
   "name": "python3"
  },
  "language_info": {
   "codemirror_mode": {
    "name": "ipython",
    "version": 3
   },
   "file_extension": ".py",
   "mimetype": "text/x-python",
   "name": "python",
   "nbconvert_exporter": "python",
   "pygments_lexer": "ipython3",
   "version": "3.11.12"
  }
 },
 "nbformat": 4,
 "nbformat_minor": 5
}
