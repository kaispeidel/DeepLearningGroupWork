{
 "cells": [
  {
   "cell_type": "markdown",
   "id": "47b32dcf",
   "metadata": {},
   "source": [
    "# 1D CNN Model on the raw audio data"
   ]
  },
  {
   "cell_type": "markdown",
   "id": "70ed9a3c",
   "metadata": {},
   "source": [
    "### loading the dependencies"
   ]
  },
  {
   "cell_type": "code",
   "execution_count": 13,
   "id": "2c072010",
   "metadata": {},
   "outputs": [
    {
     "name": "stdout",
     "output_type": "stream",
     "text": [
      "The tensorboard extension is already loaded. To reload it, use:\n",
      "  %reload_ext tensorboard\n"
     ]
    }
   ],
   "source": [
    "\n",
    "#* libraries we will need.\n",
    "import pandas as pd\n",
    "import matplotlib.pyplot as plt\n",
    "import librosa\n",
    "import librosa.display\n",
    "from tqdm import tqdm\n",
    "import numpy as np\n",
    "from sklearn.model_selection import train_test_split\n",
    "import tensorflow as tf\n",
    "import tensorflow.keras.models as models\n",
    "import tensorflow.keras.layers as layers\n",
    "import IPython.display as ipd\n",
    "from IPython.core.interactiveshell import InteractiveShell\n",
    "InteractiveShell.ast_node_interactivity = \"all\"\n",
    "\n",
    "%matplotlib inline\n",
    "%load_ext tensorboard"
   ]
  },
  {
   "cell_type": "code",
   "execution_count": 14,
   "id": "c0181f31",
   "metadata": {},
   "outputs": [],
   "source": [
    "import numpy as np\n",
    "import pandas as pd\n",
    "import matplotlib.pyplot as plt\n",
    "import seaborn as sns\n",
    "import os"
   ]
  },
  {
   "cell_type": "code",
   "execution_count": 15,
   "id": "76007649",
   "metadata": {},
   "outputs": [],
   "source": [
    "def custom_pad_raw_audio(audio, fixed_length):\n",
    "    padded = np.zeros(fixed_length)  #* zero-filled array\n",
    "    length_to_copy = min(len(audio), fixed_length)\n",
    "    padded[:length_to_copy] = audio[:length_to_copy]\n",
    "    return padded"
   ]
  },
  {
   "cell_type": "markdown",
   "id": "05a6500d",
   "metadata": {},
   "source": [
    "### limit cpu usage"
   ]
  },
  {
   "cell_type": "code",
   "execution_count": 16,
   "id": "7fa84813",
   "metadata": {},
   "outputs": [
    {
     "name": "stdout",
     "output_type": "stream",
     "text": [
      "Total CPUs: 8, Using: 5 (70%)\n",
      "Could not set memory limit: current limit exceeds maximum limit\n"
     ]
    }
   ],
   "source": [
    "# Limit CPU usage for TensorFlow\n",
    "import tensorflow as tf\n",
    "import multiprocessing\n",
    "\n",
    "# Get number of available CPU cores\n",
    "num_cpu = multiprocessing.cpu_count()\n",
    "num_cpu_to_use = int(num_cpu * 0.7)  # Use 70% of available CPUs\n",
    "\n",
    "# Configure TensorFlow to use specific number of threads\n",
    "tf.config.threading.set_intra_op_parallelism_threads(num_cpu_to_use)\n",
    "tf.config.threading.set_inter_op_parallelism_threads(num_cpu_to_use)\n",
    "\n",
    "print(f\"Total CPUs: {num_cpu}, Using: {num_cpu_to_use} (70%)\")\n",
    "\n",
    "# For memory limitation\n",
    "import resource\n",
    "import psutil\n",
    "\n",
    "# Get total system memory\n",
    "try:\n",
    "    total_memory = psutil.virtual_memory().total\n",
    "    memory_limit = int(total_memory * 0.7)  # 70% of memory\n",
    "    \n",
    "    # Set soft limit\n",
    "    resource.setrlimit(resource.RLIMIT_AS, (memory_limit, memory_limit))\n",
    "    print(f\"System memory limited to {memory_limit/(1024**3):.2f} GB (70%)\")\n",
    "except Exception as e:\n",
    "    print(f\"Could not set memory limit: {e}\")\n",
    "    \n",
    "# Check for available GPUs\n",
    "gpus = tf.config.list_physical_devices('GPU')\n",
    "if gpus:\n",
    "    try:\n",
    "        # For GPU devices, we can use memory growth\n",
    "        for gpu in gpus:\n",
    "            tf.config.experimental.set_memory_growth(gpu, True)\n",
    "        print(f\"Found {len(gpus)} GPU(s), memory growth enabled\")\n",
    "    except Exception as e:\n",
    "        print(f\"Error configuring GPUs: {e}\")"
   ]
  },
  {
   "cell_type": "markdown",
   "id": "d00ef890",
   "metadata": {},
   "source": [
    "### inintalize model"
   ]
  },
  {
   "cell_type": "code",
   "execution_count": 17,
   "id": "732097aa",
   "metadata": {},
   "outputs": [
    {
     "name": "stdout",
     "output_type": "stream",
     "text": [
      "searching for maximum audio length...\n"
     ]
    },
    {
     "name": "stderr",
     "output_type": "stream",
     "text": [
      "Checking audio lengths: 100%|██████████| 3166/3166 [00:06<00:00, 457.02it/s]\n",
      "Raw Audio Progress: 3166it [00:03, 853.85it/s] \n"
     ]
    },
    {
     "name": "stdout",
     "output_type": "stream",
     "text": [
      "Raw audio training set: 2217 samples\n",
      "Raw audio validation set: 474 samples\n",
      "Raw audio test set: 475 samples\n",
      "\n",
      "Dataframes created:\n",
      "Test set dataframe: 475 samples\n"
     ]
    }
   ],
   "source": [
    "from tensorflow.keras.utils import to_categorical\n",
    "\n",
    "\n",
    "# Reload the train_df to make sure we have the original data\n",
    "train_dir = '/Users/kaispeidel/Downloads/DeepLearning/Train'\n",
    "train_files = os.listdir(train_dir)\n",
    "max_length = 0\n",
    "\n",
    "print(\"searching for maximum audio length...\")\n",
    "for file in tqdm(train_files, desc='Checking audio lengths'):\n",
    "    if file.endswith('.wav'):\n",
    "        file_path = os.path.join(train_dir, file)\n",
    "        audio, sr = librosa.load(file_path, sr=16000)\n",
    "        max_length = max(max_length, len(audio))\n",
    "\n",
    "raw_audio_length = max_length  #* set raw audio length to maximum found\n",
    "\n",
    "train_df = pd.DataFrame(train_files, columns=['file'])\n",
    "train_df['file_path'] = train_df['file'].apply(lambda x: os.path.join(train_dir, x))\n",
    "train_df['file_name'] = train_df['file'].str.replace('.wav', '')\n",
    "train_df['accent'] = train_df['file_name'].str[0]\n",
    "train_df['gender'] = train_df['file_name'].str[1]\n",
    "\n",
    "df_raw = train_df.copy()\n",
    "\n",
    "#* process raw audio data\n",
    "X_raw = []\n",
    "y_raw = []\n",
    "\n",
    "for data in tqdm(df_raw.iterrows(), desc='Raw Audio Progress'):\n",
    "    file_path = os.path.join(train_dir, data[1]['file'])  # Fixed: use train_dir instead of data_dir\n",
    "    audio, sr = librosa.load(file_path, sr=16000)\n",
    "    \n",
    "    #* z-score standardization\n",
    "    audio = (audio - np.mean(audio)) / (np.std(audio) + 1e-8)\n",
    "    \n",
    "    #* padding to fixed length\n",
    "    padded_audio = custom_pad_raw_audio(audio, raw_audio_length)\n",
    "    \n",
    "    X_raw.append(padded_audio)\n",
    "    y_raw.append(data[1]['accent'])  # Use accent from original dataframe\n",
    "\n",
    "# Convert to numpy arrays\n",
    "X_raw = np.array(X_raw)\n",
    "y_raw = np.array(y_raw, dtype=int)\n",
    "\n",
    "# Prepare labels\n",
    "y_raw = y_raw.astype(int) - 1\n",
    "y_raw = to_categorical(y_raw, num_classes=5)\n",
    "\n",
    "#* reshpae for a 1D CNN\n",
    "X_raw = X_raw.reshape(X_raw.shape[0], X_raw.shape[1], 1)\n",
    "\n",
    "#* train/validation/test split \n",
    "X_raw_temp, X_raw_test, y_raw_temp, y_raw_test = train_test_split(\n",
    "    X_raw, y_raw, test_size=0.15, random_state=42, stratify=y_raw\n",
    ")\n",
    "\n",
    "X_raw_train, X_raw_val, y_raw_train, y_raw_val = train_test_split(\n",
    "    X_raw_temp, y_raw_temp, test_size=0.176, random_state=42, stratify=y_raw_temp \n",
    ")\n",
    "\n",
    "#* create dataframes with file infor for each split\n",
    "temp_indices = list(range(len(df_raw)))\n",
    "\n",
    "#! Split indices same way as data\n",
    "temp_train_idx, test_idx = train_test_split(\n",
    "    temp_indices, test_size=0.15, random_state=42, \n",
    "    stratify=[df_raw.iloc[i]['accent'] for i in temp_indices]\n",
    ")\n",
    "\n",
    "train_idx, val_idx = train_test_split(\n",
    "    temp_train_idx, test_size=0.176, random_state=42,\n",
    "    stratify=[df_raw.iloc[i]['accent'] for i in temp_train_idx]\n",
    ")\n",
    "\n",
    "#* create dataframe with file info and arrays\n",
    "test_set_df = df_raw.iloc[test_idx].copy().reset_index(drop=True)\n",
    "\n",
    "#* add audio arrays to dataframes\n",
    "test_set_df['audio_array'] = list(X_raw_test)\n",
    "\n",
    "test_set_df['predicted_accent'] = None\n",
    "\n",
    "\n",
    "print(f\"Raw audio training set: {X_raw_train.shape[0]} samples\")\n",
    "print(f\"Raw audio validation set: {X_raw_val.shape[0]} samples\") \n",
    "print(f\"Raw audio test set: {X_raw_test.shape[0]} samples\")\n",
    "print(f\"\\nDataframes created:\")\n",
    "\n",
    "print(f\"Test set dataframe: {test_set_df.shape[0]} samples\")\n"
   ]
  },
  {
   "cell_type": "code",
   "execution_count": 18,
   "id": "8d3914aa",
   "metadata": {},
   "outputs": [
    {
     "data": {
      "application/vnd.microsoft.datawrangler.viewer.v0+json": {
       "columns": [
        {
         "name": "index",
         "rawType": "int64",
         "type": "integer"
        },
        {
         "name": "file",
         "rawType": "object",
         "type": "string"
        },
        {
         "name": "file_path",
         "rawType": "object",
         "type": "string"
        },
        {
         "name": "file_name",
         "rawType": "object",
         "type": "string"
        },
        {
         "name": "accent",
         "rawType": "object",
         "type": "string"
        },
        {
         "name": "gender",
         "rawType": "object",
         "type": "string"
        },
        {
         "name": "audio_array",
         "rawType": "object",
         "type": "unknown"
        },
        {
         "name": "predicted_accent",
         "rawType": "object",
         "type": "unknown"
        }
       ],
       "ref": "1bb160c8-b3ba-487a-a046-9ffc483e3991",
       "rows": [
        [
         "0",
         "5f_8431.wav",
         "/Users/kaispeidel/Downloads/DeepLearning/Train/5f_8431.wav",
         "5f_8431",
         "5",
         "f",
         "[[-7.16434151e-04]\n [-7.32791596e-05]\n [-7.32791596e-05]\n ...\n [ 0.00000000e+00]\n [ 0.00000000e+00]\n [ 0.00000000e+00]]",
         null
        ],
        [
         "1",
         "5f_3560.wav",
         "/Users/kaispeidel/Downloads/DeepLearning/Train/5f_3560.wav",
         "5f_3560",
         "5",
         "f",
         "[[-0.00688555]\n [-0.00688555]\n [-0.00579686]\n ...\n [ 0.        ]\n [ 0.        ]\n [ 0.        ]]",
         null
        ],
        [
         "2",
         "4f_9833.wav",
         "/Users/kaispeidel/Downloads/DeepLearning/Train/4f_9833.wav",
         "4f_9833",
         "4",
         "f",
         "[[0.00104494]\n [0.00420673]\n [0.00547145]\n ...\n [0.        ]\n [0.        ]\n [0.        ]]",
         null
        ],
        [
         "3",
         "1f_9293.wav",
         "/Users/kaispeidel/Downloads/DeepLearning/Train/1f_9293.wav",
         "1f_9293",
         "1",
         "f",
         "[[-0.0043571 ]\n [-0.00563177]\n [-0.00563177]\n ...\n [ 0.        ]\n [ 0.        ]\n [ 0.        ]]",
         null
        ],
        [
         "4",
         "2f_8352.wav",
         "/Users/kaispeidel/Downloads/DeepLearning/Train/2f_8352.wav",
         "2f_8352",
         "2",
         "f",
         "[[-0.00111337]\n [-0.00157428]\n [-0.0024961 ]\n ...\n [ 0.        ]\n [ 0.        ]\n [ 0.        ]]",
         null
        ],
        [
         "5",
         "2f_5138.wav",
         "/Users/kaispeidel/Downloads/DeepLearning/Train/2f_5138.wav",
         "2f_5138",
         "2",
         "f",
         "[[0.02521582]\n [0.01549819]\n [0.00869585]\n ...\n [0.        ]\n [0.        ]\n [0.        ]]",
         null
        ],
        [
         "6",
         "5f_9479.wav",
         "/Users/kaispeidel/Downloads/DeepLearning/Train/5f_9479.wav",
         "5f_9479",
         "5",
         "f",
         "[[-0.00242495]\n [-0.00120503]\n [-0.00201831]\n ...\n [ 0.        ]\n [ 0.        ]\n [ 0.        ]]",
         null
        ],
        [
         "7",
         "1f_5518.wav",
         "/Users/kaispeidel/Downloads/DeepLearning/Train/1f_5518.wav",
         "1f_5518",
         "1",
         "f",
         "[[-0.00248076]\n [-0.00248076]\n [-0.00248076]\n ...\n [ 0.        ]\n [ 0.        ]\n [ 0.        ]]",
         null
        ],
        [
         "8",
         "3m_3132.wav",
         "/Users/kaispeidel/Downloads/DeepLearning/Train/3m_3132.wav",
         "3m_3132",
         "3",
         "m",
         "[[-0.00573777]\n [-0.00308192]\n [-0.00308192]\n ...\n [ 0.        ]\n [ 0.        ]\n [ 0.        ]]",
         null
        ],
        [
         "9",
         "2f_8444.wav",
         "/Users/kaispeidel/Downloads/DeepLearning/Train/2f_8444.wav",
         "2f_8444",
         "2",
         "f",
         "[[ 0.00081507]\n [ 0.00131049]\n [-0.00017578]\n ...\n [ 0.        ]\n [ 0.        ]\n [ 0.        ]]",
         null
        ],
        [
         "10",
         "5m_7013.wav",
         "/Users/kaispeidel/Downloads/DeepLearning/Train/5m_7013.wav",
         "5m_7013",
         "5",
         "m",
         "[[0.00402503]\n [0.00135897]\n [0.00047028]\n ...\n [0.        ]\n [0.        ]\n [0.        ]]",
         null
        ],
        [
         "11",
         "5f_6372.wav",
         "/Users/kaispeidel/Downloads/DeepLearning/Train/5f_6372.wav",
         "5f_6372",
         "5",
         "f",
         "[[0.00245926]\n [0.00107729]\n [0.0007318 ]\n ...\n [0.        ]\n [0.        ]\n [0.        ]]",
         null
        ],
        [
         "12",
         "4f_3998.wav",
         "/Users/kaispeidel/Downloads/DeepLearning/Train/4f_3998.wav",
         "4f_3998",
         "4",
         "f",
         "[[-0.00081496]\n [-0.00112587]\n [-0.00143678]\n ...\n [ 0.        ]\n [ 0.        ]\n [ 0.        ]]",
         null
        ],
        [
         "13",
         "1f_5040.wav",
         "/Users/kaispeidel/Downloads/DeepLearning/Train/1f_5040.wav",
         "1f_5040",
         "1",
         "f",
         "[[-0.00021746]\n [ 0.00013549]\n [-0.00021746]\n ...\n [ 0.        ]\n [ 0.        ]\n [ 0.        ]]",
         null
        ],
        [
         "14",
         "4m_3898.wav",
         "/Users/kaispeidel/Downloads/DeepLearning/Train/4m_3898.wav",
         "4m_3898",
         "4",
         "m",
         "[[-0.00024581]\n [-0.00024581]\n [-0.0009791 ]\n ...\n [ 0.        ]\n [ 0.        ]\n [ 0.        ]]",
         null
        ],
        [
         "15",
         "2m_5366.wav",
         "/Users/kaispeidel/Downloads/DeepLearning/Train/2m_5366.wav",
         "2m_5366",
         "2",
         "m",
         "[[-0.00343235]\n [-0.00765768]\n [-0.00765768]\n ...\n [ 0.        ]\n [ 0.        ]\n [ 0.        ]]",
         null
        ],
        [
         "16",
         "3f_4940.wav",
         "/Users/kaispeidel/Downloads/DeepLearning/Train/3f_4940.wav",
         "3f_4940",
         "3",
         "f",
         "[[0.01912126]\n [0.0174008 ]\n [0.01611045]\n ...\n [0.        ]\n [0.        ]\n [0.        ]]",
         null
        ],
        [
         "17",
         "4f_6674.wav",
         "/Users/kaispeidel/Downloads/DeepLearning/Train/4f_6674.wav",
         "4f_6674",
         "4",
         "f",
         "[[0.01161187]\n [0.00860953]\n [0.01161187]\n ...\n [0.        ]\n [0.        ]\n [0.        ]]",
         null
        ],
        [
         "18",
         "1m_1928.wav",
         "/Users/kaispeidel/Downloads/DeepLearning/Train/1m_1928.wav",
         "1m_1928",
         "1",
         "m",
         "[[-9.42893093e-04]\n [ 5.45571849e-04]\n [ 4.94168962e-05]\n ...\n [ 0.00000000e+00]\n [ 0.00000000e+00]\n [ 0.00000000e+00]]",
         null
        ],
        [
         "19",
         "4f_7754.wav",
         "/Users/kaispeidel/Downloads/DeepLearning/Train/4f_7754.wav",
         "4f_7754",
         "4",
         "f",
         "[[0.00045671]\n [0.00121209]\n [0.00121209]\n ...\n [0.        ]\n [0.        ]\n [0.        ]]",
         null
        ],
        [
         "20",
         "2m_8626.wav",
         "/Users/kaispeidel/Downloads/DeepLearning/Train/2m_8626.wav",
         "2m_8626",
         "2",
         "m",
         "[[-0.00690633]\n [-0.00468258]\n [-0.00512733]\n ...\n [ 0.        ]\n [ 0.        ]\n [ 0.        ]]",
         null
        ],
        [
         "21",
         "4f_6088.wav",
         "/Users/kaispeidel/Downloads/DeepLearning/Train/4f_6088.wav",
         "4f_6088",
         "4",
         "f",
         "[[0.00256013]\n [0.00221441]\n [0.00048578]\n ...\n [0.        ]\n [0.        ]\n [0.        ]]",
         null
        ],
        [
         "22",
         "4m_1598.wav",
         "/Users/kaispeidel/Downloads/DeepLearning/Train/4m_1598.wav",
         "4m_1598",
         "4",
         "m",
         "[[-0.05376391]\n [-0.05816337]\n [-0.05376391]\n ...\n [ 0.        ]\n [ 0.        ]\n [ 0.        ]]",
         null
        ],
        [
         "23",
         "5m_5063.wav",
         "/Users/kaispeidel/Downloads/DeepLearning/Train/5m_5063.wav",
         "5m_5063",
         "5",
         "m",
         "[[0.00945253]\n [0.00945253]\n [0.01163252]\n ...\n [0.        ]\n [0.        ]\n [0.        ]]",
         null
        ],
        [
         "24",
         "4m_6281.wav",
         "/Users/kaispeidel/Downloads/DeepLearning/Train/4m_6281.wav",
         "4m_6281",
         "4",
         "m",
         "[[-0.00771183]\n [-0.00835994]\n [-0.00641563]\n ...\n [ 0.        ]\n [ 0.        ]\n [ 0.        ]]",
         null
        ],
        [
         "25",
         "4m_9380.wav",
         "/Users/kaispeidel/Downloads/DeepLearning/Train/4m_9380.wav",
         "4m_9380",
         "4",
         "m",
         "[[0.00075266]\n [0.00075266]\n [0.00075266]\n ...\n [0.        ]\n [0.        ]\n [0.        ]]",
         null
        ],
        [
         "26",
         "4m_1452.wav",
         "/Users/kaispeidel/Downloads/DeepLearning/Train/4m_1452.wav",
         "4m_1452",
         "4",
         "m",
         "[[ 0.00055669]\n [-0.00020996]\n [ 0.00017337]\n ...\n [ 0.        ]\n [ 0.        ]\n [ 0.        ]]",
         null
        ],
        [
         "27",
         "1f_8218.wav",
         "/Users/kaispeidel/Downloads/DeepLearning/Train/1f_8218.wav",
         "1f_8218",
         "1",
         "f",
         "[[-0.00111367]\n [-0.00037347]\n [-0.00037347]\n ...\n [ 0.        ]\n [ 0.        ]\n [ 0.        ]]",
         null
        ],
        [
         "28",
         "1f_3854.wav",
         "/Users/kaispeidel/Downloads/DeepLearning/Train/1f_3854.wav",
         "1f_3854",
         "1",
         "f",
         "[[-0.02147174]\n [-0.0191582 ]\n [-0.0191582 ]\n ...\n [ 0.        ]\n [ 0.        ]\n [ 0.        ]]",
         null
        ],
        [
         "29",
         "5f_2207.wav",
         "/Users/kaispeidel/Downloads/DeepLearning/Train/5f_2207.wav",
         "5f_2207",
         "5",
         "f",
         "[[0.00508921]\n [0.00352265]\n [0.00665577]\n ...\n [0.        ]\n [0.        ]\n [0.        ]]",
         null
        ],
        [
         "30",
         "1f_2182.wav",
         "/Users/kaispeidel/Downloads/DeepLearning/Train/1f_2182.wav",
         "1f_2182",
         "1",
         "f",
         "[[0.00065587]\n [0.00065587]\n [0.00065587]\n ...\n [0.        ]\n [0.        ]\n [0.        ]]",
         null
        ],
        [
         "31",
         "2f_9607.wav",
         "/Users/kaispeidel/Downloads/DeepLearning/Train/2f_9607.wav",
         "2f_9607",
         "2",
         "f",
         "[[-0.00140647]\n [-0.00140647]\n [-0.00140647]\n ...\n [ 0.        ]\n [ 0.        ]\n [ 0.        ]]",
         null
        ],
        [
         "32",
         "2f_2444.wav",
         "/Users/kaispeidel/Downloads/DeepLearning/Train/2f_2444.wav",
         "2f_2444",
         "2",
         "f",
         "[[0.00453275]\n [0.0030853 ]\n [0.00417088]\n ...\n [0.        ]\n [0.        ]\n [0.        ]]",
         null
        ],
        [
         "33",
         "1f_5299.wav",
         "/Users/kaispeidel/Downloads/DeepLearning/Train/1f_5299.wav",
         "1f_5299",
         "1",
         "f",
         "[[ 0.0008342 ]\n [-0.00056307]\n [ 0.0008342 ]\n ...\n [ 0.        ]\n [ 0.        ]\n [ 0.        ]]",
         null
        ],
        [
         "34",
         "4f_6720.wav",
         "/Users/kaispeidel/Downloads/DeepLearning/Train/4f_6720.wav",
         "4f_6720",
         "4",
         "f",
         "[[-0.00474377]\n [-0.00149042]\n [-0.00149042]\n ...\n [ 0.        ]\n [ 0.        ]\n [ 0.        ]]",
         null
        ],
        [
         "35",
         "4m_5325.wav",
         "/Users/kaispeidel/Downloads/DeepLearning/Train/4m_5325.wav",
         "4m_5325",
         "4",
         "m",
         "[[0.00063071]\n [0.0002211 ]\n [0.00063071]\n ...\n [0.        ]\n [0.        ]\n [0.        ]]",
         null
        ],
        [
         "36",
         "1f_7454.wav",
         "/Users/kaispeidel/Downloads/DeepLearning/Train/1f_7454.wav",
         "1f_7454",
         "1",
         "f",
         "[[-0.00023259]\n [-0.00023259]\n [-0.00023259]\n ...\n [ 0.        ]\n [ 0.        ]\n [ 0.        ]]",
         null
        ],
        [
         "37",
         "3m_8790.wav",
         "/Users/kaispeidel/Downloads/DeepLearning/Train/3m_8790.wav",
         "3m_8790",
         "3",
         "m",
         "[[ 0.00021849]\n [-0.00043514]\n [-0.00043514]\n ...\n [ 0.        ]\n [ 0.        ]\n [ 0.        ]]",
         null
        ],
        [
         "38",
         "4m_7504.wav",
         "/Users/kaispeidel/Downloads/DeepLearning/Train/4m_7504.wav",
         "4m_7504",
         "4",
         "m",
         "[[ 0.00133851]\n [ 0.00211877]\n [-0.00061214]\n ...\n [ 0.        ]\n [ 0.        ]\n [ 0.        ]]",
         null
        ],
        [
         "39",
         "1f_1082.wav",
         "/Users/kaispeidel/Downloads/DeepLearning/Train/1f_1082.wav",
         "1f_1082",
         "1",
         "f",
         "[[ 0.00333598]\n [-0.00041202]\n [ 0.00108718]\n ...\n [ 0.        ]\n [ 0.        ]\n [ 0.        ]]",
         null
        ],
        [
         "40",
         "3m_6691.wav",
         "/Users/kaispeidel/Downloads/DeepLearning/Train/3m_6691.wav",
         "3m_6691",
         "3",
         "m",
         "[[0.01932576]\n [0.02250463]\n [0.02250463]\n ...\n [0.        ]\n [0.        ]\n [0.        ]]",
         null
        ],
        [
         "41",
         "3m_3382.wav",
         "/Users/kaispeidel/Downloads/DeepLearning/Train/3m_3382.wav",
         "3m_3382",
         "3",
         "m",
         "[[-0.02076804]\n [-0.02634909]\n [-0.0293933 ]\n ...\n [ 0.        ]\n [ 0.        ]\n [ 0.        ]]",
         null
        ],
        [
         "42",
         "1f_7577.wav",
         "/Users/kaispeidel/Downloads/DeepLearning/Train/1f_7577.wav",
         "1f_7577",
         "1",
         "f",
         "[[-0.00041452]\n [-0.00041452]\n [-0.00041452]\n ...\n [ 0.        ]\n [ 0.        ]\n [ 0.        ]]",
         null
        ],
        [
         "43",
         "4f_2773.wav",
         "/Users/kaispeidel/Downloads/DeepLearning/Train/4f_2773.wav",
         "4f_2773",
         "4",
         "f",
         "[[0.00251945]\n [0.00251945]\n [0.00398241]\n ...\n [0.        ]\n [0.        ]\n [0.        ]]",
         null
        ],
        [
         "44",
         "4m_6566.wav",
         "/Users/kaispeidel/Downloads/DeepLearning/Train/4m_6566.wav",
         "4m_6566",
         "4",
         "m",
         "[[-0.00263437]\n [-0.0003556 ]\n [-0.0003556 ]\n ...\n [ 0.        ]\n [ 0.        ]\n [ 0.        ]]",
         null
        ],
        [
         "45",
         "4f_1052.wav",
         "/Users/kaispeidel/Downloads/DeepLearning/Train/4f_1052.wav",
         "4f_1052",
         "4",
         "f",
         "[[0.00938673]\n [0.00994452]\n [0.0110601 ]\n ...\n [0.        ]\n [0.        ]\n [0.        ]]",
         null
        ],
        [
         "46",
         "2m_2699.wav",
         "/Users/kaispeidel/Downloads/DeepLearning/Train/2m_2699.wav",
         "2m_2699",
         "2",
         "m",
         "[[0.00204315]\n [0.00338351]\n [0.00177508]\n ...\n [0.        ]\n [0.        ]\n [0.        ]]",
         null
        ],
        [
         "47",
         "3f_7569.wav",
         "/Users/kaispeidel/Downloads/DeepLearning/Train/3f_7569.wav",
         "3f_7569",
         "3",
         "f",
         "[[ 0.00051593]\n [ 0.00010349]\n [-0.0007214 ]\n ...\n [ 0.        ]\n [ 0.        ]\n [ 0.        ]]",
         null
        ],
        [
         "48",
         "4m_6413.wav",
         "/Users/kaispeidel/Downloads/DeepLearning/Train/4m_6413.wav",
         "4m_6413",
         "4",
         "m",
         "[[0.0054101 ]\n [0.00240565]\n [0.00390787]\n ...\n [0.        ]\n [0.        ]\n [0.        ]]",
         null
        ],
        [
         "49",
         "3m_3335.wav",
         "/Users/kaispeidel/Downloads/DeepLearning/Train/3m_3335.wav",
         "3m_3335",
         "3",
         "m",
         "[[0.00298763]\n [0.00161024]\n [0.00206937]\n ...\n [0.        ]\n [0.        ]\n [0.        ]]",
         null
        ]
       ],
       "shape": {
        "columns": 7,
        "rows": 475
       }
      },
      "text/html": [
       "<div>\n",
       "<style scoped>\n",
       "    .dataframe tbody tr th:only-of-type {\n",
       "        vertical-align: middle;\n",
       "    }\n",
       "\n",
       "    .dataframe tbody tr th {\n",
       "        vertical-align: top;\n",
       "    }\n",
       "\n",
       "    .dataframe thead th {\n",
       "        text-align: right;\n",
       "    }\n",
       "</style>\n",
       "<table border=\"1\" class=\"dataframe\">\n",
       "  <thead>\n",
       "    <tr style=\"text-align: right;\">\n",
       "      <th></th>\n",
       "      <th>file</th>\n",
       "      <th>file_path</th>\n",
       "      <th>file_name</th>\n",
       "      <th>accent</th>\n",
       "      <th>gender</th>\n",
       "      <th>audio_array</th>\n",
       "      <th>predicted_accent</th>\n",
       "    </tr>\n",
       "  </thead>\n",
       "  <tbody>\n",
       "    <tr>\n",
       "      <th>0</th>\n",
       "      <td>5f_8431.wav</td>\n",
       "      <td>/Users/kaispeidel/Downloads/DeepLearning/Train...</td>\n",
       "      <td>5f_8431</td>\n",
       "      <td>5</td>\n",
       "      <td>f</td>\n",
       "      <td>[[-0.0007164341513998806], [-7.327915955102071...</td>\n",
       "      <td>None</td>\n",
       "    </tr>\n",
       "    <tr>\n",
       "      <th>1</th>\n",
       "      <td>5f_3560.wav</td>\n",
       "      <td>/Users/kaispeidel/Downloads/DeepLearning/Train...</td>\n",
       "      <td>5f_3560</td>\n",
       "      <td>5</td>\n",
       "      <td>f</td>\n",
       "      <td>[[-0.006885554175823927], [-0.0068855541758239...</td>\n",
       "      <td>None</td>\n",
       "    </tr>\n",
       "    <tr>\n",
       "      <th>2</th>\n",
       "      <td>4f_9833.wav</td>\n",
       "      <td>/Users/kaispeidel/Downloads/DeepLearning/Train...</td>\n",
       "      <td>4f_9833</td>\n",
       "      <td>4</td>\n",
       "      <td>f</td>\n",
       "      <td>[[0.0010449393885210156], [0.00420673191547393...</td>\n",
       "      <td>None</td>\n",
       "    </tr>\n",
       "    <tr>\n",
       "      <th>3</th>\n",
       "      <td>1f_9293.wav</td>\n",
       "      <td>/Users/kaispeidel/Downloads/DeepLearning/Train...</td>\n",
       "      <td>1f_9293</td>\n",
       "      <td>1</td>\n",
       "      <td>f</td>\n",
       "      <td>[[-0.004357101861387491], [-0.0056317741982638...</td>\n",
       "      <td>None</td>\n",
       "    </tr>\n",
       "    <tr>\n",
       "      <th>4</th>\n",
       "      <td>2f_8352.wav</td>\n",
       "      <td>/Users/kaispeidel/Downloads/DeepLearning/Train...</td>\n",
       "      <td>2f_8352</td>\n",
       "      <td>2</td>\n",
       "      <td>f</td>\n",
       "      <td>[[-0.0011133668012917042], [-0.001574276597239...</td>\n",
       "      <td>None</td>\n",
       "    </tr>\n",
       "    <tr>\n",
       "      <th>...</th>\n",
       "      <td>...</td>\n",
       "      <td>...</td>\n",
       "      <td>...</td>\n",
       "      <td>...</td>\n",
       "      <td>...</td>\n",
       "      <td>...</td>\n",
       "      <td>...</td>\n",
       "    </tr>\n",
       "    <tr>\n",
       "      <th>470</th>\n",
       "      <td>4m_7980.wav</td>\n",
       "      <td>/Users/kaispeidel/Downloads/DeepLearning/Train...</td>\n",
       "      <td>4m_7980</td>\n",
       "      <td>4</td>\n",
       "      <td>m</td>\n",
       "      <td>[[0.0014999943086877465], [0.00096733926329761...</td>\n",
       "      <td>None</td>\n",
       "    </tr>\n",
       "    <tr>\n",
       "      <th>471</th>\n",
       "      <td>3m_7926.wav</td>\n",
       "      <td>/Users/kaispeidel/Downloads/DeepLearning/Train...</td>\n",
       "      <td>3m_7926</td>\n",
       "      <td>3</td>\n",
       "      <td>m</td>\n",
       "      <td>[[-0.001725443871691823], [-0.0028165169060230...</td>\n",
       "      <td>None</td>\n",
       "    </tr>\n",
       "    <tr>\n",
       "      <th>472</th>\n",
       "      <td>3f_7895.wav</td>\n",
       "      <td>/Users/kaispeidel/Downloads/DeepLearning/Train...</td>\n",
       "      <td>3f_7895</td>\n",
       "      <td>3</td>\n",
       "      <td>f</td>\n",
       "      <td>[[-0.006140249315649271], [-0.0061402493156492...</td>\n",
       "      <td>None</td>\n",
       "    </tr>\n",
       "    <tr>\n",
       "      <th>473</th>\n",
       "      <td>5f_7459.wav</td>\n",
       "      <td>/Users/kaispeidel/Downloads/DeepLearning/Train...</td>\n",
       "      <td>5f_7459</td>\n",
       "      <td>5</td>\n",
       "      <td>f</td>\n",
       "      <td>[[0.0005547950277104974], [0.00203530327416956...</td>\n",
       "      <td>None</td>\n",
       "    </tr>\n",
       "    <tr>\n",
       "      <th>474</th>\n",
       "      <td>3f_9944.wav</td>\n",
       "      <td>/Users/kaispeidel/Downloads/DeepLearning/Train...</td>\n",
       "      <td>3f_9944</td>\n",
       "      <td>3</td>\n",
       "      <td>f</td>\n",
       "      <td>[[0.0005391551530919969], [0.00053915515309199...</td>\n",
       "      <td>None</td>\n",
       "    </tr>\n",
       "  </tbody>\n",
       "</table>\n",
       "<p>475 rows × 7 columns</p>\n",
       "</div>"
      ],
      "text/plain": [
       "            file                                          file_path file_name  \\\n",
       "0    5f_8431.wav  /Users/kaispeidel/Downloads/DeepLearning/Train...   5f_8431   \n",
       "1    5f_3560.wav  /Users/kaispeidel/Downloads/DeepLearning/Train...   5f_3560   \n",
       "2    4f_9833.wav  /Users/kaispeidel/Downloads/DeepLearning/Train...   4f_9833   \n",
       "3    1f_9293.wav  /Users/kaispeidel/Downloads/DeepLearning/Train...   1f_9293   \n",
       "4    2f_8352.wav  /Users/kaispeidel/Downloads/DeepLearning/Train...   2f_8352   \n",
       "..           ...                                                ...       ...   \n",
       "470  4m_7980.wav  /Users/kaispeidel/Downloads/DeepLearning/Train...   4m_7980   \n",
       "471  3m_7926.wav  /Users/kaispeidel/Downloads/DeepLearning/Train...   3m_7926   \n",
       "472  3f_7895.wav  /Users/kaispeidel/Downloads/DeepLearning/Train...   3f_7895   \n",
       "473  5f_7459.wav  /Users/kaispeidel/Downloads/DeepLearning/Train...   5f_7459   \n",
       "474  3f_9944.wav  /Users/kaispeidel/Downloads/DeepLearning/Train...   3f_9944   \n",
       "\n",
       "    accent gender                                        audio_array  \\\n",
       "0        5      f  [[-0.0007164341513998806], [-7.327915955102071...   \n",
       "1        5      f  [[-0.006885554175823927], [-0.0068855541758239...   \n",
       "2        4      f  [[0.0010449393885210156], [0.00420673191547393...   \n",
       "3        1      f  [[-0.004357101861387491], [-0.0056317741982638...   \n",
       "4        2      f  [[-0.0011133668012917042], [-0.001574276597239...   \n",
       "..     ...    ...                                                ...   \n",
       "470      4      m  [[0.0014999943086877465], [0.00096733926329761...   \n",
       "471      3      m  [[-0.001725443871691823], [-0.0028165169060230...   \n",
       "472      3      f  [[-0.006140249315649271], [-0.0061402493156492...   \n",
       "473      5      f  [[0.0005547950277104974], [0.00203530327416956...   \n",
       "474      3      f  [[0.0005391551530919969], [0.00053915515309199...   \n",
       "\n",
       "    predicted_accent  \n",
       "0               None  \n",
       "1               None  \n",
       "2               None  \n",
       "3               None  \n",
       "4               None  \n",
       "..               ...  \n",
       "470             None  \n",
       "471             None  \n",
       "472             None  \n",
       "473             None  \n",
       "474             None  \n",
       "\n",
       "[475 rows x 7 columns]"
      ]
     },
     "execution_count": 18,
     "metadata": {},
     "output_type": "execute_result"
    }
   ],
   "source": [
    "test_set_df"
   ]
  },
  {
   "cell_type": "code",
   "execution_count": 19,
   "id": "4375419e",
   "metadata": {},
   "outputs": [
    {
     "data": {
      "text/plain": [
       "<Figure size 1500x1000 with 0 Axes>"
      ]
     },
     "execution_count": 19,
     "metadata": {},
     "output_type": "execute_result"
    },
    {
     "data": {
      "text/plain": [
       "<Axes: >"
      ]
     },
     "execution_count": 19,
     "metadata": {},
     "output_type": "execute_result"
    },
    {
     "data": {
      "text/plain": [
       "[<matplotlib.lines.Line2D at 0x3241e1690>]"
      ]
     },
     "execution_count": 19,
     "metadata": {},
     "output_type": "execute_result"
    },
    {
     "data": {
      "text/plain": [
       "Text(0.5, 1.0, 'accent: 2, gender: f')"
      ]
     },
     "execution_count": 19,
     "metadata": {},
     "output_type": "execute_result"
    },
    {
     "data": {
      "text/plain": [
       "(-1.0, 1.0)"
      ]
     },
     "execution_count": 19,
     "metadata": {},
     "output_type": "execute_result"
    },
    {
     "data": {
      "text/plain": [
       "<matplotlib.lines.Line2D at 0x3241da050>"
      ]
     },
     "execution_count": 19,
     "metadata": {},
     "output_type": "execute_result"
    },
    {
     "data": {
      "text/plain": [
       "<Axes: >"
      ]
     },
     "execution_count": 19,
     "metadata": {},
     "output_type": "execute_result"
    },
    {
     "data": {
      "text/plain": [
       "[<matplotlib.lines.Line2D at 0x3241c43d0>]"
      ]
     },
     "execution_count": 19,
     "metadata": {},
     "output_type": "execute_result"
    },
    {
     "data": {
      "text/plain": [
       "Text(0.5, 1.0, 'accent: 4, gender: f')"
      ]
     },
     "execution_count": 19,
     "metadata": {},
     "output_type": "execute_result"
    },
    {
     "data": {
      "text/plain": [
       "(-1.0, 1.0)"
      ]
     },
     "execution_count": 19,
     "metadata": {},
     "output_type": "execute_result"
    },
    {
     "data": {
      "text/plain": [
       "<matplotlib.lines.Line2D at 0x3241c2cd0>"
      ]
     },
     "execution_count": 19,
     "metadata": {},
     "output_type": "execute_result"
    },
    {
     "data": {
      "text/plain": [
       "<Axes: >"
      ]
     },
     "execution_count": 19,
     "metadata": {},
     "output_type": "execute_result"
    },
    {
     "data": {
      "text/plain": [
       "[<matplotlib.lines.Line2D at 0x31fd40250>]"
      ]
     },
     "execution_count": 19,
     "metadata": {},
     "output_type": "execute_result"
    },
    {
     "data": {
      "text/plain": [
       "Text(0.5, 1.0, 'accent: 1, gender: m')"
      ]
     },
     "execution_count": 19,
     "metadata": {},
     "output_type": "execute_result"
    },
    {
     "data": {
      "text/plain": [
       "(-1.0, 1.0)"
      ]
     },
     "execution_count": 19,
     "metadata": {},
     "output_type": "execute_result"
    },
    {
     "data": {
      "text/plain": [
       "<matplotlib.lines.Line2D at 0x3241be8d0>"
      ]
     },
     "execution_count": 19,
     "metadata": {},
     "output_type": "execute_result"
    },
    {
     "data": {
      "text/plain": [
       "<Axes: >"
      ]
     },
     "execution_count": 19,
     "metadata": {},
     "output_type": "execute_result"
    },
    {
     "data": {
      "text/plain": [
       "[<matplotlib.lines.Line2D at 0x31fd28310>]"
      ]
     },
     "execution_count": 19,
     "metadata": {},
     "output_type": "execute_result"
    },
    {
     "data": {
      "text/plain": [
       "Text(0.5, 1.0, 'accent: 3, gender: m')"
      ]
     },
     "execution_count": 19,
     "metadata": {},
     "output_type": "execute_result"
    },
    {
     "data": {
      "text/plain": [
       "(-1.0, 1.0)"
      ]
     },
     "execution_count": 19,
     "metadata": {},
     "output_type": "execute_result"
    },
    {
     "data": {
      "text/plain": [
       "<matplotlib.lines.Line2D at 0x31fd28190>"
      ]
     },
     "execution_count": 19,
     "metadata": {},
     "output_type": "execute_result"
    },
    {
     "data": {
      "text/plain": [
       "<Axes: >"
      ]
     },
     "execution_count": 19,
     "metadata": {},
     "output_type": "execute_result"
    },
    {
     "data": {
      "text/plain": [
       "[<matplotlib.lines.Line2D at 0x31fd22c50>]"
      ]
     },
     "execution_count": 19,
     "metadata": {},
     "output_type": "execute_result"
    },
    {
     "data": {
      "text/plain": [
       "Text(0.5, 1.0, 'accent: 5, gender: f')"
      ]
     },
     "execution_count": 19,
     "metadata": {},
     "output_type": "execute_result"
    },
    {
     "data": {
      "text/plain": [
       "(-1.0, 1.0)"
      ]
     },
     "execution_count": 19,
     "metadata": {},
     "output_type": "execute_result"
    },
    {
     "data": {
      "text/plain": [
       "<matplotlib.lines.Line2D at 0x324694f50>"
      ]
     },
     "execution_count": 19,
     "metadata": {},
     "output_type": "execute_result"
    },
    {
     "data": {
      "image/png": "[encoded data removed]",
      "text/plain": [
       "<Figure size 1500x1000 with 5 Axes>"
      ]
     },
     "metadata": {},
     "output_type": "display_data"
    }
   ],
   "source": [
    "#* visualize raw waveforms from different accents\n",
    "plt.figure(figsize=(15, 10))\n",
    "\n",
    "#* plot one example per accent\n",
    "for i, accent in enumerate(train_df['accent'].unique()):\n",
    "    #* get one sample from this accent\n",
    "    sample = train_df[train_df['accent'] == accent].sample(1).iloc[0]\n",
    "    audio, sr = librosa.load(sample['file_path'], sr=16000)  # Fixed: use consistent sr=16000\n",
    "    \n",
    "    #* normalize for visualization\n",
    "    audio = audio / np.max(np.abs(audio))\n",
    "    \n",
    "    #* plot waveform\n",
    "    plt.subplot(len(train_df['accent'].unique()), 1, i+1)\n",
    "    plt.plot(audio)\n",
    "    plt.title(f\"accent: {sample['accent']}, gender: {sample['gender']}\")\n",
    "    plt.ylim([-1, 1])\n",
    "    \n",
    "    #* add vertical line at 1 second (16000 samples at 16kHz)\n",
    "    if len(audio) > 16000:\n",
    "        plt.axvline(x=16000, color='r', linestyle='--', label='1 second')\n",
    "\n",
    "plt.tight_layout()\n",
    "plt.savefig('raw_audio_waveforms.png', dpi=300, bbox_inches='tight')\n",
    "plt.show()"
   ]
  },
  {
   "cell_type": "markdown",
   "id": "7c1a3119",
   "metadata": {},
   "source": [
    "### 1D CNN "
   ]
  },
  {
   "cell_type": "code",
   "execution_count": 20,
   "id": "c53399b9",
   "metadata": {},
   "outputs": [
    {
     "name": "stderr",
     "output_type": "stream",
     "text": [
      "/opt/homebrew/lib/python3.11/site-packages/keras/src/layers/convolutional/base_conv.py:107: UserWarning: Do not pass an `input_shape`/`input_dim` argument to a layer. When using Sequential models, prefer using an `Input(shape)` object as the first layer in the model instead.\n",
      "  super().__init__(activity_regularizer=activity_regularizer, **kwargs)\n",
      "/opt/homebrew/lib/python3.11/site-packages/keras/src/layers/activations/leaky_relu.py:41: UserWarning: Argument `alpha` is deprecated. Use `negative_slope` instead.\n",
      "  warnings.warn(\n"
     ]
    },
    {
     "data": {
      "text/html": [
       "<pre style=\"white-space:pre;overflow-x:auto;line-height:normal;font-family:Menlo,'DejaVu Sans Mono',consolas,'Courier New',monospace\"><span style=\"font-weight: bold\">Model: \"sequential_1\"</span>\n",
       "</pre>\n"
      ],
      "text/plain": [
       "\u001b[1mModel: \"sequential_1\"\u001b[0m\n"
      ]
     },
     "metadata": {},
     "output_type": "display_data"
    },
    {
     "data": {
      "text/html": [
       "<pre style=\"white-space:pre;overflow-x:auto;line-height:normal;font-family:Menlo,'DejaVu Sans Mono',consolas,'Courier New',monospace\">┏━━━━━━━━━━━━━━━━━━━━━━━━━━━━━━━━━┳━━━━━━━━━━━━━━━━━━━━━━━━┳━━━━━━━━━━━━━━━┓\n",
       "┃<span style=\"font-weight: bold\"> Layer (type)                    </span>┃<span style=\"font-weight: bold\"> Output Shape           </span>┃<span style=\"font-weight: bold\">       Param # </span>┃\n",
       "┡━━━━━━━━━━━━━━━━━━━━━━━━━━━━━━━━━╇━━━━━━━━━━━━━━━━━━━━━━━━╇━━━━━━━━━━━━━━━┩\n",
       "│ conv1d_4 (<span style=\"color: #0087ff; text-decoration-color: #0087ff\">Conv1D</span>)               │ (<span style=\"color: #00d7ff; text-decoration-color: #00d7ff\">None</span>, <span style=\"color: #00af00; text-decoration-color: #00af00\">103765</span>, <span style=\"color: #00af00; text-decoration-color: #00af00\">16</span>)     │         <span style=\"color: #00af00; text-decoration-color: #00af00\">1,040</span> │\n",
       "├─────────────────────────────────┼────────────────────────┼───────────────┤\n",
       "│ leaky_re_lu_5 (<span style=\"color: #0087ff; text-decoration-color: #0087ff\">LeakyReLU</span>)       │ (<span style=\"color: #00d7ff; text-decoration-color: #00d7ff\">None</span>, <span style=\"color: #00af00; text-decoration-color: #00af00\">103765</span>, <span style=\"color: #00af00; text-decoration-color: #00af00\">16</span>)     │             <span style=\"color: #00af00; text-decoration-color: #00af00\">0</span> │\n",
       "├─────────────────────────────────┼────────────────────────┼───────────────┤\n",
       "│ max_pooling1d_4 (<span style=\"color: #0087ff; text-decoration-color: #0087ff\">MaxPooling1D</span>)  │ (<span style=\"color: #00d7ff; text-decoration-color: #00d7ff\">None</span>, <span style=\"color: #00af00; text-decoration-color: #00af00\">12970</span>, <span style=\"color: #00af00; text-decoration-color: #00af00\">16</span>)      │             <span style=\"color: #00af00; text-decoration-color: #00af00\">0</span> │\n",
       "├─────────────────────────────────┼────────────────────────┼───────────────┤\n",
       "│ batch_normalization_4           │ (<span style=\"color: #00d7ff; text-decoration-color: #00d7ff\">None</span>, <span style=\"color: #00af00; text-decoration-color: #00af00\">12970</span>, <span style=\"color: #00af00; text-decoration-color: #00af00\">16</span>)      │            <span style=\"color: #00af00; text-decoration-color: #00af00\">64</span> │\n",
       "│ (<span style=\"color: #0087ff; text-decoration-color: #0087ff\">BatchNormalization</span>)            │                        │               │\n",
       "├─────────────────────────────────┼────────────────────────┼───────────────┤\n",
       "│ conv1d_5 (<span style=\"color: #0087ff; text-decoration-color: #0087ff\">Conv1D</span>)               │ (<span style=\"color: #00d7ff; text-decoration-color: #00d7ff\">None</span>, <span style=\"color: #00af00; text-decoration-color: #00af00\">6485</span>, <span style=\"color: #00af00; text-decoration-color: #00af00\">32</span>)       │        <span style=\"color: #00af00; text-decoration-color: #00af00\">16,416</span> │\n",
       "├─────────────────────────────────┼────────────────────────┼───────────────┤\n",
       "│ leaky_re_lu_6 (<span style=\"color: #0087ff; text-decoration-color: #0087ff\">LeakyReLU</span>)       │ (<span style=\"color: #00d7ff; text-decoration-color: #00d7ff\">None</span>, <span style=\"color: #00af00; text-decoration-color: #00af00\">6485</span>, <span style=\"color: #00af00; text-decoration-color: #00af00\">32</span>)       │             <span style=\"color: #00af00; text-decoration-color: #00af00\">0</span> │\n",
       "├─────────────────────────────────┼────────────────────────┼───────────────┤\n",
       "│ max_pooling1d_5 (<span style=\"color: #0087ff; text-decoration-color: #0087ff\">MaxPooling1D</span>)  │ (<span style=\"color: #00d7ff; text-decoration-color: #00d7ff\">None</span>, <span style=\"color: #00af00; text-decoration-color: #00af00\">1621</span>, <span style=\"color: #00af00; text-decoration-color: #00af00\">32</span>)       │             <span style=\"color: #00af00; text-decoration-color: #00af00\">0</span> │\n",
       "├─────────────────────────────────┼────────────────────────┼───────────────┤\n",
       "│ batch_normalization_5           │ (<span style=\"color: #00d7ff; text-decoration-color: #00d7ff\">None</span>, <span style=\"color: #00af00; text-decoration-color: #00af00\">1621</span>, <span style=\"color: #00af00; text-decoration-color: #00af00\">32</span>)       │           <span style=\"color: #00af00; text-decoration-color: #00af00\">128</span> │\n",
       "│ (<span style=\"color: #0087ff; text-decoration-color: #0087ff\">BatchNormalization</span>)            │                        │               │\n",
       "├─────────────────────────────────┼────────────────────────┼───────────────┤\n",
       "│ conv1d_6 (<span style=\"color: #0087ff; text-decoration-color: #0087ff\">Conv1D</span>)               │ (<span style=\"color: #00d7ff; text-decoration-color: #00d7ff\">None</span>, <span style=\"color: #00af00; text-decoration-color: #00af00\">811</span>, <span style=\"color: #00af00; text-decoration-color: #00af00\">64</span>)        │        <span style=\"color: #00af00; text-decoration-color: #00af00\">32,832</span> │\n",
       "├─────────────────────────────────┼────────────────────────┼───────────────┤\n",
       "│ leaky_re_lu_7 (<span style=\"color: #0087ff; text-decoration-color: #0087ff\">LeakyReLU</span>)       │ (<span style=\"color: #00d7ff; text-decoration-color: #00d7ff\">None</span>, <span style=\"color: #00af00; text-decoration-color: #00af00\">811</span>, <span style=\"color: #00af00; text-decoration-color: #00af00\">64</span>)        │             <span style=\"color: #00af00; text-decoration-color: #00af00\">0</span> │\n",
       "├─────────────────────────────────┼────────────────────────┼───────────────┤\n",
       "│ max_pooling1d_6 (<span style=\"color: #0087ff; text-decoration-color: #0087ff\">MaxPooling1D</span>)  │ (<span style=\"color: #00d7ff; text-decoration-color: #00d7ff\">None</span>, <span style=\"color: #00af00; text-decoration-color: #00af00\">202</span>, <span style=\"color: #00af00; text-decoration-color: #00af00\">64</span>)        │             <span style=\"color: #00af00; text-decoration-color: #00af00\">0</span> │\n",
       "├─────────────────────────────────┼────────────────────────┼───────────────┤\n",
       "│ batch_normalization_6           │ (<span style=\"color: #00d7ff; text-decoration-color: #00d7ff\">None</span>, <span style=\"color: #00af00; text-decoration-color: #00af00\">202</span>, <span style=\"color: #00af00; text-decoration-color: #00af00\">64</span>)        │           <span style=\"color: #00af00; text-decoration-color: #00af00\">256</span> │\n",
       "│ (<span style=\"color: #0087ff; text-decoration-color: #0087ff\">BatchNormalization</span>)            │                        │               │\n",
       "├─────────────────────────────────┼────────────────────────┼───────────────┤\n",
       "│ conv1d_7 (<span style=\"color: #0087ff; text-decoration-color: #0087ff\">Conv1D</span>)               │ (<span style=\"color: #00d7ff; text-decoration-color: #00d7ff\">None</span>, <span style=\"color: #00af00; text-decoration-color: #00af00\">202</span>, <span style=\"color: #00af00; text-decoration-color: #00af00\">128</span>)       │        <span style=\"color: #00af00; text-decoration-color: #00af00\">65,664</span> │\n",
       "├─────────────────────────────────┼────────────────────────┼───────────────┤\n",
       "│ leaky_re_lu_8 (<span style=\"color: #0087ff; text-decoration-color: #0087ff\">LeakyReLU</span>)       │ (<span style=\"color: #00d7ff; text-decoration-color: #00d7ff\">None</span>, <span style=\"color: #00af00; text-decoration-color: #00af00\">202</span>, <span style=\"color: #00af00; text-decoration-color: #00af00\">128</span>)       │             <span style=\"color: #00af00; text-decoration-color: #00af00\">0</span> │\n",
       "├─────────────────────────────────┼────────────────────────┼───────────────┤\n",
       "│ max_pooling1d_7 (<span style=\"color: #0087ff; text-decoration-color: #0087ff\">MaxPooling1D</span>)  │ (<span style=\"color: #00d7ff; text-decoration-color: #00d7ff\">None</span>, <span style=\"color: #00af00; text-decoration-color: #00af00\">101</span>, <span style=\"color: #00af00; text-decoration-color: #00af00\">128</span>)       │             <span style=\"color: #00af00; text-decoration-color: #00af00\">0</span> │\n",
       "├─────────────────────────────────┼────────────────────────┼───────────────┤\n",
       "│ batch_normalization_7           │ (<span style=\"color: #00d7ff; text-decoration-color: #00d7ff\">None</span>, <span style=\"color: #00af00; text-decoration-color: #00af00\">101</span>, <span style=\"color: #00af00; text-decoration-color: #00af00\">128</span>)       │           <span style=\"color: #00af00; text-decoration-color: #00af00\">512</span> │\n",
       "│ (<span style=\"color: #0087ff; text-decoration-color: #0087ff\">BatchNormalization</span>)            │                        │               │\n",
       "├─────────────────────────────────┼────────────────────────┼───────────────┤\n",
       "│ flatten_1 (<span style=\"color: #0087ff; text-decoration-color: #0087ff\">Flatten</span>)             │ (<span style=\"color: #00d7ff; text-decoration-color: #00d7ff\">None</span>, <span style=\"color: #00af00; text-decoration-color: #00af00\">12928</span>)          │             <span style=\"color: #00af00; text-decoration-color: #00af00\">0</span> │\n",
       "├─────────────────────────────────┼────────────────────────┼───────────────┤\n",
       "│ dense_2 (<span style=\"color: #0087ff; text-decoration-color: #0087ff\">Dense</span>)                 │ (<span style=\"color: #00d7ff; text-decoration-color: #00d7ff\">None</span>, <span style=\"color: #00af00; text-decoration-color: #00af00\">256</span>)            │     <span style=\"color: #00af00; text-decoration-color: #00af00\">3,309,824</span> │\n",
       "├─────────────────────────────────┼────────────────────────┼───────────────┤\n",
       "│ leaky_re_lu_9 (<span style=\"color: #0087ff; text-decoration-color: #0087ff\">LeakyReLU</span>)       │ (<span style=\"color: #00d7ff; text-decoration-color: #00d7ff\">None</span>, <span style=\"color: #00af00; text-decoration-color: #00af00\">256</span>)            │             <span style=\"color: #00af00; text-decoration-color: #00af00\">0</span> │\n",
       "├─────────────────────────────────┼────────────────────────┼───────────────┤\n",
       "│ dropout_1 (<span style=\"color: #0087ff; text-decoration-color: #0087ff\">Dropout</span>)             │ (<span style=\"color: #00d7ff; text-decoration-color: #00d7ff\">None</span>, <span style=\"color: #00af00; text-decoration-color: #00af00\">256</span>)            │             <span style=\"color: #00af00; text-decoration-color: #00af00\">0</span> │\n",
       "├─────────────────────────────────┼────────────────────────┼───────────────┤\n",
       "│ dense_3 (<span style=\"color: #0087ff; text-decoration-color: #0087ff\">Dense</span>)                 │ (<span style=\"color: #00d7ff; text-decoration-color: #00d7ff\">None</span>, <span style=\"color: #00af00; text-decoration-color: #00af00\">5</span>)              │         <span style=\"color: #00af00; text-decoration-color: #00af00\">1,285</span> │\n",
       "└─────────────────────────────────┴────────────────────────┴───────────────┘\n",
       "</pre>\n"
      ],
      "text/plain": [
       "┏━━━━━━━━━━━━━━━━━━━━━━━━━━━━━━━━━┳━━━━━━━━━━━━━━━━━━━━━━━━┳━━━━━━━━━━━━━━━┓\n",
       "┃\u001b[1m \u001b[0m\u001b[1mLayer (type)                   \u001b[0m\u001b[1m \u001b[0m┃\u001b[1m \u001b[0m\u001b[1mOutput Shape          \u001b[0m\u001b[1m \u001b[0m┃\u001b[1m \u001b[0m\u001b[1m      Param #\u001b[0m\u001b[1m \u001b[0m┃\n",
       "┡━━━━━━━━━━━━━━━━━━━━━━━━━━━━━━━━━╇━━━━━━━━━━━━━━━━━━━━━━━━╇━━━━━━━━━━━━━━━┩\n",
       "│ conv1d_4 (\u001b[38;5;33mConv1D\u001b[0m)               │ (\u001b[38;5;45mNone\u001b[0m, \u001b[38;5;34m103765\u001b[0m, \u001b[38;5;34m16\u001b[0m)     │         \u001b[38;5;34m1,040\u001b[0m │\n",
       "├─────────────────────────────────┼────────────────────────┼───────────────┤\n",
       "│ leaky_re_lu_5 (\u001b[38;5;33mLeakyReLU\u001b[0m)       │ (\u001b[38;5;45mNone\u001b[0m, \u001b[38;5;34m103765\u001b[0m, \u001b[38;5;34m16\u001b[0m)     │             \u001b[38;5;34m0\u001b[0m │\n",
       "├─────────────────────────────────┼────────────────────────┼───────────────┤\n",
       "│ max_pooling1d_4 (\u001b[38;5;33mMaxPooling1D\u001b[0m)  │ (\u001b[38;5;45mNone\u001b[0m, \u001b[38;5;34m12970\u001b[0m, \u001b[38;5;34m16\u001b[0m)      │             \u001b[38;5;34m0\u001b[0m │\n",
       "├─────────────────────────────────┼────────────────────────┼───────────────┤\n",
       "│ batch_normalization_4           │ (\u001b[38;5;45mNone\u001b[0m, \u001b[38;5;34m12970\u001b[0m, \u001b[38;5;34m16\u001b[0m)      │            \u001b[38;5;34m64\u001b[0m │\n",
       "│ (\u001b[38;5;33mBatchNormalization\u001b[0m)            │                        │               │\n",
       "├─────────────────────────────────┼────────────────────────┼───────────────┤\n",
       "│ conv1d_5 (\u001b[38;5;33mConv1D\u001b[0m)               │ (\u001b[38;5;45mNone\u001b[0m, \u001b[38;5;34m6485\u001b[0m, \u001b[38;5;34m32\u001b[0m)       │        \u001b[38;5;34m16,416\u001b[0m │\n",
       "├─────────────────────────────────┼────────────────────────┼───────────────┤\n",
       "│ leaky_re_lu_6 (\u001b[38;5;33mLeakyReLU\u001b[0m)       │ (\u001b[38;5;45mNone\u001b[0m, \u001b[38;5;34m6485\u001b[0m, \u001b[38;5;34m32\u001b[0m)       │             \u001b[38;5;34m0\u001b[0m │\n",
       "├─────────────────────────────────┼────────────────────────┼───────────────┤\n",
       "│ max_pooling1d_5 (\u001b[38;5;33mMaxPooling1D\u001b[0m)  │ (\u001b[38;5;45mNone\u001b[0m, \u001b[38;5;34m1621\u001b[0m, \u001b[38;5;34m32\u001b[0m)       │             \u001b[38;5;34m0\u001b[0m │\n",
       "├─────────────────────────────────┼────────────────────────┼───────────────┤\n",
       "│ batch_normalization_5           │ (\u001b[38;5;45mNone\u001b[0m, \u001b[38;5;34m1621\u001b[0m, \u001b[38;5;34m32\u001b[0m)       │           \u001b[38;5;34m128\u001b[0m │\n",
       "│ (\u001b[38;5;33mBatchNormalization\u001b[0m)            │                        │               │\n",
       "├─────────────────────────────────┼────────────────────────┼───────────────┤\n",
       "│ conv1d_6 (\u001b[38;5;33mConv1D\u001b[0m)               │ (\u001b[38;5;45mNone\u001b[0m, \u001b[38;5;34m811\u001b[0m, \u001b[38;5;34m64\u001b[0m)        │        \u001b[38;5;34m32,832\u001b[0m │\n",
       "├─────────────────────────────────┼────────────────────────┼───────────────┤\n",
       "│ leaky_re_lu_7 (\u001b[38;5;33mLeakyReLU\u001b[0m)       │ (\u001b[38;5;45mNone\u001b[0m, \u001b[38;5;34m811\u001b[0m, \u001b[38;5;34m64\u001b[0m)        │             \u001b[38;5;34m0\u001b[0m │\n",
       "├─────────────────────────────────┼────────────────────────┼───────────────┤\n",
       "│ max_pooling1d_6 (\u001b[38;5;33mMaxPooling1D\u001b[0m)  │ (\u001b[38;5;45mNone\u001b[0m, \u001b[38;5;34m202\u001b[0m, \u001b[38;5;34m64\u001b[0m)        │             \u001b[38;5;34m0\u001b[0m │\n",
       "├─────────────────────────────────┼────────────────────────┼───────────────┤\n",
       "│ batch_normalization_6           │ (\u001b[38;5;45mNone\u001b[0m, \u001b[38;5;34m202\u001b[0m, \u001b[38;5;34m64\u001b[0m)        │           \u001b[38;5;34m256\u001b[0m │\n",
       "│ (\u001b[38;5;33mBatchNormalization\u001b[0m)            │                        │               │\n",
       "├─────────────────────────────────┼────────────────────────┼───────────────┤\n",
       "│ conv1d_7 (\u001b[38;5;33mConv1D\u001b[0m)               │ (\u001b[38;5;45mNone\u001b[0m, \u001b[38;5;34m202\u001b[0m, \u001b[38;5;34m128\u001b[0m)       │        \u001b[38;5;34m65,664\u001b[0m │\n",
       "├─────────────────────────────────┼────────────────────────┼───────────────┤\n",
       "│ leaky_re_lu_8 (\u001b[38;5;33mLeakyReLU\u001b[0m)       │ (\u001b[38;5;45mNone\u001b[0m, \u001b[38;5;34m202\u001b[0m, \u001b[38;5;34m128\u001b[0m)       │             \u001b[38;5;34m0\u001b[0m │\n",
       "├─────────────────────────────────┼────────────────────────┼───────────────┤\n",
       "│ max_pooling1d_7 (\u001b[38;5;33mMaxPooling1D\u001b[0m)  │ (\u001b[38;5;45mNone\u001b[0m, \u001b[38;5;34m101\u001b[0m, \u001b[38;5;34m128\u001b[0m)       │             \u001b[38;5;34m0\u001b[0m │\n",
       "├─────────────────────────────────┼────────────────────────┼───────────────┤\n",
       "│ batch_normalization_7           │ (\u001b[38;5;45mNone\u001b[0m, \u001b[38;5;34m101\u001b[0m, \u001b[38;5;34m128\u001b[0m)       │           \u001b[38;5;34m512\u001b[0m │\n",
       "│ (\u001b[38;5;33mBatchNormalization\u001b[0m)            │                        │               │\n",
       "├─────────────────────────────────┼────────────────────────┼───────────────┤\n",
       "│ flatten_1 (\u001b[38;5;33mFlatten\u001b[0m)             │ (\u001b[38;5;45mNone\u001b[0m, \u001b[38;5;34m12928\u001b[0m)          │             \u001b[38;5;34m0\u001b[0m │\n",
       "├─────────────────────────────────┼────────────────────────┼───────────────┤\n",
       "│ dense_2 (\u001b[38;5;33mDense\u001b[0m)                 │ (\u001b[38;5;45mNone\u001b[0m, \u001b[38;5;34m256\u001b[0m)            │     \u001b[38;5;34m3,309,824\u001b[0m │\n",
       "├─────────────────────────────────┼────────────────────────┼───────────────┤\n",
       "│ leaky_re_lu_9 (\u001b[38;5;33mLeakyReLU\u001b[0m)       │ (\u001b[38;5;45mNone\u001b[0m, \u001b[38;5;34m256\u001b[0m)            │             \u001b[38;5;34m0\u001b[0m │\n",
       "├─────────────────────────────────┼────────────────────────┼───────────────┤\n",
       "│ dropout_1 (\u001b[38;5;33mDropout\u001b[0m)             │ (\u001b[38;5;45mNone\u001b[0m, \u001b[38;5;34m256\u001b[0m)            │             \u001b[38;5;34m0\u001b[0m │\n",
       "├─────────────────────────────────┼────────────────────────┼───────────────┤\n",
       "│ dense_3 (\u001b[38;5;33mDense\u001b[0m)                 │ (\u001b[38;5;45mNone\u001b[0m, \u001b[38;5;34m5\u001b[0m)              │         \u001b[38;5;34m1,285\u001b[0m │\n",
       "└─────────────────────────────────┴────────────────────────┴───────────────┘\n"
      ]
     },
     "metadata": {},
     "output_type": "display_data"
    },
    {
     "data": {
      "text/html": [
       "<pre style=\"white-space:pre;overflow-x:auto;line-height:normal;font-family:Menlo,'DejaVu Sans Mono',consolas,'Courier New',monospace\"><span style=\"font-weight: bold\"> Total params: </span><span style=\"color: #00af00; text-decoration-color: #00af00\">3,428,021</span> (13.08 MB)\n",
       "</pre>\n"
      ],
      "text/plain": [
       "\u001b[1m Total params: \u001b[0m\u001b[38;5;34m3,428,021\u001b[0m (13.08 MB)\n"
      ]
     },
     "metadata": {},
     "output_type": "display_data"
    },
    {
     "data": {
      "text/html": [
       "<pre style=\"white-space:pre;overflow-x:auto;line-height:normal;font-family:Menlo,'DejaVu Sans Mono',consolas,'Courier New',monospace\"><span style=\"font-weight: bold\"> Trainable params: </span><span style=\"color: #00af00; text-decoration-color: #00af00\">3,427,541</span> (13.08 MB)\n",
       "</pre>\n"
      ],
      "text/plain": [
       "\u001b[1m Trainable params: \u001b[0m\u001b[38;5;34m3,427,541\u001b[0m (13.08 MB)\n"
      ]
     },
     "metadata": {},
     "output_type": "display_data"
    },
    {
     "data": {
      "text/html": [
       "<pre style=\"white-space:pre;overflow-x:auto;line-height:normal;font-family:Menlo,'DejaVu Sans Mono',consolas,'Courier New',monospace\"><span style=\"font-weight: bold\"> Non-trainable params: </span><span style=\"color: #00af00; text-decoration-color: #00af00\">480</span> (1.88 KB)\n",
       "</pre>\n"
      ],
      "text/plain": [
       "\u001b[1m Non-trainable params: \u001b[0m\u001b[38;5;34m480\u001b[0m (1.88 KB)\n"
      ]
     },
     "metadata": {},
     "output_type": "display_data"
    }
   ],
   "source": [
    "#* define model architecture for raw audio\n",
    "#* Conv1D uses the glorot_uniform weight initialization technique as its default \n",
    "def create_raw_audio_model(input_shape, num_classes=5):\n",
    "    model = models.Sequential([\n",
    "        #* first conv block\n",
    "        layers.Conv1D(16, 64, strides=2, padding='same', input_shape=input_shape),\n",
    "        layers.LeakyReLU(alpha=0.01),\n",
    "        layers.MaxPooling1D(pool_size=8, strides=8),\n",
    "        layers.BatchNormalization(),\n",
    "        \n",
    "        #* second conv block\n",
    "        layers.Conv1D(32, 32, strides=2, padding='same'),\n",
    "        layers.LeakyReLU(alpha=0.01),\n",
    "        layers.MaxPooling1D(pool_size=4, strides=4),\n",
    "        layers.BatchNormalization(),\n",
    "        \n",
    "        #* third conv block\n",
    "        layers.Conv1D(64, 16, strides=2, padding='same'),\n",
    "        layers.LeakyReLU(alpha=0.01),\n",
    "        layers.MaxPooling1D(pool_size=4, strides=4),\n",
    "        layers.BatchNormalization(),\n",
    "        \n",
    "        #* fourth conv block\n",
    "        layers.Conv1D(128, 8, padding='same'),\n",
    "        layers.LeakyReLU(alpha=0.01),\n",
    "        layers.MaxPooling1D(pool_size=2, strides=2),\n",
    "        layers.BatchNormalization(),\n",
    "        \n",
    "        #* flatten and dense layers\n",
    "        layers.Flatten(),\n",
    "        layers.Dense(256),\n",
    "        layers.LeakyReLU(alpha=0.01),\n",
    "        layers.Dropout(0.5),\n",
    "        layers.Dense(num_classes, activation='softmax')  # Keep softmax for final output\n",
    "    ])\n",
    "    \n",
    "    model.compile(\n",
    "        optimizer='adam',\n",
    "        loss='categorical_crossentropy',\n",
    "        metrics=['accuracy']\n",
    "    )\n",
    "    \n",
    "    return model\n",
    "\n",
    "#* create model instance\n",
    "raw_audio_model = create_raw_audio_model((raw_audio_length, 1))\n",
    "raw_audio_model.summary()"
   ]
  },
  {
   "cell_type": "code",
   "execution_count": 21,
   "id": "b95729ca",
   "metadata": {},
   "outputs": [
    {
     "name": "stdout",
     "output_type": "stream",
     "text": [
      "Epoch 1/20\n",
      "\u001b[1m70/70\u001b[0m \u001b[32m━━━━━━━━━━━━━━━━━━━━\u001b[0m\u001b[37m\u001b[0m \u001b[1m88s\u001b[0m 1s/step - accuracy: 0.2222 - loss: 3.2902 - val_accuracy: 0.3017 - val_loss: 1.6127\n",
      "Epoch 2/20\n",
      "\u001b[1m70/70\u001b[0m \u001b[32m━━━━━━━━━━━━━━━━━━━━\u001b[0m\u001b[37m\u001b[0m \u001b[1m86s\u001b[0m 1s/step - accuracy: 0.3428 - loss: 1.5547 - val_accuracy: 0.2911 - val_loss: 1.5477\n",
      "Epoch 3/20\n",
      "\u001b[1m70/70\u001b[0m \u001b[32m━━━━━━━━━━━━━━━━━━━━\u001b[0m\u001b[37m\u001b[0m \u001b[1m84s\u001b[0m 1s/step - accuracy: 0.3888 - loss: 1.4342 - val_accuracy: 0.2447 - val_loss: 2.4657\n",
      "Epoch 4/20\n",
      "\u001b[1m70/70\u001b[0m \u001b[32m━━━━━━━━━━━━━━━━━━━━\u001b[0m\u001b[37m\u001b[0m \u001b[1m86s\u001b[0m 1s/step - accuracy: 0.4636 - loss: 1.3154 - val_accuracy: 0.3080 - val_loss: 2.6924\n",
      "Epoch 5/20\n",
      "\u001b[1m70/70\u001b[0m \u001b[32m━━━━━━━━━━━━━━━━━━━━\u001b[0m\u001b[37m\u001b[0m \u001b[1m85s\u001b[0m 1s/step - accuracy: 0.4889 - loss: 1.1926 - val_accuracy: 0.2152 - val_loss: 3.3319\n",
      "Epoch 6/20\n",
      "\u001b[1m70/70\u001b[0m \u001b[32m━━━━━━━━━━━━━━━━━━━━\u001b[0m\u001b[37m\u001b[0m \u001b[1m85s\u001b[0m 1s/step - accuracy: 0.4876 - loss: 1.2308 - val_accuracy: 0.3987 - val_loss: 2.5538\n",
      "Epoch 7/20\n",
      "\u001b[1m70/70\u001b[0m \u001b[32m━━━━━━━━━━━━━━━━━━━━\u001b[0m\u001b[37m\u001b[0m \u001b[1m88s\u001b[0m 1s/step - accuracy: 0.4915 - loss: 1.1784 - val_accuracy: 0.4198 - val_loss: 1.4352\n",
      "Epoch 8/20\n",
      "\u001b[1m70/70\u001b[0m \u001b[32m━━━━━━━━━━━━━━━━━━━━\u001b[0m\u001b[37m\u001b[0m \u001b[1m86s\u001b[0m 1s/step - accuracy: 0.5079 - loss: 1.0868 - val_accuracy: 0.3017 - val_loss: 7.2935\n",
      "Epoch 9/20\n",
      "\u001b[1m70/70\u001b[0m \u001b[32m━━━━━━━━━━━━━━━━━━━━\u001b[0m\u001b[37m\u001b[0m \u001b[1m86s\u001b[0m 1s/step - accuracy: 0.5585 - loss: 0.9941 - val_accuracy: 0.3122 - val_loss: 10.1406\n",
      "Epoch 10/20\n",
      "\u001b[1m70/70\u001b[0m \u001b[32m━━━━━━━━━━━━━━━━━━━━\u001b[0m\u001b[37m\u001b[0m \u001b[1m85s\u001b[0m 1s/step - accuracy: 0.5294 - loss: 1.0381 - val_accuracy: 0.3439 - val_loss: 10.7170\n",
      "Epoch 11/20\n",
      "\u001b[1m70/70\u001b[0m \u001b[32m━━━━━━━━━━━━━━━━━━━━\u001b[0m\u001b[37m\u001b[0m \u001b[1m87s\u001b[0m 1s/step - accuracy: 0.5706 - loss: 1.0086 - val_accuracy: 0.3059 - val_loss: 3.8951\n",
      "Epoch 12/20\n",
      "\u001b[1m70/70\u001b[0m \u001b[32m━━━━━━━━━━━━━━━━━━━━\u001b[0m\u001b[37m\u001b[0m \u001b[1m93s\u001b[0m 1s/step - accuracy: 0.5455 - loss: 1.0344 - val_accuracy: 0.1772 - val_loss: 78.5761\n",
      "Epoch 13/20\n",
      "\u001b[1m70/70\u001b[0m \u001b[32m━━━━━━━━━━━━━━━━━━━━\u001b[0m\u001b[37m\u001b[0m \u001b[1m91s\u001b[0m 1s/step - accuracy: 0.6081 - loss: 0.9256 - val_accuracy: 0.2679 - val_loss: 9.9756\n",
      "Epoch 14/20\n",
      "\u001b[1m70/70\u001b[0m \u001b[32m━━━━━━━━━━━━━━━━━━━━\u001b[0m\u001b[37m\u001b[0m \u001b[1m92s\u001b[0m 1s/step - accuracy: 0.6464 - loss: 0.8913 - val_accuracy: 0.4831 - val_loss: 2.6300\n",
      "Epoch 15/20\n",
      "\u001b[1m70/70\u001b[0m \u001b[32m━━━━━━━━━━━━━━━━━━━━\u001b[0m\u001b[37m\u001b[0m \u001b[1m92s\u001b[0m 1s/step - accuracy: 0.6170 - loss: 0.8872 - val_accuracy: 0.2363 - val_loss: 52.3549\n",
      "Epoch 16/20\n",
      "\u001b[1m70/70\u001b[0m \u001b[32m━━━━━━━━━━━━━━━━━━━━\u001b[0m\u001b[37m\u001b[0m \u001b[1m90s\u001b[0m 1s/step - accuracy: 0.6983 - loss: 0.7571 - val_accuracy: 0.2911 - val_loss: 20.5200\n",
      "Epoch 17/20\n",
      "\u001b[1m70/70\u001b[0m \u001b[32m━━━━━━━━━━━━━━━━━━━━\u001b[0m\u001b[37m\u001b[0m \u001b[1m88s\u001b[0m 1s/step - accuracy: 0.6927 - loss: 0.7679 - val_accuracy: 0.4852 - val_loss: 3.9690\n",
      "Epoch 18/20\n",
      "\u001b[1m70/70\u001b[0m \u001b[32m━━━━━━━━━━━━━━━━━━━━\u001b[0m\u001b[37m\u001b[0m \u001b[1m85s\u001b[0m 1s/step - accuracy: 0.7406 - loss: 0.6594 - val_accuracy: 0.2511 - val_loss: 45.6563\n",
      "Epoch 19/20\n",
      "\u001b[1m70/70\u001b[0m \u001b[32m━━━━━━━━━━━━━━━━━━━━\u001b[0m\u001b[37m\u001b[0m \u001b[1m82s\u001b[0m 1s/step - accuracy: 0.7585 - loss: 0.6795 - val_accuracy: 0.4726 - val_loss: 4.9149\n",
      "Epoch 20/20\n",
      "\u001b[1m70/70\u001b[0m \u001b[32m━━━━━━━━━━━━━━━━━━━━\u001b[0m\u001b[37m\u001b[0m \u001b[1m90s\u001b[0m 1s/step - accuracy: 0.7492 - loss: 0.6351 - val_accuracy: 0.3755 - val_loss: 7.0129\n"
     ]
    }
   ],
   "source": [
    "\n",
    "#* train the model\n",
    "raw_audio_history = raw_audio_model.fit(\n",
    "    X_raw_train, y_raw_train,\n",
    "    validation_data=(X_raw_val, y_raw_val),\n",
    "    epochs=20,\n",
    "    batch_size=32,\n",
    "    verbose=1\n",
    ")"
   ]
  },
  {
   "cell_type": "code",
   "execution_count": 22,
   "id": "e2abc5b1",
   "metadata": {},
   "outputs": [
    {
     "name": "stdout",
     "output_type": "stream",
     "text": [
      "\u001b[1m15/15\u001b[0m \u001b[32m━━━━━━━━━━━━━━━━━━━━\u001b[0m\u001b[37m\u001b[0m \u001b[1m3s\u001b[0m 177ms/step - accuracy: 0.4181 - loss: 5.8660\n",
      "raw audio model - FINAL test loss: 6.3057\n",
      "raw audio model - FINAL test accuracy: 0.4063\n"
     ]
    },
    {
     "data": {
      "text/plain": [
       "<Figure size 1200x400 with 0 Axes>"
      ]
     },
     "execution_count": 22,
     "metadata": {},
     "output_type": "execute_result"
    },
    {
     "data": {
      "text/plain": [
       "<Axes: >"
      ]
     },
     "execution_count": 22,
     "metadata": {},
     "output_type": "execute_result"
    },
    {
     "data": {
      "text/plain": [
       "[<matplotlib.lines.Line2D at 0x3278a3e10>]"
      ]
     },
     "execution_count": 22,
     "metadata": {},
     "output_type": "execute_result"
    },
    {
     "data": {
      "text/plain": [
       "[<matplotlib.lines.Line2D at 0x3d0e90110>]"
      ]
     },
     "execution_count": 22,
     "metadata": {},
     "output_type": "execute_result"
    },
    {
     "data": {
      "text/plain": [
       "Text(0.5, 1.0, 'raw audio model accuracy')"
      ]
     },
     "execution_count": 22,
     "metadata": {},
     "output_type": "execute_result"
    },
    {
     "data": {
      "text/plain": [
       "Text(0.5, 0, 'epoch')"
      ]
     },
     "execution_count": 22,
     "metadata": {},
     "output_type": "execute_result"
    },
    {
     "data": {
      "text/plain": [
       "Text(0, 0.5, 'accuracy')"
      ]
     },
     "execution_count": 22,
     "metadata": {},
     "output_type": "execute_result"
    },
    {
     "data": {
      "text/plain": [
       "<matplotlib.legend.Legend at 0x324706510>"
      ]
     },
     "execution_count": 22,
     "metadata": {},
     "output_type": "execute_result"
    },
    {
     "data": {
      "text/plain": [
       "<Axes: >"
      ]
     },
     "execution_count": 22,
     "metadata": {},
     "output_type": "execute_result"
    },
    {
     "data": {
      "text/plain": [
       "[<matplotlib.lines.Line2D at 0x3d1503c10>]"
      ]
     },
     "execution_count": 22,
     "metadata": {},
     "output_type": "execute_result"
    },
    {
     "data": {
      "text/plain": [
       "[<matplotlib.lines.Line2D at 0x3248520d0>]"
      ]
     },
     "execution_count": 22,
     "metadata": {},
     "output_type": "execute_result"
    },
    {
     "data": {
      "text/plain": [
       "Text(0.5, 1.0, 'raw audio model loss')"
      ]
     },
     "execution_count": 22,
     "metadata": {},
     "output_type": "execute_result"
    },
    {
     "data": {
      "text/plain": [
       "Text(0.5, 0, 'epoch')"
      ]
     },
     "execution_count": 22,
     "metadata": {},
     "output_type": "execute_result"
    },
    {
     "data": {
      "text/plain": [
       "Text(0, 0.5, 'loss')"
      ]
     },
     "execution_count": 22,
     "metadata": {},
     "output_type": "execute_result"
    },
    {
     "data": {
      "text/plain": [
       "<matplotlib.legend.Legend at 0x3d15a1a90>"
      ]
     },
     "execution_count": 22,
     "metadata": {},
     "output_type": "execute_result"
    },
    {
     "data": {
      "image/png": "[encoded data removed]",
      "text/plain": [
       "<Figure size 1200x400 with 2 Axes>"
      ]
     },
     "metadata": {},
     "output_type": "display_data"
    }
   ],
   "source": [
    "#* evaluate model performance on FINAL test set\n",
    "raw_audio_final_loss, raw_audio_final_acc = raw_audio_model.evaluate(X_raw_test, y_raw_test, verbose=1)\n",
    "print(f\"raw audio model - FINAL test loss: {raw_audio_final_loss:.4f}\")\n",
    "print(f\"raw audio model - FINAL test accuracy: {raw_audio_final_acc:.4f}\")\n",
    "\n",
    "#* plot training history\n",
    "plt.figure(figsize=(12, 4))\n",
    "plt.subplot(1, 2, 1)\n",
    "plt.plot(raw_audio_history.history['accuracy'], label='train accuracy')\n",
    "plt.plot(raw_audio_history.history['val_accuracy'], label='validation accuracy')\n",
    "plt.title('raw audio model accuracy')\n",
    "plt.xlabel('epoch')\n",
    "plt.ylabel('accuracy')\n",
    "plt.legend()\n",
    "\n",
    "plt.subplot(1, 2, 2)\n",
    "plt.plot(raw_audio_history.history['loss'], label='train loss')\n",
    "plt.plot(raw_audio_history.history['val_loss'], label='validation loss')\n",
    "plt.title('raw audio model loss')\n",
    "plt.xlabel('epoch')\n",
    "plt.ylabel('loss')\n",
    "plt.legend()\n",
    "\n",
    "plt.tight_layout()\n",
    "plt.savefig('raw_audio_model_history.png', dpi=300, bbox_inches='tight')\n",
    "plt.show()"
   ]
  },
  {
   "cell_type": "code",
   "execution_count": 23,
   "id": "4a7fb40a",
   "metadata": {},
   "outputs": [
    {
     "name": "stdout",
     "output_type": "stream",
     "text": [
      "\u001b[1m15/15\u001b[0m \u001b[32m━━━━━━━━━━━━━━━━━━━━\u001b[0m\u001b[37m\u001b[0m \u001b[1m3s\u001b[0m 176ms/step\n"
     ]
    },
    {
     "data": {
      "text/plain": [
       "<Figure size 1000x800 with 0 Axes>"
      ]
     },
     "execution_count": 23,
     "metadata": {},
     "output_type": "execute_result"
    },
    {
     "data": {
      "text/plain": [
       "<Axes: >"
      ]
     },
     "execution_count": 23,
     "metadata": {},
     "output_type": "execute_result"
    },
    {
     "data": {
      "text/plain": [
       "Text(0.5, 1.0, 'confusion matrix - raw audio model')"
      ]
     },
     "execution_count": 23,
     "metadata": {},
     "output_type": "execute_result"
    },
    {
     "data": {
      "text/plain": [
       "Text(95.72222222222221, 0.5, 'true label')"
      ]
     },
     "execution_count": 23,
     "metadata": {},
     "output_type": "execute_result"
    },
    {
     "data": {
      "text/plain": [
       "Text(0.5, 58.7222222222222, 'predicted label')"
      ]
     },
     "execution_count": 23,
     "metadata": {},
     "output_type": "execute_result"
    },
    {
     "data": {
      "image/png": "[encoded data removed]",
      "text/plain": [
       "<Figure size 1000x800 with 2 Axes>"
      ]
     },
     "metadata": {},
     "output_type": "display_data"
    }
   ],
   "source": [
    "from sklearn.metrics import classification_report, confusion_matrix\n",
    "class_names = [str(i+1) for i in range(5)] \n",
    "#* generate predictions\n",
    "y_raw_pred = raw_audio_model.predict(X_raw_test)\n",
    "y_raw_pred_classes = np.argmax(y_raw_pred, axis=1)\n",
    "y_raw_true_classes = np.argmax(y_raw_test, axis=1)\n",
    "\n",
    "#* create confusion matrix\n",
    "raw_cm = confusion_matrix(y_raw_true_classes, y_raw_pred_classes)\n",
    "\n",
    "#* plot confusion matrix\n",
    "plt.figure(figsize=(10, 8))\n",
    "sns.heatmap(raw_cm, annot=True, fmt='d', cmap='Blues', \n",
    "           xticklabels=class_names, yticklabels=class_names)\n",
    "plt.title('confusion matrix - raw audio model')\n",
    "plt.ylabel('true label')\n",
    "plt.xlabel('predicted label')\n",
    "plt.tight_layout()\n",
    "plt.savefig('raw_audio_confusion_matrix.png', dpi=300, bbox_inches='tight')\n",
    "plt.show()"
   ]
  },
  {
   "cell_type": "markdown",
   "id": "9527ce9a",
   "metadata": {},
   "source": [
    "### hyperparemeter search"
   ]
  },
  {
   "cell_type": "code",
   "execution_count": null,
   "id": "e2cfebf5",
   "metadata": {},
   "outputs": [
    {
     "name": "stdout",
     "output_type": "stream",
     "text": [
      "Testing: filters=16, dense=128, dropout=0.3, lr=0.001\n"
     ]
    },
    {
     "name": "stderr",
     "output_type": "stream",
     "text": [
      "/opt/homebrew/lib/python3.11/site-packages/keras/src/layers/convolutional/base_conv.py:107: UserWarning: Do not pass an `input_shape`/`input_dim` argument to a layer. When using Sequential models, prefer using an `Input(shape)` object as the first layer in the model instead.\n",
      "  super().__init__(activity_regularizer=activity_regularizer, **kwargs)\n",
      "/opt/homebrew/lib/python3.11/site-packages/keras/src/layers/activations/leaky_relu.py:41: UserWarning: Argument `alpha` is deprecated. Use `negative_slope` instead.\n",
      "  warnings.warn(\n"
     ]
    },
    {
     "ename": "ValueError",
     "evalue": "Arguments `target` and `output` must have the same rank (ndim). Received: target.shape=(None, 5), output.shape=(None, 101, 5)",
     "output_type": "error",
     "traceback": [
      "\u001b[0;31m---------------------------------------------------------------------------\u001b[0m",
      "\u001b[0;31mValueError\u001b[0m                                Traceback (most recent call last)",
      "Cell \u001b[0;32mIn[25], line 58\u001b[0m\n\u001b[1;32m     54\u001b[0m \u001b[38;5;28mprint\u001b[39m(\u001b[38;5;124mf\u001b[39m\u001b[38;5;124m\"\u001b[39m\u001b[38;5;124mTesting: filters=\u001b[39m\u001b[38;5;132;01m{\u001b[39;00mconv1_filters\u001b[38;5;132;01m}\u001b[39;00m\u001b[38;5;124m, dense=\u001b[39m\u001b[38;5;132;01m{\u001b[39;00mdense_units\u001b[38;5;132;01m}\u001b[39;00m\u001b[38;5;124m, dropout=\u001b[39m\u001b[38;5;132;01m{\u001b[39;00mdropout_rate\u001b[38;5;132;01m}\u001b[39;00m\u001b[38;5;124m, lr=\u001b[39m\u001b[38;5;132;01m{\u001b[39;00mlearning_rate\u001b[38;5;132;01m}\u001b[39;00m\u001b[38;5;124m\"\u001b[39m)\n\u001b[1;32m     56\u001b[0m model \u001b[38;5;241m=\u001b[39m create_model_with_params(conv1_filters, dense_units, dropout_rate, learning_rate)\n\u001b[0;32m---> 58\u001b[0m history \u001b[38;5;241m=\u001b[39m \u001b[43mmodel\u001b[49m\u001b[38;5;241;43m.\u001b[39;49m\u001b[43mfit\u001b[49m\u001b[43m(\u001b[49m\n\u001b[1;32m     59\u001b[0m \u001b[43m    \u001b[49m\u001b[43mX_raw_train\u001b[49m\u001b[43m,\u001b[49m\u001b[43m \u001b[49m\u001b[43my_raw_train\u001b[49m\u001b[43m,\u001b[49m\n\u001b[1;32m     60\u001b[0m \u001b[43m    \u001b[49m\u001b[43mvalidation_data\u001b[49m\u001b[38;5;241;43m=\u001b[39;49m\u001b[43m(\u001b[49m\u001b[43mX_raw_val\u001b[49m\u001b[43m,\u001b[49m\u001b[43m \u001b[49m\u001b[43my_raw_val\u001b[49m\u001b[43m)\u001b[49m\u001b[43m,\u001b[49m\n\u001b[1;32m     61\u001b[0m \u001b[43m    \u001b[49m\u001b[43mepochs\u001b[49m\u001b[38;5;241;43m=\u001b[39;49m\u001b[38;5;241;43m10\u001b[39;49m\u001b[43m,\u001b[49m\n\u001b[1;32m     62\u001b[0m \u001b[43m    \u001b[49m\u001b[43mbatch_size\u001b[49m\u001b[38;5;241;43m=\u001b[39;49m\u001b[38;5;241;43m32\u001b[39;49m\u001b[43m,\u001b[49m\n\u001b[1;32m     63\u001b[0m \u001b[43m    \u001b[49m\u001b[43mverbose\u001b[49m\u001b[38;5;241;43m=\u001b[39;49m\u001b[38;5;241;43m0\u001b[39;49m\n\u001b[1;32m     64\u001b[0m \u001b[43m\u001b[49m\u001b[43m)\u001b[49m\n\u001b[1;32m     66\u001b[0m val_acc \u001b[38;5;241m=\u001b[39m \u001b[38;5;28mmax\u001b[39m(history\u001b[38;5;241m.\u001b[39mhistory[\u001b[38;5;124m'\u001b[39m\u001b[38;5;124mval_accuracy\u001b[39m\u001b[38;5;124m'\u001b[39m])\n\u001b[1;32m     68\u001b[0m results\u001b[38;5;241m.\u001b[39mappend({\n\u001b[1;32m     69\u001b[0m     \u001b[38;5;124m'\u001b[39m\u001b[38;5;124mconv1_filters\u001b[39m\u001b[38;5;124m'\u001b[39m: conv1_filters,\n\u001b[1;32m     70\u001b[0m     \u001b[38;5;124m'\u001b[39m\u001b[38;5;124mdense_units\u001b[39m\u001b[38;5;124m'\u001b[39m: dense_units,\n\u001b[0;32m   (...)\u001b[0m\n\u001b[1;32m     73\u001b[0m     \u001b[38;5;124m'\u001b[39m\u001b[38;5;124mval_accuracy\u001b[39m\u001b[38;5;124m'\u001b[39m: val_acc\n\u001b[1;32m     74\u001b[0m })\n",
      "File \u001b[0;32m/opt/homebrew/lib/python3.11/site-packages/keras/src/utils/traceback_utils.py:122\u001b[0m, in \u001b[0;36mfilter_traceback.<locals>.error_handler\u001b[0;34m(*args, **kwargs)\u001b[0m\n\u001b[1;32m    119\u001b[0m     filtered_tb \u001b[38;5;241m=\u001b[39m _process_traceback_frames(e\u001b[38;5;241m.\u001b[39m__traceback__)\n\u001b[1;32m    120\u001b[0m     \u001b[38;5;66;03m# To get the full stack trace, call:\u001b[39;00m\n\u001b[1;32m    121\u001b[0m     \u001b[38;5;66;03m# `keras.config.disable_traceback_filtering()`\u001b[39;00m\n\u001b[0;32m--> 122\u001b[0m     \u001b[38;5;28;01mraise\u001b[39;00m e\u001b[38;5;241m.\u001b[39mwith_traceback(filtered_tb) \u001b[38;5;28;01mfrom\u001b[39;00m \u001b[38;5;28;01mNone\u001b[39;00m\n\u001b[1;32m    123\u001b[0m \u001b[38;5;28;01mfinally\u001b[39;00m:\n\u001b[1;32m    124\u001b[0m     \u001b[38;5;28;01mdel\u001b[39;00m filtered_tb\n",
      "File \u001b[0;32m/opt/homebrew/lib/python3.11/site-packages/keras/src/backend/tensorflow/nn.py:653\u001b[0m, in \u001b[0;36mcategorical_crossentropy\u001b[0;34m(target, output, from_logits, axis)\u001b[0m\n\u001b[1;32m    647\u001b[0m     \u001b[38;5;28;01mraise\u001b[39;00m \u001b[38;5;167;01mValueError\u001b[39;00m(\n\u001b[1;32m    648\u001b[0m         \u001b[38;5;124m\"\u001b[39m\u001b[38;5;124mArguments `target` and `output` must be at least rank 1. \u001b[39m\u001b[38;5;124m\"\u001b[39m\n\u001b[1;32m    649\u001b[0m         \u001b[38;5;124m\"\u001b[39m\u001b[38;5;124mReceived: \u001b[39m\u001b[38;5;124m\"\u001b[39m\n\u001b[1;32m    650\u001b[0m         \u001b[38;5;124mf\u001b[39m\u001b[38;5;124m\"\u001b[39m\u001b[38;5;124mtarget.shape=\u001b[39m\u001b[38;5;132;01m{\u001b[39;00mtarget\u001b[38;5;241m.\u001b[39mshape\u001b[38;5;132;01m}\u001b[39;00m\u001b[38;5;124m, output.shape=\u001b[39m\u001b[38;5;132;01m{\u001b[39;00moutput\u001b[38;5;241m.\u001b[39mshape\u001b[38;5;132;01m}\u001b[39;00m\u001b[38;5;124m\"\u001b[39m\n\u001b[1;32m    651\u001b[0m     )\n\u001b[1;32m    652\u001b[0m \u001b[38;5;28;01mif\u001b[39;00m \u001b[38;5;28mlen\u001b[39m(target\u001b[38;5;241m.\u001b[39mshape) \u001b[38;5;241m!=\u001b[39m \u001b[38;5;28mlen\u001b[39m(output\u001b[38;5;241m.\u001b[39mshape):\n\u001b[0;32m--> 653\u001b[0m     \u001b[38;5;28;01mraise\u001b[39;00m \u001b[38;5;167;01mValueError\u001b[39;00m(\n\u001b[1;32m    654\u001b[0m         \u001b[38;5;124m\"\u001b[39m\u001b[38;5;124mArguments `target` and `output` must have the same rank \u001b[39m\u001b[38;5;124m\"\u001b[39m\n\u001b[1;32m    655\u001b[0m         \u001b[38;5;124m\"\u001b[39m\u001b[38;5;124m(ndim). Received: \u001b[39m\u001b[38;5;124m\"\u001b[39m\n\u001b[1;32m    656\u001b[0m         \u001b[38;5;124mf\u001b[39m\u001b[38;5;124m\"\u001b[39m\u001b[38;5;124mtarget.shape=\u001b[39m\u001b[38;5;132;01m{\u001b[39;00mtarget\u001b[38;5;241m.\u001b[39mshape\u001b[38;5;132;01m}\u001b[39;00m\u001b[38;5;124m, output.shape=\u001b[39m\u001b[38;5;132;01m{\u001b[39;00moutput\u001b[38;5;241m.\u001b[39mshape\u001b[38;5;132;01m}\u001b[39;00m\u001b[38;5;124m\"\u001b[39m\n\u001b[1;32m    657\u001b[0m     )\n\u001b[1;32m    658\u001b[0m \u001b[38;5;28;01mfor\u001b[39;00m e1, e2 \u001b[38;5;129;01min\u001b[39;00m \u001b[38;5;28mzip\u001b[39m(target\u001b[38;5;241m.\u001b[39mshape, output\u001b[38;5;241m.\u001b[39mshape):\n\u001b[1;32m    659\u001b[0m     \u001b[38;5;28;01mif\u001b[39;00m e1 \u001b[38;5;129;01mis\u001b[39;00m \u001b[38;5;129;01mnot\u001b[39;00m \u001b[38;5;28;01mNone\u001b[39;00m \u001b[38;5;129;01mand\u001b[39;00m e2 \u001b[38;5;129;01mis\u001b[39;00m \u001b[38;5;129;01mnot\u001b[39;00m \u001b[38;5;28;01mNone\u001b[39;00m \u001b[38;5;129;01mand\u001b[39;00m e1 \u001b[38;5;241m!=\u001b[39m e2:\n",
      "\u001b[0;31mValueError\u001b[0m: Arguments `target` and `output` must have the same rank (ndim). Received: target.shape=(None, 5), output.shape=(None, 101, 5)"
     ]
    }
   ],
   "source": [
    "#* simple hyperparameter experimentation\n",
    "param_grid = {\n",
    "    'conv1_filters': [16, 32],           \n",
    "    'dense_units': [128, 256],           \n",
    "    'dropout_rate': [0.3, 0.5],          \n",
    "    'learning_rate': [0.001, 0.0005]     \n",
    "}\n",
    "\n",
    "def create_model_with_params(conv1_filters, dense_units, dropout_rate, learning_rate):\n",
    "    model = models.Sequential([\n",
    "        layers.Conv1D(conv1_filters, 64, strides=2, padding='same', input_shape=(raw_audio_length, 1)),\n",
    "        layers.LeakyReLU(alpha=0.01),\n",
    "        layers.MaxPooling1D(pool_size=8, strides=8),\n",
    "        layers.BatchNormalization(),\n",
    "        \n",
    "        layers.Conv1D(conv1_filters*2, 32, strides=2, padding='same'),\n",
    "        layers.LeakyReLU(alpha=0.01),\n",
    "        layers.MaxPooling1D(pool_size=4, strides=4),\n",
    "        layers.BatchNormalization(),\n",
    "        \n",
    "        layers.Conv1D(conv1_filters*4, 16, strides=2, padding='same'),\n",
    "        layers.LeakyReLU(alpha=0.01),\n",
    "        layers.MaxPooling1D(pool_size=4, strides=4),\n",
    "        layers.BatchNormalization(),\n",
    "        \n",
    "        layers.Conv1D(128, 8, padding='same'),\n",
    "        layers.LeakyReLU(alpha=0.01),\n",
    "        layers.MaxPooling1D(pool_size=2, strides=2),\n",
    "        layers.BatchNormalization(),\n",
    "        \n",
    "        layers.Flatten(),\n",
    "        layers.Dense(dense_units),\n",
    "        layers.LeakyReLU(alpha=0.01),\n",
    "        layers.Dropout(dropout_rate),\n",
    "        layers.Dense(5, activation='softmax')\n",
    "    ])\n",
    "    \n",
    "    model.compile(\n",
    "        optimizer=tf.keras.optimizers.Adam(learning_rate=learning_rate),\n",
    "        loss='categorical_crossentropy',\n",
    "        metrics=['accuracy']\n",
    "    )\n",
    "    \n",
    "    return model\n",
    "\n",
    "#* test different parameter combinations\n",
    "results = []\n",
    "\n",
    "for conv1_filters in param_grid['conv1_filters']:\n",
    "    for dense_units in param_grid['dense_units']:\n",
    "        for dropout_rate in param_grid['dropout_rate']:\n",
    "            for learning_rate in param_grid['learning_rate']:\n",
    "                \n",
    "                print(f\"Testing: filters={conv1_filters}, dense={dense_units}, dropout={dropout_rate}, lr={learning_rate}\")\n",
    "                \n",
    "                model = create_model_with_params(conv1_filters, dense_units, dropout_rate, learning_rate)\n",
    "                \n",
    "                history = model.fit(\n",
    "                    X_raw_train, y_raw_train,\n",
    "                    validation_data=(X_raw_val, y_raw_val),\n",
    "                    epochs=10,\n",
    "                    batch_size=32,\n",
    "                    verbose=0\n",
    "                )\n",
    "                \n",
    "                val_acc = max(history.history['val_accuracy'])\n",
    "                \n",
    "                results.append({\n",
    "                    'conv1_filters': conv1_filters,\n",
    "                    'dense_units': dense_units,\n",
    "                    'dropout_rate': dropout_rate,\n",
    "                    'learning_rate': learning_rate,\n",
    "                    'val_accuracy': val_acc\n",
    "                })\n",
    "                \n",
    "                print(f\"Validation accuracy: {val_acc:.4f}\")\n",
    "\n",
    "#* find best parameters\n",
    "best_result = max(results, key=lambda x: x['val_accuracy'])\n",
    "\n",
    "print(\"\\nBest parameters:\")\n",
    "print(f\"Conv1 filters: {best_result['conv1_filters']}\")\n",
    "print(f\"Dense units: {best_result['dense_units']}\")\n",
    "print(f\"Dropout rate: {best_result['dropout_rate']}\")\n",
    "print(f\"Learning rate: {best_result['learning_rate']}\")\n",
    "print(f\"Best validation accuracy: {best_result['val_accuracy']:.4f}\")\n",
    "\n",
    "#* train final model with best parameters\n",
    "print(\"\\nTraining final model with best parameters...\")\n",
    "final_model = create_model_with_params(\n",
    "    best_result['conv1_filters'],\n",
    "    best_result['dense_units'], \n",
    "    best_result['dropout_rate'],\n",
    "    best_result['learning_rate']\n",
    ")\n",
    "\n",
    "final_history = final_model.fit(\n",
    "    X_raw_train, y_raw_train,\n",
    "    validation_data=(X_raw_val, y_raw_val),\n",
    "    epochs=20,\n",
    "    batch_size=32,\n",
    "    verbose=1\n",
    ")\n",
    "\n",
    "#* evaluate final model\n",
    "test_loss, test_acc = final_model.evaluate(X_raw_test, y_raw_test)\n",
    "print(f\"Final test accuracy: {test_acc:.4f}\")"
   ]
  },
  {
   "cell_type": "code",
   "execution_count": null,
   "id": "2b5498f3",
   "metadata": {},
   "outputs": [
    {
     "name": "stdout",
     "output_type": "stream",
     "text": [
      "Evaluating best model on validation set...\n",
      "\u001b[1m15/15\u001b[0m \u001b[32m━━━━━━━━━━━━━━━━━━━━\u001b[0m\u001b[37m\u001b[0m \u001b[1m0s\u001b[0m 12ms/step - accuracy: 0.3939 - loss: 2.2824\n",
      "Best model - Validation loss: 2.2640\n",
      "Best model - Validation accuracy: 0.3987\n",
      "\n",
      "Comparison:\n",
      "Original model - Validation accuracy: 0.4451\n",
      "Best model - Validation accuracy: 0.3987\n",
      "Improvement: -0.0464\n",
      "\u001b[1m15/15\u001b[0m \u001b[32m━━━━━━━━━━━━━━━━━━━━\u001b[0m\u001b[37m\u001b[0m \u001b[1m0s\u001b[0m 18ms/step\n"
     ]
    },
    {
     "data": {
      "text/plain": [
       "<Figure size 800x600 with 0 Axes>"
      ]
     },
     "execution_count": 28,
     "metadata": {},
     "output_type": "execute_result"
    },
    {
     "data": {
      "text/plain": [
       "<Axes: >"
      ]
     },
     "execution_count": 28,
     "metadata": {},
     "output_type": "execute_result"
    },
    {
     "data": {
      "text/plain": [
       "Text(0.5, 1.0, 'Validation Set - Confusion Matrix (Best Model)')"
      ]
     },
     "execution_count": 28,
     "metadata": {},
     "output_type": "execute_result"
    },
    {
     "data": {
      "text/plain": [
       "Text(70.72222222222221, 0.5, 'True Label')"
      ]
     },
     "execution_count": 28,
     "metadata": {},
     "output_type": "execute_result"
    },
    {
     "data": {
      "text/plain": [
       "Text(0.5, 36.72222222222221, 'Predicted Label')"
      ]
     },
     "execution_count": 28,
     "metadata": {},
     "output_type": "execute_result"
    },
    {
     "data": {
      "image/png": "[encoded data removed]",
      "text/plain": [
       "<Figure size 800x600 with 2 Axes>"
      ]
     },
     "metadata": {},
     "output_type": "display_data"
    },
    {
     "name": "stdout",
     "output_type": "stream",
     "text": [
      "\n",
      "Validation Set Classification Report:\n",
      "              precision    recall  f1-score   support\n",
      "\n",
      "           1       0.97      0.30      0.46       111\n",
      "           2       0.43      0.33      0.37        94\n",
      "           3       0.41      0.31      0.35        84\n",
      "           4       0.31      0.67      0.42       113\n",
      "           5       0.40      0.32      0.36        72\n",
      "\n",
      "    accuracy                           0.40       474\n",
      "   macro avg       0.50      0.39      0.39       474\n",
      "weighted avg       0.52      0.40      0.40       474\n",
      "\n"
     ]
    }
   ],
   "source": [
    "#* evaluate the best model on validation set\n",
    "print(\"Evaluating best model on validation set...\")\n",
    "val_loss, val_acc = final_model.evaluate(X_raw_val, y_raw_val, verbose=1)\n",
    "print(f\"Best model - Validation loss: {val_loss:.4f}\")\n",
    "print(f\"Best model - Validation accuracy: {val_acc:.4f}\")\n",
    "\n",
    "#* compare with original model\n",
    "print(\"\\nComparison:\")\n",
    "print(f\"Original model - Validation accuracy: {max(raw_audio_history.history['val_accuracy']):.4f}\")\n",
    "print(f\"Best model - Validation accuracy: {val_acc:.4f}\")\n",
    "print(f\"Improvement: {val_acc - max(raw_audio_history.history['val_accuracy']):.4f}\")\n",
    "\n",
    "#* generate detailed predictions on validation set\n",
    "val_predictions = final_model.predict(X_raw_val)\n",
    "val_pred_classes = np.argmax(val_predictions, axis=1)\n",
    "val_true_classes = np.argmax(y_raw_val, axis=1)\n",
    "\n",
    "#* validation confusion matrix\n",
    "val_cm = confusion_matrix(val_true_classes, val_pred_classes)\n",
    "\n",
    "plt.figure(figsize=(8, 6))\n",
    "sns.heatmap(val_cm, annot=True, fmt='d', cmap='Blues', \n",
    "           xticklabels=class_names, yticklabels=class_names)\n",
    "plt.title('Validation Set - Confusion Matrix (Best Model)')\n",
    "plt.ylabel('True Label')\n",
    "plt.xlabel('Predicted Label')\n",
    "plt.tight_layout()\n",
    "plt.savefig('best_model_validation_confusion_matrix.png', dpi=300, bbox_inches='tight')\n",
    "plt.show()\n",
    "\n",
    "#* classification report\n",
    "print(\"\\nValidation Set Classification Report:\")\n",
    "print(classification_report(val_true_classes, val_pred_classes, target_names=class_names))"
   ]
  },
  {
   "cell_type": "markdown",
   "id": "b60cccd6",
   "metadata": {},
   "source": [
    "### predict accent and gener on test data"
   ]
  },
  {
   "cell_type": "code",
   "execution_count": null,
   "id": "669ebb3a",
   "metadata": {},
   "outputs": [
    {
     "name": "stdout",
     "output_type": "stream",
     "text": [
      "\u001b[1m15/15\u001b[0m \u001b[32m━━━━━━━━━━━━━━━━━━━━\u001b[0m\u001b[37m\u001b[0m \u001b[1m0s\u001b[0m 12ms/step\n"
     ]
    }
   ],
   "source": [
    "\n",
    "#* predict accents for test set using the best model\n",
    "accent_predictions = final_model.predict(np.array(test_set_df['audio_array'].tolist()))\n",
    "test_pred_classes = np.argmax(accent_predictions, axis=1) #* get the class with the highest probability\n",
    "\n",
    "#* add a predction confidence column\n",
    "test_set_df['prediction_confidence'] = np.max(accent_predictions, axis=1)\n",
    "test_set_df['predicted_accent'] = test_pred_classes + 1  #* convert back to original accent labels (1-5)\n",
    "\n"
   ]
  },
  {
   "cell_type": "code",
   "execution_count": null,
   "id": "a20900a0",
   "metadata": {},
   "outputs": [
    {
     "data": {
      "application/vnd.microsoft.datawrangler.viewer.v0+json": {
       "columns": [
        {
         "name": "index",
         "rawType": "int64",
         "type": "integer"
        },
        {
         "name": "file",
         "rawType": "object",
         "type": "string"
        },
        {
         "name": "file_path",
         "rawType": "object",
         "type": "string"
        },
        {
         "name": "file_name",
         "rawType": "object",
         "type": "string"
        },
        {
         "name": "accent",
         "rawType": "object",
         "type": "string"
        },
        {
         "name": "gender",
         "rawType": "object",
         "type": "string"
        },
        {
         "name": "audio_array",
         "rawType": "object",
         "type": "unknown"
        },
        {
         "name": "predicted_accent",
         "rawType": "int64",
         "type": "integer"
        },
        {
         "name": "prediction_confidence",
         "rawType": "float32",
         "type": "float"
        }
       ],
       "ref": "6efcf97b-cbbb-4124-afbf-17f5e590c980",
       "rows": [
        [
         "0",
         "5f_8431.wav",
         "/Users/kaispeidel/Downloads/DeepLearning/Train/5f_8431.wav",
         "5f_8431",
         "5",
         "f",
         "[[-7.16434151e-04]\n [-7.32791596e-05]\n [-7.32791596e-05]\n ...\n [ 1.98213029e+00]\n [ 2.01718235e+00]\n [ 2.38217282e+00]]",
         "2",
         "0.8160277"
        ],
        [
         "1",
         "5f_3560.wav",
         "/Users/kaispeidel/Downloads/DeepLearning/Train/5f_3560.wav",
         "5f_3560",
         "5",
         "f",
         "[[-0.00688555]\n [-0.00688555]\n [-0.00579686]\n ...\n [-0.67715895]\n [-0.51530623]\n [-0.39155787]]",
         "4",
         "0.7298373"
        ],
        [
         "2",
         "4f_9833.wav",
         "/Users/kaispeidel/Downloads/DeepLearning/Train/4f_9833.wav",
         "4f_9833",
         "4",
         "f",
         "[[0.00104494]\n [0.00420673]\n [0.00547145]\n ...\n [0.2527236 ]\n [0.32607722]\n [0.38551891]]",
         "4",
         "0.66508716"
        ],
        [
         "3",
         "1f_9293.wav",
         "/Users/kaispeidel/Downloads/DeepLearning/Train/1f_9293.wav",
         "1f_9293",
         "1",
         "f",
         "[[-0.0043571 ]\n [-0.00563177]\n [-0.00563177]\n ...\n [-0.01327981]\n [-0.01115535]\n [-0.01455448]]",
         "4",
         "0.6306214"
        ],
        [
         "4",
         "2f_8352.wav",
         "/Users/kaispeidel/Downloads/DeepLearning/Train/2f_8352.wav",
         "2f_8352",
         "2",
         "f",
         "[[-0.00111337]\n [-0.00157428]\n [-0.0024961 ]\n ...\n [-0.86439741]\n [-0.87085015]\n [-0.84550011]]",
         "5",
         "0.40326476"
        ]
       ],
       "shape": {
        "columns": 8,
        "rows": 5
       }
      },
      "text/html": [
       "<div>\n",
       "<style scoped>\n",
       "    .dataframe tbody tr th:only-of-type {\n",
       "        vertical-align: middle;\n",
       "    }\n",
       "\n",
       "    .dataframe tbody tr th {\n",
       "        vertical-align: top;\n",
       "    }\n",
       "\n",
       "    .dataframe thead th {\n",
       "        text-align: right;\n",
       "    }\n",
       "</style>\n",
       "<table border=\"1\" class=\"dataframe\">\n",
       "  <thead>\n",
       "    <tr style=\"text-align: right;\">\n",
       "      <th></th>\n",
       "      <th>file</th>\n",
       "      <th>file_path</th>\n",
       "      <th>file_name</th>\n",
       "      <th>accent</th>\n",
       "      <th>gender</th>\n",
       "      <th>audio_array</th>\n",
       "      <th>predicted_accent</th>\n",
       "      <th>prediction_confidence</th>\n",
       "    </tr>\n",
       "  </thead>\n",
       "  <tbody>\n",
       "    <tr>\n",
       "      <th>0</th>\n",
       "      <td>5f_8431.wav</td>\n",
       "      <td>/Users/kaispeidel/Downloads/DeepLearning/Train...</td>\n",
       "      <td>5f_8431</td>\n",
       "      <td>5</td>\n",
       "      <td>f</td>\n",
       "      <td>[[-0.0007164341513998806], [-7.327915955102071...</td>\n",
       "      <td>2</td>\n",
       "      <td>0.816028</td>\n",
       "    </tr>\n",
       "    <tr>\n",
       "      <th>1</th>\n",
       "      <td>5f_3560.wav</td>\n",
       "      <td>/Users/kaispeidel/Downloads/DeepLearning/Train...</td>\n",
       "      <td>5f_3560</td>\n",
       "      <td>5</td>\n",
       "      <td>f</td>\n",
       "      <td>[[-0.006885554175823927], [-0.0068855541758239...</td>\n",
       "      <td>4</td>\n",
       "      <td>0.729837</td>\n",
       "    </tr>\n",
       "    <tr>\n",
       "      <th>2</th>\n",
       "      <td>4f_9833.wav</td>\n",
       "      <td>/Users/kaispeidel/Downloads/DeepLearning/Train...</td>\n",
       "      <td>4f_9833</td>\n",
       "      <td>4</td>\n",
       "      <td>f</td>\n",
       "      <td>[[0.0010449393885210156], [0.00420673191547393...</td>\n",
       "      <td>4</td>\n",
       "      <td>0.665087</td>\n",
       "    </tr>\n",
       "    <tr>\n",
       "      <th>3</th>\n",
       "      <td>1f_9293.wav</td>\n",
       "      <td>/Users/kaispeidel/Downloads/DeepLearning/Train...</td>\n",
       "      <td>1f_9293</td>\n",
       "      <td>1</td>\n",
       "      <td>f</td>\n",
       "      <td>[[-0.004357101861387491], [-0.0056317741982638...</td>\n",
       "      <td>4</td>\n",
       "      <td>0.630621</td>\n",
       "    </tr>\n",
       "    <tr>\n",
       "      <th>4</th>\n",
       "      <td>2f_8352.wav</td>\n",
       "      <td>/Users/kaispeidel/Downloads/DeepLearning/Train...</td>\n",
       "      <td>2f_8352</td>\n",
       "      <td>2</td>\n",
       "      <td>f</td>\n",
       "      <td>[[-0.0011133668012917042], [-0.001574276597239...</td>\n",
       "      <td>5</td>\n",
       "      <td>0.403265</td>\n",
       "    </tr>\n",
       "  </tbody>\n",
       "</table>\n",
       "</div>"
      ],
      "text/plain": [
       "          file                                          file_path file_name  \\\n",
       "0  5f_8431.wav  /Users/kaispeidel/Downloads/DeepLearning/Train...   5f_8431   \n",
       "1  5f_3560.wav  /Users/kaispeidel/Downloads/DeepLearning/Train...   5f_3560   \n",
       "2  4f_9833.wav  /Users/kaispeidel/Downloads/DeepLearning/Train...   4f_9833   \n",
       "3  1f_9293.wav  /Users/kaispeidel/Downloads/DeepLearning/Train...   1f_9293   \n",
       "4  2f_8352.wav  /Users/kaispeidel/Downloads/DeepLearning/Train...   2f_8352   \n",
       "\n",
       "  accent gender                                        audio_array  \\\n",
       "0      5      f  [[-0.0007164341513998806], [-7.327915955102071...   \n",
       "1      5      f  [[-0.006885554175823927], [-0.0068855541758239...   \n",
       "2      4      f  [[0.0010449393885210156], [0.00420673191547393...   \n",
       "3      1      f  [[-0.004357101861387491], [-0.0056317741982638...   \n",
       "4      2      f  [[-0.0011133668012917042], [-0.001574276597239...   \n",
       "\n",
       "   predicted_accent  prediction_confidence  \n",
       "0                 2               0.816028  \n",
       "1                 4               0.729837  \n",
       "2                 4               0.665087  \n",
       "3                 4               0.630621  \n",
       "4                 5               0.403265  "
      ]
     },
     "execution_count": 49,
     "metadata": {},
     "output_type": "execute_result"
    }
   ],
   "source": [
    "test_set_df.head()"
   ]
  },
  {
   "cell_type": "code",
   "execution_count": null,
   "id": "3d28d2ee",
   "metadata": {},
   "outputs": [
    {
     "name": "stdout",
     "output_type": "stream",
     "text": [
      "=== MODEL PERFORMANCE BY ACCENT ===\n",
      "             Sample_Count  Accuracy  Avg_Confidence\n",
      "true_accent                                        \n",
      "1                     111     0.252           0.694\n",
      "2                      94     0.330           0.723\n",
      "3                      85     0.471           0.818\n",
      "4                     113     0.708           0.745\n",
      "5                      72     0.278           0.745\n",
      "\n",
      "=== MODEL PERFORMANCE BY GENDER ===\n",
      "        Sample_Count  Accuracy  Avg_Confidence\n",
      "gender                                        \n",
      "f                245     0.424           0.749\n",
      "m                230     0.413           0.735\n",
      "\n",
      "=== MODEL PERFORMANCE BY ACCENT AND GENDER ===\n",
      "                    correct_prediction\n",
      "true_accent gender                    \n",
      "1           f                    0.232\n",
      "            m                    0.273\n",
      "2           f                    0.327\n",
      "            m                    0.333\n",
      "3           f                    0.432\n",
      "            m                    0.512\n",
      "4           f                    0.703\n",
      "            m                    0.714\n",
      "5           f                    0.344\n",
      "            m                    0.225\n"
     ]
    },
    {
     "data": {
      "text/plain": [
       "<Axes: xlabel='true_accent'>"
      ]
     },
     "execution_count": 52,
     "metadata": {},
     "output_type": "execute_result"
    },
    {
     "data": {
      "text/plain": [
       "Text(0.5, 1.0, 'Model Accuracy by Accent')"
      ]
     },
     "execution_count": 52,
     "metadata": {},
     "output_type": "execute_result"
    },
    {
     "data": {
      "text/plain": [
       "Text(0.5, 0, 'Accent')"
      ]
     },
     "execution_count": 52,
     "metadata": {},
     "output_type": "execute_result"
    },
    {
     "data": {
      "text/plain": [
       "Text(0, 0.5, 'Accuracy')"
      ]
     },
     "execution_count": 52,
     "metadata": {},
     "output_type": "execute_result"
    },
    {
     "data": {
      "text/plain": [
       "(0.0, 1.0)"
      ]
     },
     "execution_count": 52,
     "metadata": {},
     "output_type": "execute_result"
    },
    {
     "data": {
      "text/plain": [
       "<Axes: xlabel='gender'>"
      ]
     },
     "execution_count": 52,
     "metadata": {},
     "output_type": "execute_result"
    },
    {
     "data": {
      "text/plain": [
       "Text(0.5, 1.0, 'Model Accuracy by Gender')"
      ]
     },
     "execution_count": 52,
     "metadata": {},
     "output_type": "execute_result"
    },
    {
     "data": {
      "text/plain": [
       "Text(0.5, 0, 'Gender')"
      ]
     },
     "execution_count": 52,
     "metadata": {},
     "output_type": "execute_result"
    },
    {
     "data": {
      "text/plain": [
       "Text(0, 0.5, 'Accuracy')"
      ]
     },
     "execution_count": 52,
     "metadata": {},
     "output_type": "execute_result"
    },
    {
     "data": {
      "text/plain": [
       "(0.0, 1.0)"
      ]
     },
     "execution_count": 52,
     "metadata": {},
     "output_type": "execute_result"
    },
    {
     "data": {
      "image/png": "[encoded data removed]",
      "text/plain": [
       "<Figure size 1200x500 with 2 Axes>"
      ]
     },
     "metadata": {},
     "output_type": "display_data"
    }
   ],
   "source": [
    "\n",
    "#! Error Analysis Table and Figure for Accent and Gender Performance\n",
    "\n",
    "test_analysis_df = test_set_df.copy()\n",
    "test_analysis_df['true_accent'] = [np.argmax(y) + 1 for y in y_raw_test]\n",
    "test_analysis_df['correct_prediction'] = (test_analysis_df['true_accent'] == test_analysis_df['predicted_accent'])\n",
    "\n",
    "#* performance by Accent\n",
    "accent_performance = test_analysis_df.groupby('true_accent').agg({\n",
    "    'correct_prediction': ['count', 'mean'],\n",
    "    'prediction_confidence': 'mean'\n",
    "}).round(3)\n",
    "accent_performance.columns = ['Sample_Count', 'Accuracy', 'Avg_Confidence']\n",
    "\n",
    "#* performance by Gender  \n",
    "gender_performance = test_analysis_df.groupby('gender').agg({\n",
    "    'correct_prediction': ['count', 'mean'],\n",
    "    'prediction_confidence': 'mean'\n",
    "}).round(3)\n",
    "gender_performance.columns = ['Sample_Count', 'Accuracy', 'Avg_Confidence']\n",
    "\n",
    "#* combined Accent-Gender Performance\n",
    "combined_performance = test_analysis_df.groupby(['true_accent', 'gender']).agg({\n",
    "    'correct_prediction': 'mean'\n",
    "}).round(3)\n",
    "\n",
    "print(\" MODEL PERFORMANCE BY ACCENT \")\n",
    "print(accent_performance)\n",
    "\n",
    "print(\"\\n MODEL PERFORMANCE BY GENDER \")\n",
    "print(gender_performance)\n",
    "\n",
    "print(\"\\n MODEL PERFORMANCE BY ACCENT AND GENDER \")\n",
    "print(combined_performance)\n",
    "\n",
    "# Create visualization\n",
    "fig, (ax1, ax2) = plt.subplots(1, 2, figsize=(12, 5))\n",
    "\n",
    "# Accuracy by Accent\n",
    "accent_performance['Accuracy'].plot(kind='bar', ax=ax1, color='blue')\n",
    "ax1.set_title('Model Accuracy by Accent')\n",
    "ax1.set_xlabel('Accent')\n",
    "ax1.set_ylabel('Accuracy')\n",
    "ax1.set_ylim(0, 1)\n",
    "\n",
    "# Accuracy by Gender\n",
    "gender_performance['Accuracy'].plot(kind='bar', ax=ax2, color=['red', 'blue'])\n",
    "ax2.set_title('Model Accuracy by Gender')\n",
    "ax2.set_xlabel('Gender')\n",
    "ax2.set_ylabel('Accuracy')\n",
    "ax2.set_ylim(0, 1)\n",
    "\n",
    "plt.tight_layout()\n",
    "plt.savefig('accent_gender_performance.png', dpi=300, bbox_inches='tight')\n",
    "plt.show()"
   ]
  },
  {
   "cell_type": "markdown",
   "id": "2dc507a3",
   "metadata": {},
   "source": [
    "# predict accent on the test folder data"
   ]
  },
  {
   "cell_type": "code",
   "execution_count": null,
   "id": "6f37ba50",
   "metadata": {},
   "outputs": [
    {
     "data": {
      "application/vnd.microsoft.datawrangler.viewer.v0+json": {
       "columns": [
        {
         "name": "index",
         "rawType": "int64",
         "type": "integer"
        },
        {
         "name": "file",
         "rawType": "object",
         "type": "string"
        },
        {
         "name": "file_path",
         "rawType": "object",
         "type": "string"
        },
        {
         "name": "file_name",
         "rawType": "object",
         "type": "string"
        }
       ],
       "ref": "34b0bd1e-971e-445f-b560-4f048e5dc68b",
       "rows": [
        [
         "0",
         "9430.wav",
         "/Users/kaispeidel/Downloads/DeepLearning/Test/9430.wav",
         "9430"
        ],
        [
         "1",
         "4458.wav",
         "/Users/kaispeidel/Downloads/DeepLearning/Test/4458.wav",
         "4458"
        ],
        [
         "2",
         "1534.wav",
         "/Users/kaispeidel/Downloads/DeepLearning/Test/1534.wav",
         "1534"
        ],
        [
         "3",
         "8510.wav",
         "/Users/kaispeidel/Downloads/DeepLearning/Test/8510.wav",
         "8510"
        ],
        [
         "4",
         "7192.wav",
         "/Users/kaispeidel/Downloads/DeepLearning/Test/7192.wav",
         "7192"
        ]
       ],
       "shape": {
        "columns": 3,
        "rows": 5
       }
      },
      "text/html": [
       "<div>\n",
       "<style scoped>\n",
       "    .dataframe tbody tr th:only-of-type {\n",
       "        vertical-align: middle;\n",
       "    }\n",
       "\n",
       "    .dataframe tbody tr th {\n",
       "        vertical-align: top;\n",
       "    }\n",
       "\n",
       "    .dataframe thead th {\n",
       "        text-align: right;\n",
       "    }\n",
       "</style>\n",
       "<table border=\"1\" class=\"dataframe\">\n",
       "  <thead>\n",
       "    <tr style=\"text-align: right;\">\n",
       "      <th></th>\n",
       "      <th>file</th>\n",
       "      <th>file_path</th>\n",
       "      <th>file_name</th>\n",
       "    </tr>\n",
       "  </thead>\n",
       "  <tbody>\n",
       "    <tr>\n",
       "      <th>0</th>\n",
       "      <td>9430.wav</td>\n",
       "      <td>/Users/kaispeidel/Downloads/DeepLearning/Test/...</td>\n",
       "      <td>9430</td>\n",
       "    </tr>\n",
       "    <tr>\n",
       "      <th>1</th>\n",
       "      <td>4458.wav</td>\n",
       "      <td>/Users/kaispeidel/Downloads/DeepLearning/Test/...</td>\n",
       "      <td>4458</td>\n",
       "    </tr>\n",
       "    <tr>\n",
       "      <th>2</th>\n",
       "      <td>1534.wav</td>\n",
       "      <td>/Users/kaispeidel/Downloads/DeepLearning/Test/...</td>\n",
       "      <td>1534</td>\n",
       "    </tr>\n",
       "    <tr>\n",
       "      <th>3</th>\n",
       "      <td>8510.wav</td>\n",
       "      <td>/Users/kaispeidel/Downloads/DeepLearning/Test/...</td>\n",
       "      <td>8510</td>\n",
       "    </tr>\n",
       "    <tr>\n",
       "      <th>4</th>\n",
       "      <td>7192.wav</td>\n",
       "      <td>/Users/kaispeidel/Downloads/DeepLearning/Test/...</td>\n",
       "      <td>7192</td>\n",
       "    </tr>\n",
       "  </tbody>\n",
       "</table>\n",
       "</div>"
      ],
      "text/plain": [
       "       file                                          file_path file_name\n",
       "0  9430.wav  /Users/kaispeidel/Downloads/DeepLearning/Test/...      9430\n",
       "1  4458.wav  /Users/kaispeidel/Downloads/DeepLearning/Test/...      4458\n",
       "2  1534.wav  /Users/kaispeidel/Downloads/DeepLearning/Test/...      1534\n",
       "3  8510.wav  /Users/kaispeidel/Downloads/DeepLearning/Test/...      8510\n",
       "4  7192.wav  /Users/kaispeidel/Downloads/DeepLearning/Test/...      7192"
      ]
     },
     "execution_count": 29,
     "metadata": {},
     "output_type": "execute_result"
    }
   ],
   "source": [
    "#* predict on the test directory\n",
    "test_dir = '/Users/kaispeidel/Downloads/DeepLearning/Test'\n",
    "test_files = os.listdir(test_dir)\n",
    "\n",
    "test_df = pd.DataFrame(test_files, columns=['file'])\n",
    "test_df['file_path'] = test_df['file'].apply(lambda x: os.path.join(test_dir, x))\n",
    "test_df['file_name'] = test_df['file'].str.replace('.wav', '')\n",
    "\n",
    "test_df.head()\n"
   ]
  },
  {
   "cell_type": "code",
   "execution_count": null,
   "id": "40369485",
   "metadata": {},
   "outputs": [
    {
     "name": "stdout",
     "output_type": "stream",
     "text": [
      "--------------------------------------------------\n",
      "processing test files...\n",
      "Test data shape: (551, 16000, 1)\n",
      "\u001b[1m18/18\u001b[0m \u001b[32m━━━━━━━━━━━━━━━━━━━━\u001b[0m\u001b[37m\u001b[0m \u001b[1m0s\u001b[0m 10ms/step\n",
      "\n",
      "Prediction results:\n",
      "       file  predicted_accent_1D_CNN_raw_audio\n",
      "0  9430.wav                                  4\n",
      "1  4458.wav                                  4\n",
      "2  1534.wav                                  1\n",
      "3  8510.wav                                  4\n",
      "4  7192.wav                                  4\n",
      "5  2607.wav                                  4\n",
      "6  1468.wav                                  4\n",
      "7  5626.wav                                  3\n",
      "8  9949.wav                                  3\n",
      "9  5815.wav                                  4\n",
      "\n",
      "Predictions saved to 'test_predictions.csv'\n",
      "\n",
      "Predicted accent distribution:\n",
      "Accent 1: 41 files\n",
      "Accent 2: 62 files\n",
      "Accent 3: 98 files\n",
      "Accent 4: 284 files\n",
      "Accent 5: 66 files\n"
     ]
    }
   ],
   "source": [
    "print(f\"-----\"*10)\n",
    "#* predict the accents for the test set\n",
    "X_test = []\n",
    "\n",
    "print(\"processing test files...\")\n",
    "for i, row in test_df.iterrows():\n",
    "    file_path = row['file_path']\n",
    "    audio, sr = librosa.load(file_path, sr=16000)\n",
    "    \n",
    "    #* same preprocessing as training data\n",
    "    audio = (audio - np.mean(audio)) / (np.std(audio) + 1e-8)\n",
    "    padded_audio = custom_pad_raw_audio(audio, raw_audio_length)\n",
    "    \n",
    "    X_test.append(padded_audio)\n",
    "\n",
    "#* convert to numpy array and reshape for CNN\n",
    "X_test = np.array(X_test)\n",
    "X_test = X_test.reshape(X_test.shape[0], X_test.shape[1], 1)\n",
    "\n",
    "print(f\"Test data shape: {X_test.shape}\")\n",
    "\n",
    "#* make predictions using the trained model\n",
    "predictions = final_model.predict(X_test)\n",
    "predicted_classes = np.argmax(predictions, axis=1)\n",
    "\n",
    "#* convert back to accent labels (1-5)\n",
    "predicted_accents = predicted_classes + 1\n",
    "\n",
    "#* add predictions to test dataframe\n",
    "test_df['predicted_accent_1D_CNN_raw_audio'] = predicted_accents\n",
    "\n",
    "#* show results\n",
    "print(f\"\\nPrediction results:\")\n",
    "print(test_df[['file', 'predicted_accent_1D_CNN_raw_audio']].head(10))\n",
    "\n",
    "#* save predictions to CSV\n",
    "test_df[['file', 'predicted_accent_1D_CNN_raw_audio']].to_csv('test_accent_predictions.csv', index=False)\n",
    "\n",
    "#* save the full test dataframe with predictions\n",
    "test_df.to_csv('1D_CNN_predictions_on_test_dir.csv', index=False)\n",
    "\n",
    "\n",
    "#* show distribution of predicted accents\n",
    "accent_counts = test_df['predicted_accent_1D_CNN_raw_audio'].value_counts().sort_index()\n",
    "print(f\"\\nPredicted accent distribution:\")\n",
    "for accent, count in accent_counts.items():\n",
    "    print(f\"Accent {accent}: {count} files\")\n",
    "    \n",
    "    "
   ]
  },
  {
   "cell_type": "code",
   "execution_count": null,
   "id": "2842afae",
   "metadata": {},
   "outputs": [],
   "source": []
  }
 ],
 "metadata": {
  "kernelspec": {
   "display_name": "Python 3",
   "language": "python",
   "name": "python3"
  },
  "language_info": {
   "codemirror_mode": {
    "name": "ipython",
    "version": 3
   },
   "file_extension": ".py",
   "mimetype": "text/x-python",
   "name": "python",
   "nbconvert_exporter": "python",
   "pygments_lexer": "ipython3",
   "version": "3.11.12"
  }
 },
 "nbformat": 4,
 "nbformat_minor": 5
}
