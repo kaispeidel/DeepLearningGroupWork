{
 "cells": [
  {
   "cell_type": "markdown",
   "id": "1150aca5",
   "metadata": {},
   "source": [
    "# start"
   ]
  },
  {
   "cell_type": "markdown",
   "id": "8b5803d7",
   "metadata": {},
   "source": [
    "## load the dependencies\n"
   ]
  },
  {
   "cell_type": "code",
   "execution_count": 391,
   "id": "02372eb1",
   "metadata": {},
   "outputs": [
    {
     "name": "stdout",
     "output_type": "stream",
     "text": [
      "The tensorboard extension is already loaded. To reload it, use:\n",
      "  %reload_ext tensorboard\n"
     ]
    }
   ],
   "source": [
    "\n",
    "\n",
    "#Libraries we will need.\n",
    "import pandas as pd\n",
    "import matplotlib.pyplot as plt\n",
    "import librosa\n",
    "import librosa.display\n",
    "from tqdm import tqdm\n",
    "import numpy as np\n",
    "from sklearn.model_selection import train_test_split\n",
    "import tensorflow as tf\n",
    "import tensorflow.keras.models as models\n",
    "import tensorflow.keras.layers as layers\n",
    "import IPython.display as ipd\n",
    "from IPython.core.interactiveshell import InteractiveShell\n",
    "InteractiveShell.ast_node_interactivity = \"all\"\n",
    "\n",
    "%matplotlib inline\n",
    "%load_ext tensorboard\n",
    "\n"
   ]
  },
  {
   "cell_type": "code",
   "execution_count": 392,
   "id": "3b1419bc",
   "metadata": {},
   "outputs": [],
   "source": [
    "import numpy as np\n",
    "import pandas as pd\n",
    "import matplotlib.pyplot as plt\n",
    "import seaborn as sns\n",
    "import os"
   ]
  },
  {
   "cell_type": "markdown",
   "id": "87298ecf",
   "metadata": {},
   "source": [
    "## loading the data"
   ]
  },
  {
   "cell_type": "code",
   "execution_count": 393,
   "id": "c5705325",
   "metadata": {},
   "outputs": [
    {
     "data": {
      "application/vnd.microsoft.datawrangler.viewer.v0+json": {
       "columns": [
        {
         "name": "index",
         "rawType": "int64",
         "type": "integer"
        },
        {
         "name": "file",
         "rawType": "object",
         "type": "string"
        },
        {
         "name": "file_path",
         "rawType": "object",
         "type": "string"
        },
        {
         "name": "file_name",
         "rawType": "object",
         "type": "string"
        },
        {
         "name": "accent",
         "rawType": "object",
         "type": "string"
        },
        {
         "name": "gender",
         "rawType": "object",
         "type": "string"
        }
       ],
       "conversionMethod": "pd.DataFrame",
       "ref": "756d08c9-e523-4cb7-9416-00b2e0470cdc",
       "rows": [
        [
         "0",
         "2m_9039.wav",
         "/Users/kaispeidel/Downloads/DeepLearning/Train/2m_9039.wav",
         "2m_9039",
         "2",
         "m"
        ],
        [
         "1",
         "4f_1887.wav",
         "/Users/kaispeidel/Downloads/DeepLearning/Train/4f_1887.wav",
         "4f_1887",
         "4",
         "f"
        ],
        [
         "2",
         "4f_9571.wav",
         "/Users/kaispeidel/Downloads/DeepLearning/Train/4f_9571.wav",
         "4f_9571",
         "4",
         "f"
        ],
        [
         "3",
         "1m_3736.wav",
         "/Users/kaispeidel/Downloads/DeepLearning/Train/1m_3736.wav",
         "1m_3736",
         "1",
         "m"
        ],
        [
         "4",
         "1m_3078.wav",
         "/Users/kaispeidel/Downloads/DeepLearning/Train/1m_3078.wav",
         "1m_3078",
         "1",
         "m"
        ],
        [
         "5",
         "1f_8927.wav",
         "/Users/kaispeidel/Downloads/DeepLearning/Train/1f_8927.wav",
         "1f_8927",
         "1",
         "f"
        ],
        [
         "6",
         "2m_7982.wav",
         "/Users/kaispeidel/Downloads/DeepLearning/Train/2m_7982.wav",
         "2m_7982",
         "2",
         "m"
        ],
        [
         "7",
         "4m_6912.wav",
         "/Users/kaispeidel/Downloads/DeepLearning/Train/4m_6912.wav",
         "4m_6912",
         "4",
         "m"
        ],
        [
         "8",
         "2f_7836.wav",
         "/Users/kaispeidel/Downloads/DeepLearning/Train/2f_7836.wav",
         "2f_7836",
         "2",
         "f"
        ],
        [
         "9",
         "1f_3133.wav",
         "/Users/kaispeidel/Downloads/DeepLearning/Train/1f_3133.wav",
         "1f_3133",
         "1",
         "f"
        ],
        [
         "10",
         "1f_5542.wav",
         "/Users/kaispeidel/Downloads/DeepLearning/Train/1f_5542.wav",
         "1f_5542",
         "1",
         "f"
        ],
        [
         "11",
         "1f_7433.wav",
         "/Users/kaispeidel/Downloads/DeepLearning/Train/1f_7433.wav",
         "1f_7433",
         "1",
         "f"
        ],
        [
         "12",
         "3m_6786.wav",
         "/Users/kaispeidel/Downloads/DeepLearning/Train/3m_6786.wav",
         "3m_6786",
         "3",
         "m"
        ],
        [
         "13",
         "5m_1415.wav",
         "/Users/kaispeidel/Downloads/DeepLearning/Train/5m_1415.wav",
         "5m_1415",
         "5",
         "m"
        ],
        [
         "14",
         "1m_5384.wav",
         "/Users/kaispeidel/Downloads/DeepLearning/Train/1m_5384.wav",
         "1m_5384",
         "1",
         "m"
        ],
        [
         "15",
         "3f_2440.wav",
         "/Users/kaispeidel/Downloads/DeepLearning/Train/3f_2440.wav",
         "3f_2440",
         "3",
         "f"
        ],
        [
         "16",
         "2m_6493.wav",
         "/Users/kaispeidel/Downloads/DeepLearning/Train/2m_6493.wav",
         "2m_6493",
         "2",
         "m"
        ],
        [
         "17",
         "1f_2577.wav",
         "/Users/kaispeidel/Downloads/DeepLearning/Train/1f_2577.wav",
         "1f_2577",
         "1",
         "f"
        ],
        [
         "18",
         "4f_8848.wav",
         "/Users/kaispeidel/Downloads/DeepLearning/Train/4f_8848.wav",
         "4f_8848",
         "4",
         "f"
        ],
        [
         "19",
         "2m_2408.wav",
         "/Users/kaispeidel/Downloads/DeepLearning/Train/2m_2408.wav",
         "2m_2408",
         "2",
         "m"
        ],
        [
         "20",
         "1f_5797.wav",
         "/Users/kaispeidel/Downloads/DeepLearning/Train/1f_5797.wav",
         "1f_5797",
         "1",
         "f"
        ],
        [
         "21",
         "2m_1115.wav",
         "/Users/kaispeidel/Downloads/DeepLearning/Train/2m_1115.wav",
         "2m_1115",
         "2",
         "m"
        ],
        [
         "22",
         "1f_2946.wav",
         "/Users/kaispeidel/Downloads/DeepLearning/Train/1f_2946.wav",
         "1f_2946",
         "1",
         "f"
        ],
        [
         "23",
         "1m_5623.wav",
         "/Users/kaispeidel/Downloads/DeepLearning/Train/1m_5623.wav",
         "1m_5623",
         "1",
         "m"
        ],
        [
         "24",
         "2m_5373.wav",
         "/Users/kaispeidel/Downloads/DeepLearning/Train/2m_5373.wav",
         "2m_5373",
         "2",
         "m"
        ],
        [
         "25",
         "2m_2434.wav",
         "/Users/kaispeidel/Downloads/DeepLearning/Train/2m_2434.wav",
         "2m_2434",
         "2",
         "m"
        ],
        [
         "26",
         "5f_4630.wav",
         "/Users/kaispeidel/Downloads/DeepLearning/Train/5f_4630.wav",
         "5f_4630",
         "5",
         "f"
        ],
        [
         "27",
         "2m_1897.wav",
         "/Users/kaispeidel/Downloads/DeepLearning/Train/2m_1897.wav",
         "2m_1897",
         "2",
         "m"
        ],
        [
         "28",
         "2f_3852.wav",
         "/Users/kaispeidel/Downloads/DeepLearning/Train/2f_3852.wav",
         "2f_3852",
         "2",
         "f"
        ],
        [
         "29",
         "5f_8778.wav",
         "/Users/kaispeidel/Downloads/DeepLearning/Train/5f_8778.wav",
         "5f_8778",
         "5",
         "f"
        ],
        [
         "30",
         "3m_3417.wav",
         "/Users/kaispeidel/Downloads/DeepLearning/Train/3m_3417.wav",
         "3m_3417",
         "3",
         "m"
        ],
        [
         "31",
         "2m_4051.wav",
         "/Users/kaispeidel/Downloads/DeepLearning/Train/2m_4051.wav",
         "2m_4051",
         "2",
         "m"
        ],
        [
         "32",
         "3m_4378.wav",
         "/Users/kaispeidel/Downloads/DeepLearning/Train/3m_4378.wav",
         "3m_4378",
         "3",
         "m"
        ],
        [
         "33",
         "2f_6094.wav",
         "/Users/kaispeidel/Downloads/DeepLearning/Train/2f_6094.wav",
         "2f_6094",
         "2",
         "f"
        ],
        [
         "34",
         "2f_2219.wav",
         "/Users/kaispeidel/Downloads/DeepLearning/Train/2f_2219.wav",
         "2f_2219",
         "2",
         "f"
        ],
        [
         "35",
         "3f_9065.wav",
         "/Users/kaispeidel/Downloads/DeepLearning/Train/3f_9065.wav",
         "3f_9065",
         "3",
         "f"
        ],
        [
         "36",
         "1m_5192.wav",
         "/Users/kaispeidel/Downloads/DeepLearning/Train/1m_5192.wav",
         "1m_5192",
         "1",
         "m"
        ],
        [
         "37",
         "4f_2829.wav",
         "/Users/kaispeidel/Downloads/DeepLearning/Train/4f_2829.wav",
         "4f_2829",
         "4",
         "f"
        ],
        [
         "38",
         "4f_6497.wav",
         "/Users/kaispeidel/Downloads/DeepLearning/Train/4f_6497.wav",
         "4f_6497",
         "4",
         "f"
        ],
        [
         "39",
         "4m_5994.wav",
         "/Users/kaispeidel/Downloads/DeepLearning/Train/4m_5994.wav",
         "4m_5994",
         "4",
         "m"
        ],
        [
         "40",
         "4m_5980.wav",
         "/Users/kaispeidel/Downloads/DeepLearning/Train/4m_5980.wav",
         "4m_5980",
         "4",
         "m"
        ],
        [
         "41",
         "4m_9162.wav",
         "/Users/kaispeidel/Downloads/DeepLearning/Train/4m_9162.wav",
         "4m_9162",
         "4",
         "m"
        ],
        [
         "42",
         "2f_7413.wav",
         "/Users/kaispeidel/Downloads/DeepLearning/Train/2f_7413.wav",
         "2f_7413",
         "2",
         "f"
        ],
        [
         "43",
         "2f_7375.wav",
         "/Users/kaispeidel/Downloads/DeepLearning/Train/2f_7375.wav",
         "2f_7375",
         "2",
         "f"
        ],
        [
         "44",
         "4m_4320.wav",
         "/Users/kaispeidel/Downloads/DeepLearning/Train/4m_4320.wav",
         "4m_4320",
         "4",
         "m"
        ],
        [
         "45",
         "4m_6279.wav",
         "/Users/kaispeidel/Downloads/DeepLearning/Train/4m_6279.wav",
         "4m_6279",
         "4",
         "m"
        ],
        [
         "46",
         "3f_7706.wav",
         "/Users/kaispeidel/Downloads/DeepLearning/Train/3f_7706.wav",
         "3f_7706",
         "3",
         "f"
        ],
        [
         "47",
         "1f_6261.wav",
         "/Users/kaispeidel/Downloads/DeepLearning/Train/1f_6261.wav",
         "1f_6261",
         "1",
         "f"
        ],
        [
         "48",
         "2f_2557.wav",
         "/Users/kaispeidel/Downloads/DeepLearning/Train/2f_2557.wav",
         "2f_2557",
         "2",
         "f"
        ],
        [
         "49",
         "1f_4476.wav",
         "/Users/kaispeidel/Downloads/DeepLearning/Train/1f_4476.wav",
         "1f_4476",
         "1",
         "f"
        ]
       ],
       "shape": {
        "columns": 5,
        "rows": 3166
       }
      },
      "text/html": [
       "<div>\n",
       "<style scoped>\n",
       "    .dataframe tbody tr th:only-of-type {\n",
       "        vertical-align: middle;\n",
       "    }\n",
       "\n",
       "    .dataframe tbody tr th {\n",
       "        vertical-align: top;\n",
       "    }\n",
       "\n",
       "    .dataframe thead th {\n",
       "        text-align: right;\n",
       "    }\n",
       "</style>\n",
       "<table border=\"1\" class=\"dataframe\">\n",
       "  <thead>\n",
       "    <tr style=\"text-align: right;\">\n",
       "      <th></th>\n",
       "      <th>file</th>\n",
       "      <th>file_path</th>\n",
       "      <th>file_name</th>\n",
       "      <th>accent</th>\n",
       "      <th>gender</th>\n",
       "    </tr>\n",
       "  </thead>\n",
       "  <tbody>\n",
       "    <tr>\n",
       "      <th>0</th>\n",
       "      <td>2m_9039.wav</td>\n",
       "      <td>/Users/kaispeidel/Downloads/DeepLearning/Train...</td>\n",
       "      <td>2m_9039</td>\n",
       "      <td>2</td>\n",
       "      <td>m</td>\n",
       "    </tr>\n",
       "    <tr>\n",
       "      <th>1</th>\n",
       "      <td>4f_1887.wav</td>\n",
       "      <td>/Users/kaispeidel/Downloads/DeepLearning/Train...</td>\n",
       "      <td>4f_1887</td>\n",
       "      <td>4</td>\n",
       "      <td>f</td>\n",
       "    </tr>\n",
       "    <tr>\n",
       "      <th>2</th>\n",
       "      <td>4f_9571.wav</td>\n",
       "      <td>/Users/kaispeidel/Downloads/DeepLearning/Train...</td>\n",
       "      <td>4f_9571</td>\n",
       "      <td>4</td>\n",
       "      <td>f</td>\n",
       "    </tr>\n",
       "    <tr>\n",
       "      <th>3</th>\n",
       "      <td>1m_3736.wav</td>\n",
       "      <td>/Users/kaispeidel/Downloads/DeepLearning/Train...</td>\n",
       "      <td>1m_3736</td>\n",
       "      <td>1</td>\n",
       "      <td>m</td>\n",
       "    </tr>\n",
       "    <tr>\n",
       "      <th>4</th>\n",
       "      <td>1m_3078.wav</td>\n",
       "      <td>/Users/kaispeidel/Downloads/DeepLearning/Train...</td>\n",
       "      <td>1m_3078</td>\n",
       "      <td>1</td>\n",
       "      <td>m</td>\n",
       "    </tr>\n",
       "    <tr>\n",
       "      <th>...</th>\n",
       "      <td>...</td>\n",
       "      <td>...</td>\n",
       "      <td>...</td>\n",
       "      <td>...</td>\n",
       "      <td>...</td>\n",
       "    </tr>\n",
       "    <tr>\n",
       "      <th>3161</th>\n",
       "      <td>3f_3974.wav</td>\n",
       "      <td>/Users/kaispeidel/Downloads/DeepLearning/Train...</td>\n",
       "      <td>3f_3974</td>\n",
       "      <td>3</td>\n",
       "      <td>f</td>\n",
       "    </tr>\n",
       "    <tr>\n",
       "      <th>3162</th>\n",
       "      <td>3m_7330.wav</td>\n",
       "      <td>/Users/kaispeidel/Downloads/DeepLearning/Train...</td>\n",
       "      <td>3m_7330</td>\n",
       "      <td>3</td>\n",
       "      <td>m</td>\n",
       "    </tr>\n",
       "    <tr>\n",
       "      <th>3163</th>\n",
       "      <td>5f_2072.wav</td>\n",
       "      <td>/Users/kaispeidel/Downloads/DeepLearning/Train...</td>\n",
       "      <td>5f_2072</td>\n",
       "      <td>5</td>\n",
       "      <td>f</td>\n",
       "    </tr>\n",
       "    <tr>\n",
       "      <th>3164</th>\n",
       "      <td>2m_6475.wav</td>\n",
       "      <td>/Users/kaispeidel/Downloads/DeepLearning/Train...</td>\n",
       "      <td>2m_6475</td>\n",
       "      <td>2</td>\n",
       "      <td>m</td>\n",
       "    </tr>\n",
       "    <tr>\n",
       "      <th>3165</th>\n",
       "      <td>4f_8662.wav</td>\n",
       "      <td>/Users/kaispeidel/Downloads/DeepLearning/Train...</td>\n",
       "      <td>4f_8662</td>\n",
       "      <td>4</td>\n",
       "      <td>f</td>\n",
       "    </tr>\n",
       "  </tbody>\n",
       "</table>\n",
       "<p>3166 rows × 5 columns</p>\n",
       "</div>"
      ],
      "text/plain": [
       "             file                                          file_path  \\\n",
       "0     2m_9039.wav  /Users/kaispeidel/Downloads/DeepLearning/Train...   \n",
       "1     4f_1887.wav  /Users/kaispeidel/Downloads/DeepLearning/Train...   \n",
       "2     4f_9571.wav  /Users/kaispeidel/Downloads/DeepLearning/Train...   \n",
       "3     1m_3736.wav  /Users/kaispeidel/Downloads/DeepLearning/Train...   \n",
       "4     1m_3078.wav  /Users/kaispeidel/Downloads/DeepLearning/Train...   \n",
       "...           ...                                                ...   \n",
       "3161  3f_3974.wav  /Users/kaispeidel/Downloads/DeepLearning/Train...   \n",
       "3162  3m_7330.wav  /Users/kaispeidel/Downloads/DeepLearning/Train...   \n",
       "3163  5f_2072.wav  /Users/kaispeidel/Downloads/DeepLearning/Train...   \n",
       "3164  2m_6475.wav  /Users/kaispeidel/Downloads/DeepLearning/Train...   \n",
       "3165  4f_8662.wav  /Users/kaispeidel/Downloads/DeepLearning/Train...   \n",
       "\n",
       "     file_name accent gender  \n",
       "0      2m_9039      2      m  \n",
       "1      4f_1887      4      f  \n",
       "2      4f_9571      4      f  \n",
       "3      1m_3736      1      m  \n",
       "4      1m_3078      1      m  \n",
       "...        ...    ...    ...  \n",
       "3161   3f_3974      3      f  \n",
       "3162   3m_7330      3      m  \n",
       "3163   5f_2072      5      f  \n",
       "3164   2m_6475      2      m  \n",
       "3165   4f_8662      4      f  \n",
       "\n",
       "[3166 rows x 5 columns]"
      ]
     },
     "execution_count": 393,
     "metadata": {},
     "output_type": "execute_result"
    }
   ],
   "source": [
    "# load the data its in the Train directory its not a csv its just wav files\n",
    "\n",
    "# get every file from the Train directory\n",
    "train_dir = '/Users/kaispeidel/Downloads/DeepLearning/Train'\n",
    "train_files = os.listdir(train_dir)\n",
    "\n",
    "# make csv file out of the files \n",
    "train_df = pd.DataFrame(train_files, columns=['file'])\n",
    "\n",
    "# create a column with the file path \n",
    "train_df['file_path'] = train_df['file'].apply(lambda x: os.path.join(train_dir, x))\n",
    "\n",
    "# create a column with the file name without the .wav extension\n",
    "train_df['file_name'] = train_df['file'].str.replace('.wav', '')\n",
    "\n",
    "# create a column with the accent from the first numer of the file name\n",
    "train_df['accent'] = train_df['file_name'].str[0]\n",
    "\n",
    "# create a column with male or female from the second incex of the file name\n",
    "train_df['gender'] = train_df['file_name'].str[1]\n",
    "\n",
    "train_df"
   ]
  },
  {
   "cell_type": "markdown",
   "id": "c51ac540",
   "metadata": {},
   "source": []
  },
  {
   "cell_type": "code",
   "execution_count": 394,
   "id": "d6a9b3c7",
   "metadata": {},
   "outputs": [
    {
     "data": {
      "application/vnd.microsoft.datawrangler.viewer.v0+json": {
       "columns": [
        {
         "name": "index",
         "rawType": "int64",
         "type": "integer"
        },
        {
         "name": "file",
         "rawType": "object",
         "type": "string"
        },
        {
         "name": "file_path",
         "rawType": "object",
         "type": "string"
        },
        {
         "name": "file_name",
         "rawType": "object",
         "type": "string"
        },
        {
         "name": "accent",
         "rawType": "object",
         "type": "string"
        },
        {
         "name": "gender",
         "rawType": "object",
         "type": "string"
        }
       ],
       "conversionMethod": "pd.DataFrame",
       "ref": "81b73a8e-e3cc-4c2d-9401-e6b328f537f6",
       "rows": [
        [
         "0",
         "9430.wav",
         "/Users/kaispeidel/Downloads/DeepLearning/Test/9430.wav",
         "9430",
         "",
         ""
        ],
        [
         "1",
         "4458.wav",
         "/Users/kaispeidel/Downloads/DeepLearning/Test/4458.wav",
         "4458",
         "",
         ""
        ],
        [
         "2",
         "1534.wav",
         "/Users/kaispeidel/Downloads/DeepLearning/Test/1534.wav",
         "1534",
         "",
         ""
        ],
        [
         "3",
         "8510.wav",
         "/Users/kaispeidel/Downloads/DeepLearning/Test/8510.wav",
         "8510",
         "",
         ""
        ],
        [
         "4",
         "7192.wav",
         "/Users/kaispeidel/Downloads/DeepLearning/Test/7192.wav",
         "7192",
         "",
         ""
        ],
        [
         "5",
         "2607.wav",
         "/Users/kaispeidel/Downloads/DeepLearning/Test/2607.wav",
         "2607",
         "",
         ""
        ],
        [
         "6",
         "1468.wav",
         "/Users/kaispeidel/Downloads/DeepLearning/Test/1468.wav",
         "1468",
         "",
         ""
        ],
        [
         "7",
         "5626.wav",
         "/Users/kaispeidel/Downloads/DeepLearning/Test/5626.wav",
         "5626",
         "",
         ""
        ],
        [
         "8",
         "9949.wav",
         "/Users/kaispeidel/Downloads/DeepLearning/Test/9949.wav",
         "9949",
         "",
         ""
        ],
        [
         "9",
         "5815.wav",
         "/Users/kaispeidel/Downloads/DeepLearning/Test/5815.wav",
         "5815",
         "",
         ""
        ],
        [
         "10",
         "6105.wav",
         "/Users/kaispeidel/Downloads/DeepLearning/Test/6105.wav",
         "6105",
         "",
         ""
        ],
        [
         "11",
         "4060.wav",
         "/Users/kaispeidel/Downloads/DeepLearning/Test/4060.wav",
         "4060",
         "",
         ""
        ],
        [
         "12",
         "4048.wav",
         "/Users/kaispeidel/Downloads/DeepLearning/Test/4048.wav",
         "4048",
         "",
         ""
        ],
        [
         "13",
         "8855.wav",
         "/Users/kaispeidel/Downloads/DeepLearning/Test/8855.wav",
         "8855",
         "",
         ""
        ],
        [
         "14",
         "7232.wav",
         "/Users/kaispeidel/Downloads/DeepLearning/Test/7232.wav",
         "7232",
         "",
         ""
        ],
        [
         "15",
         "8101.wav",
         "/Users/kaispeidel/Downloads/DeepLearning/Test/8101.wav",
         "8101",
         "",
         ""
        ],
        [
         "16",
         "8115.wav",
         "/Users/kaispeidel/Downloads/DeepLearning/Test/8115.wav",
         "8115",
         "",
         ""
        ],
        [
         "17",
         "7540.wav",
         "/Users/kaispeidel/Downloads/DeepLearning/Test/7540.wav",
         "7540",
         "",
         ""
        ],
        [
         "18",
         "8673.wav",
         "/Users/kaispeidel/Downloads/DeepLearning/Test/8673.wav",
         "8673",
         "",
         ""
        ],
        [
         "19",
         "2438.wav",
         "/Users/kaispeidel/Downloads/DeepLearning/Test/2438.wav",
         "2438",
         "",
         ""
        ],
        [
         "20",
         "9974.wav",
         "/Users/kaispeidel/Downloads/DeepLearning/Test/9974.wav",
         "9974",
         "",
         ""
        ],
        [
         "21",
         "7781.wav",
         "/Users/kaispeidel/Downloads/DeepLearning/Test/7781.wav",
         "7781",
         "",
         ""
        ],
        [
         "22",
         "8465.wav",
         "/Users/kaispeidel/Downloads/DeepLearning/Test/8465.wav",
         "8465",
         "",
         ""
        ],
        [
         "23",
         "9747.wav",
         "/Users/kaispeidel/Downloads/DeepLearning/Test/9747.wav",
         "9747",
         "",
         ""
        ],
        [
         "24",
         "8459.wav",
         "/Users/kaispeidel/Downloads/DeepLearning/Test/8459.wav",
         "8459",
         "",
         ""
        ],
        [
         "25",
         "4277.wav",
         "/Users/kaispeidel/Downloads/DeepLearning/Test/4277.wav",
         "4277",
         "",
         ""
        ],
        [
         "26",
         "2160.wav",
         "/Users/kaispeidel/Downloads/DeepLearning/Test/2160.wav",
         "2160",
         "",
         ""
        ],
        [
         "27",
         "6306.wav",
         "/Users/kaispeidel/Downloads/DeepLearning/Test/6306.wav",
         "6306",
         "",
         ""
        ],
        [
         "28",
         "9800.wav",
         "/Users/kaispeidel/Downloads/DeepLearning/Test/9800.wav",
         "9800",
         "",
         ""
        ],
        [
         "29",
         "9196.wav",
         "/Users/kaispeidel/Downloads/DeepLearning/Test/9196.wav",
         "9196",
         "",
         ""
        ],
        [
         "30",
         "2969.wav",
         "/Users/kaispeidel/Downloads/DeepLearning/Test/2969.wav",
         "2969",
         "",
         ""
        ],
        [
         "31",
         "7144.wav",
         "/Users/kaispeidel/Downloads/DeepLearning/Test/7144.wav",
         "7144",
         "",
         ""
        ],
        [
         "32",
         "6266.wav",
         "/Users/kaispeidel/Downloads/DeepLearning/Test/6266.wav",
         "6266",
         "",
         ""
        ],
        [
         "33",
         "3861.wav",
         "/Users/kaispeidel/Downloads/DeepLearning/Test/3861.wav",
         "3861",
         "",
         ""
        ],
        [
         "34",
         "1910.wav",
         "/Users/kaispeidel/Downloads/DeepLearning/Test/1910.wav",
         "1910",
         "",
         ""
        ],
        [
         "35",
         "8920.wav",
         "/Users/kaispeidel/Downloads/DeepLearning/Test/8920.wav",
         "8920",
         "",
         ""
        ],
        [
         "36",
         "3646.wav",
         "/Users/kaispeidel/Downloads/DeepLearning/Test/3646.wav",
         "3646",
         "",
         ""
        ],
        [
         "37",
         "6058.wav",
         "/Users/kaispeidel/Downloads/DeepLearning/Test/6058.wav",
         "6058",
         "",
         ""
        ],
        [
         "38",
         "7352.wav",
         "/Users/kaispeidel/Downloads/DeepLearning/Test/7352.wav",
         "7352",
         "",
         ""
        ],
        [
         "39",
         "2202.wav",
         "/Users/kaispeidel/Downloads/DeepLearning/Test/2202.wav",
         "2202",
         "",
         ""
        ],
        [
         "40",
         "9357.wav",
         "/Users/kaispeidel/Downloads/DeepLearning/Test/9357.wav",
         "9357",
         "",
         ""
        ],
        [
         "41",
         "3108.wav",
         "/Users/kaispeidel/Downloads/DeepLearning/Test/3108.wav",
         "3108",
         "",
         ""
        ],
        [
         "42",
         "2570.wav",
         "/Users/kaispeidel/Downloads/DeepLearning/Test/2570.wav",
         "2570",
         "",
         ""
        ],
        [
         "43",
         "9355.wav",
         "/Users/kaispeidel/Downloads/DeepLearning/Test/9355.wav",
         "9355",
         "",
         ""
        ],
        [
         "44",
         "5209.wav",
         "/Users/kaispeidel/Downloads/DeepLearning/Test/5209.wav",
         "5209",
         "",
         ""
        ],
        [
         "45",
         "8077.wav",
         "/Users/kaispeidel/Downloads/DeepLearning/Test/8077.wav",
         "8077",
         "",
         ""
        ],
        [
         "46",
         "6933.wav",
         "/Users/kaispeidel/Downloads/DeepLearning/Test/6933.wav",
         "6933",
         "",
         ""
        ],
        [
         "47",
         "7393.wav",
         "/Users/kaispeidel/Downloads/DeepLearning/Test/7393.wav",
         "7393",
         "",
         ""
        ],
        [
         "48",
         "2764.wav",
         "/Users/kaispeidel/Downloads/DeepLearning/Test/2764.wav",
         "2764",
         "",
         ""
        ],
        [
         "49",
         "6270.wav",
         "/Users/kaispeidel/Downloads/DeepLearning/Test/6270.wav",
         "6270",
         "",
         ""
        ]
       ],
       "shape": {
        "columns": 5,
        "rows": 551
       }
      },
      "text/html": [
       "<div>\n",
       "<style scoped>\n",
       "    .dataframe tbody tr th:only-of-type {\n",
       "        vertical-align: middle;\n",
       "    }\n",
       "\n",
       "    .dataframe tbody tr th {\n",
       "        vertical-align: top;\n",
       "    }\n",
       "\n",
       "    .dataframe thead th {\n",
       "        text-align: right;\n",
       "    }\n",
       "</style>\n",
       "<table border=\"1\" class=\"dataframe\">\n",
       "  <thead>\n",
       "    <tr style=\"text-align: right;\">\n",
       "      <th></th>\n",
       "      <th>file</th>\n",
       "      <th>file_path</th>\n",
       "      <th>file_name</th>\n",
       "      <th>accent</th>\n",
       "      <th>gender</th>\n",
       "    </tr>\n",
       "  </thead>\n",
       "  <tbody>\n",
       "    <tr>\n",
       "      <th>0</th>\n",
       "      <td>9430.wav</td>\n",
       "      <td>/Users/kaispeidel/Downloads/DeepLearning/Test/...</td>\n",
       "      <td>9430</td>\n",
       "      <td></td>\n",
       "      <td></td>\n",
       "    </tr>\n",
       "    <tr>\n",
       "      <th>1</th>\n",
       "      <td>4458.wav</td>\n",
       "      <td>/Users/kaispeidel/Downloads/DeepLearning/Test/...</td>\n",
       "      <td>4458</td>\n",
       "      <td></td>\n",
       "      <td></td>\n",
       "    </tr>\n",
       "    <tr>\n",
       "      <th>2</th>\n",
       "      <td>1534.wav</td>\n",
       "      <td>/Users/kaispeidel/Downloads/DeepLearning/Test/...</td>\n",
       "      <td>1534</td>\n",
       "      <td></td>\n",
       "      <td></td>\n",
       "    </tr>\n",
       "    <tr>\n",
       "      <th>3</th>\n",
       "      <td>8510.wav</td>\n",
       "      <td>/Users/kaispeidel/Downloads/DeepLearning/Test/...</td>\n",
       "      <td>8510</td>\n",
       "      <td></td>\n",
       "      <td></td>\n",
       "    </tr>\n",
       "    <tr>\n",
       "      <th>4</th>\n",
       "      <td>7192.wav</td>\n",
       "      <td>/Users/kaispeidel/Downloads/DeepLearning/Test/...</td>\n",
       "      <td>7192</td>\n",
       "      <td></td>\n",
       "      <td></td>\n",
       "    </tr>\n",
       "    <tr>\n",
       "      <th>...</th>\n",
       "      <td>...</td>\n",
       "      <td>...</td>\n",
       "      <td>...</td>\n",
       "      <td>...</td>\n",
       "      <td>...</td>\n",
       "    </tr>\n",
       "    <tr>\n",
       "      <th>546</th>\n",
       "      <td>8910.wav</td>\n",
       "      <td>/Users/kaispeidel/Downloads/DeepLearning/Test/...</td>\n",
       "      <td>8910</td>\n",
       "      <td></td>\n",
       "      <td></td>\n",
       "    </tr>\n",
       "    <tr>\n",
       "      <th>547</th>\n",
       "      <td>8904.wav</td>\n",
       "      <td>/Users/kaispeidel/Downloads/DeepLearning/Test/...</td>\n",
       "      <td>8904</td>\n",
       "      <td></td>\n",
       "      <td></td>\n",
       "    </tr>\n",
       "    <tr>\n",
       "      <th>548</th>\n",
       "      <td>4680.wav</td>\n",
       "      <td>/Users/kaispeidel/Downloads/DeepLearning/Test/...</td>\n",
       "      <td>4680</td>\n",
       "      <td></td>\n",
       "      <td></td>\n",
       "    </tr>\n",
       "    <tr>\n",
       "      <th>549</th>\n",
       "      <td>4858.wav</td>\n",
       "      <td>/Users/kaispeidel/Downloads/DeepLearning/Test/...</td>\n",
       "      <td>4858</td>\n",
       "      <td></td>\n",
       "      <td></td>\n",
       "    </tr>\n",
       "    <tr>\n",
       "      <th>550</th>\n",
       "      <td>8723.wav</td>\n",
       "      <td>/Users/kaispeidel/Downloads/DeepLearning/Test/...</td>\n",
       "      <td>8723</td>\n",
       "      <td></td>\n",
       "      <td></td>\n",
       "    </tr>\n",
       "  </tbody>\n",
       "</table>\n",
       "<p>551 rows × 5 columns</p>\n",
       "</div>"
      ],
      "text/plain": [
       "         file                                          file_path file_name  \\\n",
       "0    9430.wav  /Users/kaispeidel/Downloads/DeepLearning/Test/...      9430   \n",
       "1    4458.wav  /Users/kaispeidel/Downloads/DeepLearning/Test/...      4458   \n",
       "2    1534.wav  /Users/kaispeidel/Downloads/DeepLearning/Test/...      1534   \n",
       "3    8510.wav  /Users/kaispeidel/Downloads/DeepLearning/Test/...      8510   \n",
       "4    7192.wav  /Users/kaispeidel/Downloads/DeepLearning/Test/...      7192   \n",
       "..        ...                                                ...       ...   \n",
       "546  8910.wav  /Users/kaispeidel/Downloads/DeepLearning/Test/...      8910   \n",
       "547  8904.wav  /Users/kaispeidel/Downloads/DeepLearning/Test/...      8904   \n",
       "548  4680.wav  /Users/kaispeidel/Downloads/DeepLearning/Test/...      4680   \n",
       "549  4858.wav  /Users/kaispeidel/Downloads/DeepLearning/Test/...      4858   \n",
       "550  8723.wav  /Users/kaispeidel/Downloads/DeepLearning/Test/...      8723   \n",
       "\n",
       "    accent gender  \n",
       "0                  \n",
       "1                  \n",
       "2                  \n",
       "3                  \n",
       "4                  \n",
       "..     ...    ...  \n",
       "546                \n",
       "547                \n",
       "548                \n",
       "549                \n",
       "550                \n",
       "\n",
       "[551 rows x 5 columns]"
      ]
     },
     "execution_count": 394,
     "metadata": {},
     "output_type": "execute_result"
    }
   ],
   "source": [
    "test_dir = '/Users/kaispeidel/Downloads/DeepLearning/Test'\n",
    "test_files = os.listdir(test_dir)\n",
    "\n",
    "test_df = pd.DataFrame(test_files, columns=['file'])\n",
    "test_df['file_path'] = test_df['file'].apply(lambda x: os.path.join(test_dir, x))\n",
    "test_df['file_name'] = test_df['file'].str.replace('.wav', '')\n",
    "\n",
    "# create an empty column for the accent and gender\n",
    "test_df['accent'] = ''\n",
    "test_df['gender'] = ''\n",
    " \n",
    "test_df"
   ]
  },
  {
   "cell_type": "markdown",
   "id": "c0c6df29",
   "metadata": {},
   "source": [
    "## first try\n",
    "\n",
    "from: https://towardsdatascience.com/audio-deep-learning-made-simple-sound-classification-step-by-step-cebc936bbe5/\n"
   ]
  },
  {
   "cell_type": "markdown",
   "id": "849a5fd1",
   "metadata": {},
   "source": [
    "## approach a) \n",
    "\n",
    "Use the raw input signal and analyze it as a 1D input; in this case, you can, of\n",
    "course, apply simple pre-processing like standardization."
   ]
  },
  {
   "cell_type": "code",
   "execution_count": 395,
   "id": "533c9dea",
   "metadata": {},
   "outputs": [],
   "source": [
    "import librosa\n",
    "import torch\n",
    "\n",
    "def load_and_PreProcess(path):\n",
    "    try: \n",
    "        audio, sr = librosa.load(path)\n",
    "        audio_tensor = torch.tensor(audio)\n",
    "        return audio_tensor, sr, audio\n",
    "    except Exception as e:\n",
    "        print(f\"Error loading {path}: {e}\")\n",
    "        return None, None"
   ]
  },
  {
   "cell_type": "code",
   "execution_count": 421,
   "id": "1b863954",
   "metadata": {},
   "outputs": [],
   "source": [
    "# apply the function to all files in the train  dataframes first crete a new copy\n",
    "\n",
    "nummer = len(train_df)\n",
    "\n",
    "df= train_df[:nummer].copy()\n"
   ]
  },
  {
   "cell_type": "code",
   "execution_count": 422,
   "id": "d9180e5d",
   "metadata": {},
   "outputs": [
    {
     "name": "stdout",
     "output_type": "stream",
     "text": [
      "Max length: 286003\n"
     ]
    }
   ],
   "source": [
    "lengths = []\n",
    "\n",
    "for file in df['file_path']:\n",
    "    audio, sr = librosa.load(file)\n",
    "    lengths.append(len(audio))\n",
    "\n",
    "max_length = max(lengths)\n",
    "print(f\"Max length: {max_length}\")"
   ]
  },
  {
   "cell_type": "markdown",
   "id": "80a74087",
   "metadata": {},
   "source": [
    "## try agin"
   ]
  },
  {
   "cell_type": "code",
   "execution_count": 423,
   "id": "e0f6a264",
   "metadata": {},
   "outputs": [
    {
     "name": "stdout",
     "output_type": "stream",
     "text": [
      "Classes: ['2' '4' '1' '3' '5']\n"
     ]
    }
   ],
   "source": [
    "classes = df['accent'].unique()\n",
    "print(f\"Classes: {classes}\")"
   ]
  },
  {
   "cell_type": "code",
   "execution_count": 424,
   "id": "cbc0fcc8",
   "metadata": {},
   "outputs": [
    {
     "name": "stdout",
     "output_type": "stream",
     "text": [
      "Class dict: {'2': 0, '4': 1, '1': 2, '3': 3, '5': 4}\n"
     ]
    }
   ],
   "source": [
    "class_dict = {i:x for x,i in enumerate(classes)}\n",
    "print(f\"Class dict: {class_dict}\")"
   ]
  },
  {
   "cell_type": "code",
   "execution_count": 425,
   "id": "49b2aecd",
   "metadata": {},
   "outputs": [
    {
     "name": "stdout",
     "output_type": "stream",
     "text": [
      "df shape:  (3166, 6)\n"
     ]
    }
   ],
   "source": [
    "df['target'] = df['accent'].map(class_dict)\n",
    "print(\"df shape: \", df.shape)"
   ]
  },
  {
   "cell_type": "code",
   "execution_count": 426,
   "id": "8f1be803",
   "metadata": {},
   "outputs": [],
   "source": [
    "data_dir = '/Users/kaispeidel/Downloads/DeepLearning/Train'\n",
    "n_mfcc = 14       # or 40 for finer resolution\n",
    "max_length = 1000    # adjust based on typical audio length\n",
    "sr = 16000"
   ]
  },
  {
   "cell_type": "code",
   "execution_count": 427,
   "id": "c7ccc354",
   "metadata": {},
   "outputs": [],
   "source": [
    "def custom_pad_mfcc(mfcc, fixed_length):\n",
    "    n_mfcc, time_steps = mfcc.shape\n",
    "    padded = np.zeros((n_mfcc, fixed_length))  # Zero-filled array\n",
    "\n",
    "    # Copy only what fits\n",
    "    length_to_copy = min(time_steps, fixed_length)\n",
    "    padded[:, :length_to_copy] = mfcc[:, :length_to_copy]\n",
    "    \n",
    "    return padded"
   ]
  },
  {
   "cell_type": "code",
   "execution_count": 428,
   "id": "26a1c5f9",
   "metadata": {},
   "outputs": [
    {
     "name": "stderr",
     "output_type": "stream",
     "text": [
      "Progress: 0it [00:00, ?it/s]/var/folders/pt/w218tf6j5kz72yf4j8vy4g0r0000gn/T/ipykernel_80881/648645202.py:6: FutureWarning: Series.__getitem__ treating keys as positions is deprecated. In a future version, integer keys will always be treated as labels (consistent with DataFrame behavior). To access a value by position, use `ser.iloc[pos]`\n",
      "  file_path = os.path.join(data_dir, data[1][0])\n",
      "/var/folders/pt/w218tf6j5kz72yf4j8vy4g0r0000gn/T/ipykernel_80881/648645202.py:12: FutureWarning: Series.__getitem__ treating keys as positions is deprecated. In a future version, integer keys will always be treated as labels (consistent with DataFrame behavior). To access a value by position, use `ser.iloc[pos]`\n",
      "  y.append(data[1][3]) # 4 is the target column\n",
      "Progress: 3166it [00:15, 208.20it/s]\n"
     ]
    }
   ],
   "source": [
    "X = []\n",
    "y = []\n",
    "\n",
    "for data in tqdm(df.iterrows(),  desc='Progress'):\n",
    "    \n",
    "    file_path = os.path.join(data_dir, data[1][0])\n",
    "    sig, sr = librosa.load(file_path)\n",
    "    mfcc = librosa.feature.mfcc(y=sig, sr=sr, n_mfcc=n_mfcc) # change n_mfcc to if needed higher for more finegraded features\n",
    "    padded = custom_pad_mfcc(mfcc, max_length)\n",
    "\n",
    "    X.append(padded)\n",
    "    y.append(data[1][3]) # 4 is the target column\n",
    "    \n",
    "\n"
   ]
  },
  {
   "cell_type": "markdown",
   "id": "d63b61ac",
   "metadata": {},
   "source": [
    "### lengths inspection"
   ]
  },
  {
   "cell_type": "code",
   "execution_count": 429,
   "id": "e7fce8a3",
   "metadata": {},
   "outputs": [],
   "source": [
    "lengths = []\n",
    "for i in X:\n",
    "    lengths.append((i.shape[1]))"
   ]
  },
  {
   "cell_type": "code",
   "execution_count": 430,
   "id": "2079a509",
   "metadata": {},
   "outputs": [
    {
     "data": {
      "text/plain": [
       "<Figure size 1000x500 with 0 Axes>"
      ]
     },
     "execution_count": 430,
     "metadata": {},
     "output_type": "execute_result"
    },
    {
     "data": {
      "text/plain": [
       "(array([   0.,    0.,    0.,    0.,    0.,    0.,    0.,    0.,    0.,\n",
       "           0.,    0.,    0.,    0.,    0.,    0.,    0.,    0.,    0.,\n",
       "           0.,    0.,    0.,    0.,    0.,    0.,    0., 3166.,    0.,\n",
       "           0.,    0.,    0.,    0.,    0.,    0.,    0.,    0.,    0.,\n",
       "           0.,    0.,    0.,    0.,    0.,    0.,    0.,    0.,    0.,\n",
       "           0.,    0.,    0.,    0.,    0.]),\n",
       " array([ 999.5 ,  999.52,  999.54,  999.56,  999.58,  999.6 ,  999.62,\n",
       "         999.64,  999.66,  999.68,  999.7 ,  999.72,  999.74,  999.76,\n",
       "         999.78,  999.8 ,  999.82,  999.84,  999.86,  999.88,  999.9 ,\n",
       "         999.92,  999.94,  999.96,  999.98, 1000.  , 1000.02, 1000.04,\n",
       "        1000.06, 1000.08, 1000.1 , 1000.12, 1000.14, 1000.16, 1000.18,\n",
       "        1000.2 , 1000.22, 1000.24, 1000.26, 1000.28, 1000.3 , 1000.32,\n",
       "        1000.34, 1000.36, 1000.38, 1000.4 , 1000.42, 1000.44, 1000.46,\n",
       "        1000.48, 1000.5 ]),\n",
       " <BarContainer object of 50 artists>)"
      ]
     },
     "execution_count": 430,
     "metadata": {},
     "output_type": "execute_result"
    },
    {
     "data": {
      "text/plain": [
       "Text(0.5, 0, 'Length of MFCC')"
      ]
     },
     "execution_count": 430,
     "metadata": {},
     "output_type": "execute_result"
    },
    {
     "data": {
      "text/plain": [
       "Text(0, 0.5, 'Count')"
      ]
     },
     "execution_count": 430,
     "metadata": {},
     "output_type": "execute_result"
    },
    {
     "data": {
      "text/plain": [
       "Text(0.5, 1.0, 'Distribution of MFCC Lengths')"
      ]
     },
     "execution_count": 430,
     "metadata": {},
     "output_type": "execute_result"
    },
    {
     "data": {
      "image/png": "[encoded data removed]",
      "text/plain": [
       "<Figure size 1000x500 with 1 Axes>"
      ]
     },
     "metadata": {},
     "output_type": "display_data"
    }
   ],
   "source": [
    "# plot distribution of lengths\n",
    "plt.figure(figsize=(10, 5))\n",
    "plt.hist(lengths, bins=50)\n",
    "plt.xlabel('Length of MFCC')\n",
    "plt.ylabel('Count')\n",
    "plt.title('Distribution of MFCC Lengths')\n",
    "plt.show()"
   ]
  },
  {
   "cell_type": "markdown",
   "id": "0d3985a3",
   "metadata": {},
   "source": [
    "### continue"
   ]
  },
  {
   "cell_type": "code",
   "execution_count": 431,
   "id": "0b72a683",
   "metadata": {},
   "outputs": [],
   "source": [
    "X = np.array(X)\n",
    "y = np.array(y)"
   ]
  },
  {
   "cell_type": "code",
   "execution_count": 432,
   "id": "e2ddeee0",
   "metadata": {},
   "outputs": [
    {
     "data": {
      "text/plain": [
       "(3166,)"
      ]
     },
     "execution_count": 432,
     "metadata": {},
     "output_type": "execute_result"
    }
   ],
   "source": [
    "y.shape"
   ]
  },
  {
   "cell_type": "code",
   "execution_count": 433,
   "id": "001477ce",
   "metadata": {},
   "outputs": [
    {
     "data": {
      "text/plain": [
       "(3166, 14, 1000)"
      ]
     },
     "execution_count": 433,
     "metadata": {},
     "output_type": "execute_result"
    }
   ],
   "source": [
    "X.shape"
   ]
  },
  {
   "cell_type": "code",
   "execution_count": 434,
   "id": "1ac055e4",
   "metadata": {},
   "outputs": [],
   "source": [
    "y = np.array(y, dtype=int)"
   ]
  },
  {
   "cell_type": "code",
   "execution_count": 435,
   "id": "9c29ad14",
   "metadata": {},
   "outputs": [],
   "source": [
    "from tensorflow.keras.utils import to_categorical\n",
    "y = y - 1\n",
    "y = to_categorical(y, num_classes=5)\n",
    "X = X.reshape((nummer, n_mfcc, max_length, 1)) "
   ]
  },
  {
   "cell_type": "code",
   "execution_count": 436,
   "id": "e1da4df3",
   "metadata": {},
   "outputs": [],
   "source": [
    "from tensorflow.keras.utils import to_categorical\n",
    "y_train = to_categorical(y_train, num_classes=5)\n",
    "y_test = to_categorical(y_test, num_classes=5)\n",
    "X = X.reshape((nummer, n_mfcc, max_length, 1)) "
   ]
  },
  {
   "cell_type": "code",
   "execution_count": 437,
   "id": "da5e30fc",
   "metadata": {},
   "outputs": [
    {
     "name": "stdout",
     "output_type": "stream",
     "text": [
      "X Shape is:  (3166, 14, 1000, 1)\n",
      "y Shape is:  (3166, 5)\n"
     ]
    }
   ],
   "source": [
    "print(\"X Shape is: \", X.shape)\n",
    "print(\"y Shape is: \", y.shape)"
   ]
  },
  {
   "cell_type": "code",
   "execution_count": 438,
   "id": "a2606220",
   "metadata": {},
   "outputs": [],
   "source": [
    "X_train , X_test , y_train , y_test = train_test_split(X , y ,test_size=0.2, random_state=42)"
   ]
  },
  {
   "cell_type": "code",
   "execution_count": 439,
   "id": "fc03d738",
   "metadata": {},
   "outputs": [],
   "source": [
    "INPUTSHAPE = (13, max_length, 1)"
   ]
  },
  {
   "cell_type": "code",
   "execution_count": 440,
   "id": "83976657",
   "metadata": {},
   "outputs": [
    {
     "name": "stderr",
     "output_type": "stream",
     "text": [
      "/opt/homebrew/lib/python3.11/site-packages/keras/src/layers/convolutional/base_conv.py:107: UserWarning: Do not pass an `input_shape`/`input_dim` argument to a layer. When using Sequential models, prefer using an `Input(shape)` object as the first layer in the model instead.\n",
      "  super().__init__(activity_regularizer=activity_regularizer, **kwargs)\n"
     ]
    },
    {
     "data": {
      "text/html": [
       "<pre style=\"white-space:pre;overflow-x:auto;line-height:normal;font-family:Menlo,'DejaVu Sans Mono',consolas,'Courier New',monospace\"><span style=\"font-weight: bold\">Model: \"sequential_17\"</span>\n",
       "</pre>\n"
      ],
      "text/plain": [
       "\u001b[1mModel: \"sequential_17\"\u001b[0m\n"
      ]
     },
     "metadata": {},
     "output_type": "display_data"
    },
    {
     "data": {
      "text/html": [
       "<pre style=\"white-space:pre;overflow-x:auto;line-height:normal;font-family:Menlo,'DejaVu Sans Mono',consolas,'Courier New',monospace\">┏━━━━━━━━━━━━━━━━━━━━━━━━━━━━━━━━━┳━━━━━━━━━━━━━━━━━━━━━━━━┳━━━━━━━━━━━━━━━┓\n",
       "┃<span style=\"font-weight: bold\"> Layer (type)                    </span>┃<span style=\"font-weight: bold\"> Output Shape           </span>┃<span style=\"font-weight: bold\">       Param # </span>┃\n",
       "┡━━━━━━━━━━━━━━━━━━━━━━━━━━━━━━━━━╇━━━━━━━━━━━━━━━━━━━━━━━━╇━━━━━━━━━━━━━━━┩\n",
       "│ conv2d_44 (<span style=\"color: #0087ff; text-decoration-color: #0087ff\">Conv2D</span>)              │ (<span style=\"color: #00d7ff; text-decoration-color: #00d7ff\">None</span>, <span style=\"color: #00af00; text-decoration-color: #00af00\">13</span>, <span style=\"color: #00af00; text-decoration-color: #00af00\">1000</span>, <span style=\"color: #00af00; text-decoration-color: #00af00\">32</span>)   │           <span style=\"color: #00af00; text-decoration-color: #00af00\">320</span> │\n",
       "├─────────────────────────────────┼────────────────────────┼───────────────┤\n",
       "│ max_pooling2d_44 (<span style=\"color: #0087ff; text-decoration-color: #0087ff\">MaxPooling2D</span>) │ (<span style=\"color: #00d7ff; text-decoration-color: #00d7ff\">None</span>, <span style=\"color: #00af00; text-decoration-color: #00af00\">7</span>, <span style=\"color: #00af00; text-decoration-color: #00af00\">500</span>, <span style=\"color: #00af00; text-decoration-color: #00af00\">32</span>)     │             <span style=\"color: #00af00; text-decoration-color: #00af00\">0</span> │\n",
       "├─────────────────────────────────┼────────────────────────┼───────────────┤\n",
       "│ conv2d_45 (<span style=\"color: #0087ff; text-decoration-color: #0087ff\">Conv2D</span>)              │ (<span style=\"color: #00d7ff; text-decoration-color: #00d7ff\">None</span>, <span style=\"color: #00af00; text-decoration-color: #00af00\">7</span>, <span style=\"color: #00af00; text-decoration-color: #00af00\">500</span>, <span style=\"color: #00af00; text-decoration-color: #00af00\">128</span>)    │        <span style=\"color: #00af00; text-decoration-color: #00af00\">36,992</span> │\n",
       "├─────────────────────────────────┼────────────────────────┼───────────────┤\n",
       "│ max_pooling2d_45 (<span style=\"color: #0087ff; text-decoration-color: #0087ff\">MaxPooling2D</span>) │ (<span style=\"color: #00d7ff; text-decoration-color: #00d7ff\">None</span>, <span style=\"color: #00af00; text-decoration-color: #00af00\">4</span>, <span style=\"color: #00af00; text-decoration-color: #00af00\">250</span>, <span style=\"color: #00af00; text-decoration-color: #00af00\">128</span>)    │             <span style=\"color: #00af00; text-decoration-color: #00af00\">0</span> │\n",
       "├─────────────────────────────────┼────────────────────────┼───────────────┤\n",
       "│ dropout_27 (<span style=\"color: #0087ff; text-decoration-color: #0087ff\">Dropout</span>)            │ (<span style=\"color: #00d7ff; text-decoration-color: #00d7ff\">None</span>, <span style=\"color: #00af00; text-decoration-color: #00af00\">4</span>, <span style=\"color: #00af00; text-decoration-color: #00af00\">250</span>, <span style=\"color: #00af00; text-decoration-color: #00af00\">128</span>)    │             <span style=\"color: #00af00; text-decoration-color: #00af00\">0</span> │\n",
       "├─────────────────────────────────┼────────────────────────┼───────────────┤\n",
       "│ conv2d_46 (<span style=\"color: #0087ff; text-decoration-color: #0087ff\">Conv2D</span>)              │ (<span style=\"color: #00d7ff; text-decoration-color: #00d7ff\">None</span>, <span style=\"color: #00af00; text-decoration-color: #00af00\">4</span>, <span style=\"color: #00af00; text-decoration-color: #00af00\">250</span>, <span style=\"color: #00af00; text-decoration-color: #00af00\">128</span>)    │       <span style=\"color: #00af00; text-decoration-color: #00af00\">147,584</span> │\n",
       "├─────────────────────────────────┼────────────────────────┼───────────────┤\n",
       "│ max_pooling2d_46 (<span style=\"color: #0087ff; text-decoration-color: #0087ff\">MaxPooling2D</span>) │ (<span style=\"color: #00d7ff; text-decoration-color: #00d7ff\">None</span>, <span style=\"color: #00af00; text-decoration-color: #00af00\">2</span>, <span style=\"color: #00af00; text-decoration-color: #00af00\">125</span>, <span style=\"color: #00af00; text-decoration-color: #00af00\">128</span>)    │             <span style=\"color: #00af00; text-decoration-color: #00af00\">0</span> │\n",
       "├─────────────────────────────────┼────────────────────────┼───────────────┤\n",
       "│ dropout_28 (<span style=\"color: #0087ff; text-decoration-color: #0087ff\">Dropout</span>)            │ (<span style=\"color: #00d7ff; text-decoration-color: #00d7ff\">None</span>, <span style=\"color: #00af00; text-decoration-color: #00af00\">2</span>, <span style=\"color: #00af00; text-decoration-color: #00af00\">125</span>, <span style=\"color: #00af00; text-decoration-color: #00af00\">128</span>)    │             <span style=\"color: #00af00; text-decoration-color: #00af00\">0</span> │\n",
       "├─────────────────────────────────┼────────────────────────┼───────────────┤\n",
       "│ global_average_pooling2d_13     │ (<span style=\"color: #00d7ff; text-decoration-color: #00d7ff\">None</span>, <span style=\"color: #00af00; text-decoration-color: #00af00\">128</span>)            │             <span style=\"color: #00af00; text-decoration-color: #00af00\">0</span> │\n",
       "│ (<span style=\"color: #0087ff; text-decoration-color: #0087ff\">GlobalAveragePooling2D</span>)        │                        │               │\n",
       "├─────────────────────────────────┼────────────────────────┼───────────────┤\n",
       "│ dense_34 (<span style=\"color: #0087ff; text-decoration-color: #0087ff\">Dense</span>)                │ (<span style=\"color: #00d7ff; text-decoration-color: #00d7ff\">None</span>, <span style=\"color: #00af00; text-decoration-color: #00af00\">512</span>)            │        <span style=\"color: #00af00; text-decoration-color: #00af00\">66,048</span> │\n",
       "├─────────────────────────────────┼────────────────────────┼───────────────┤\n",
       "│ dense_35 (<span style=\"color: #0087ff; text-decoration-color: #0087ff\">Dense</span>)                │ (<span style=\"color: #00d7ff; text-decoration-color: #00d7ff\">None</span>, <span style=\"color: #00af00; text-decoration-color: #00af00\">5</span>)              │         <span style=\"color: #00af00; text-decoration-color: #00af00\">2,565</span> │\n",
       "└─────────────────────────────────┴────────────────────────┴───────────────┘\n",
       "</pre>\n"
      ],
      "text/plain": [
       "┏━━━━━━━━━━━━━━━━━━━━━━━━━━━━━━━━━┳━━━━━━━━━━━━━━━━━━━━━━━━┳━━━━━━━━━━━━━━━┓\n",
       "┃\u001b[1m \u001b[0m\u001b[1mLayer (type)                   \u001b[0m\u001b[1m \u001b[0m┃\u001b[1m \u001b[0m\u001b[1mOutput Shape          \u001b[0m\u001b[1m \u001b[0m┃\u001b[1m \u001b[0m\u001b[1m      Param #\u001b[0m\u001b[1m \u001b[0m┃\n",
       "┡━━━━━━━━━━━━━━━━━━━━━━━━━━━━━━━━━╇━━━━━━━━━━━━━━━━━━━━━━━━╇━━━━━━━━━━━━━━━┩\n",
       "│ conv2d_44 (\u001b[38;5;33mConv2D\u001b[0m)              │ (\u001b[38;5;45mNone\u001b[0m, \u001b[38;5;34m13\u001b[0m, \u001b[38;5;34m1000\u001b[0m, \u001b[38;5;34m32\u001b[0m)   │           \u001b[38;5;34m320\u001b[0m │\n",
       "├─────────────────────────────────┼────────────────────────┼───────────────┤\n",
       "│ max_pooling2d_44 (\u001b[38;5;33mMaxPooling2D\u001b[0m) │ (\u001b[38;5;45mNone\u001b[0m, \u001b[38;5;34m7\u001b[0m, \u001b[38;5;34m500\u001b[0m, \u001b[38;5;34m32\u001b[0m)     │             \u001b[38;5;34m0\u001b[0m │\n",
       "├─────────────────────────────────┼────────────────────────┼───────────────┤\n",
       "│ conv2d_45 (\u001b[38;5;33mConv2D\u001b[0m)              │ (\u001b[38;5;45mNone\u001b[0m, \u001b[38;5;34m7\u001b[0m, \u001b[38;5;34m500\u001b[0m, \u001b[38;5;34m128\u001b[0m)    │        \u001b[38;5;34m36,992\u001b[0m │\n",
       "├─────────────────────────────────┼────────────────────────┼───────────────┤\n",
       "│ max_pooling2d_45 (\u001b[38;5;33mMaxPooling2D\u001b[0m) │ (\u001b[38;5;45mNone\u001b[0m, \u001b[38;5;34m4\u001b[0m, \u001b[38;5;34m250\u001b[0m, \u001b[38;5;34m128\u001b[0m)    │             \u001b[38;5;34m0\u001b[0m │\n",
       "├─────────────────────────────────┼────────────────────────┼───────────────┤\n",
       "│ dropout_27 (\u001b[38;5;33mDropout\u001b[0m)            │ (\u001b[38;5;45mNone\u001b[0m, \u001b[38;5;34m4\u001b[0m, \u001b[38;5;34m250\u001b[0m, \u001b[38;5;34m128\u001b[0m)    │             \u001b[38;5;34m0\u001b[0m │\n",
       "├─────────────────────────────────┼────────────────────────┼───────────────┤\n",
       "│ conv2d_46 (\u001b[38;5;33mConv2D\u001b[0m)              │ (\u001b[38;5;45mNone\u001b[0m, \u001b[38;5;34m4\u001b[0m, \u001b[38;5;34m250\u001b[0m, \u001b[38;5;34m128\u001b[0m)    │       \u001b[38;5;34m147,584\u001b[0m │\n",
       "├─────────────────────────────────┼────────────────────────┼───────────────┤\n",
       "│ max_pooling2d_46 (\u001b[38;5;33mMaxPooling2D\u001b[0m) │ (\u001b[38;5;45mNone\u001b[0m, \u001b[38;5;34m2\u001b[0m, \u001b[38;5;34m125\u001b[0m, \u001b[38;5;34m128\u001b[0m)    │             \u001b[38;5;34m0\u001b[0m │\n",
       "├─────────────────────────────────┼────────────────────────┼───────────────┤\n",
       "│ dropout_28 (\u001b[38;5;33mDropout\u001b[0m)            │ (\u001b[38;5;45mNone\u001b[0m, \u001b[38;5;34m2\u001b[0m, \u001b[38;5;34m125\u001b[0m, \u001b[38;5;34m128\u001b[0m)    │             \u001b[38;5;34m0\u001b[0m │\n",
       "├─────────────────────────────────┼────────────────────────┼───────────────┤\n",
       "│ global_average_pooling2d_13     │ (\u001b[38;5;45mNone\u001b[0m, \u001b[38;5;34m128\u001b[0m)            │             \u001b[38;5;34m0\u001b[0m │\n",
       "│ (\u001b[38;5;33mGlobalAveragePooling2D\u001b[0m)        │                        │               │\n",
       "├─────────────────────────────────┼────────────────────────┼───────────────┤\n",
       "│ dense_34 (\u001b[38;5;33mDense\u001b[0m)                │ (\u001b[38;5;45mNone\u001b[0m, \u001b[38;5;34m512\u001b[0m)            │        \u001b[38;5;34m66,048\u001b[0m │\n",
       "├─────────────────────────────────┼────────────────────────┼───────────────┤\n",
       "│ dense_35 (\u001b[38;5;33mDense\u001b[0m)                │ (\u001b[38;5;45mNone\u001b[0m, \u001b[38;5;34m5\u001b[0m)              │         \u001b[38;5;34m2,565\u001b[0m │\n",
       "└─────────────────────────────────┴────────────────────────┴───────────────┘\n"
      ]
     },
     "metadata": {},
     "output_type": "display_data"
    },
    {
     "data": {
      "text/html": [
       "<pre style=\"white-space:pre;overflow-x:auto;line-height:normal;font-family:Menlo,'DejaVu Sans Mono',consolas,'Courier New',monospace\"><span style=\"font-weight: bold\"> Total params: </span><span style=\"color: #00af00; text-decoration-color: #00af00\">253,509</span> (990.27 KB)\n",
       "</pre>\n"
      ],
      "text/plain": [
       "\u001b[1m Total params: \u001b[0m\u001b[38;5;34m253,509\u001b[0m (990.27 KB)\n"
      ]
     },
     "metadata": {},
     "output_type": "display_data"
    },
    {
     "data": {
      "text/html": [
       "<pre style=\"white-space:pre;overflow-x:auto;line-height:normal;font-family:Menlo,'DejaVu Sans Mono',consolas,'Courier New',monospace\"><span style=\"font-weight: bold\"> Trainable params: </span><span style=\"color: #00af00; text-decoration-color: #00af00\">253,509</span> (990.27 KB)\n",
       "</pre>\n"
      ],
      "text/plain": [
       "\u001b[1m Trainable params: \u001b[0m\u001b[38;5;34m253,509\u001b[0m (990.27 KB)\n"
      ]
     },
     "metadata": {},
     "output_type": "display_data"
    },
    {
     "data": {
      "text/html": [
       "<pre style=\"white-space:pre;overflow-x:auto;line-height:normal;font-family:Menlo,'DejaVu Sans Mono',consolas,'Courier New',monospace\"><span style=\"font-weight: bold\"> Non-trainable params: </span><span style=\"color: #00af00; text-decoration-color: #00af00\">0</span> (0.00 B)\n",
       "</pre>\n"
      ],
      "text/plain": [
       "\u001b[1m Non-trainable params: \u001b[0m\u001b[38;5;34m0\u001b[0m (0.00 B)\n"
      ]
     },
     "metadata": {},
     "output_type": "display_data"
    }
   ],
   "source": [
    "model =  models.Sequential([\n",
    "    \n",
    "                          layers.Conv2D(32 , (3,3),activation = 'relu',padding='same', input_shape = INPUTSHAPE),  \n",
    "                          layers.MaxPooling2D(2, padding='same'),\n",
    "                          layers.Conv2D(128, (3,3), activation='relu',padding='same'),\n",
    "                          layers.MaxPooling2D(2, padding='same'),\n",
    "                          layers.Dropout(0.3),\n",
    "                          layers.Conv2D(128, (3,3), activation='relu',padding='same'),\n",
    "                          layers.MaxPooling2D(2, padding='same'),\n",
    "                          layers.Dropout(0.3),\n",
    "                          layers.GlobalAveragePooling2D(),\n",
    "                          layers.Dense(512 , activation = 'relu'),\n",
    "                          layers.Dense(5 , activation = 'softmax')\n",
    "])\n",
    "\n",
    "model.compile(optimizer='adam', loss='categorical_crossentropy', metrics=['accuracy'])\n",
    "model.summary()"
   ]
  },
  {
   "cell_type": "code",
   "execution_count": 441,
   "id": "a877f7a9",
   "metadata": {},
   "outputs": [
    {
     "name": "stdout",
     "output_type": "stream",
     "text": [
      "Epoch 1/20\n",
      "\u001b[1m80/80\u001b[0m \u001b[32m━━━━━━━━━━━━━━━━━━━━\u001b[0m\u001b[37m\u001b[0m \u001b[1m20s\u001b[0m 237ms/step - accuracy: 0.2340 - loss: 1.9856 - val_accuracy: 0.1798 - val_loss: 1.6185\n",
      "Epoch 2/20\n",
      "\u001b[1m80/80\u001b[0m \u001b[32m━━━━━━━━━━━━━━━━━━━━\u001b[0m\u001b[37m\u001b[0m \u001b[1m18s\u001b[0m 230ms/step - accuracy: 0.3207 - loss: 1.5307 - val_accuracy: 0.4069 - val_loss: 1.3545\n",
      "Epoch 3/20\n",
      "\u001b[1m80/80\u001b[0m \u001b[32m━━━━━━━━━━━━━━━━━━━━\u001b[0m\u001b[37m\u001b[0m \u001b[1m19s\u001b[0m 243ms/step - accuracy: 0.4739 - loss: 1.2751 - val_accuracy: 0.5347 - val_loss: 1.0959\n",
      "Epoch 4/20\n",
      "\u001b[1m80/80\u001b[0m \u001b[32m━━━━━━━━━━━━━━━━━━━━\u001b[0m\u001b[37m\u001b[0m \u001b[1m19s\u001b[0m 239ms/step - accuracy: 0.5800 - loss: 1.0232 - val_accuracy: 0.5820 - val_loss: 0.9220\n",
      "Epoch 5/20\n",
      "\u001b[1m80/80\u001b[0m \u001b[32m━━━━━━━━━━━━━━━━━━━━\u001b[0m\u001b[37m\u001b[0m \u001b[1m20s\u001b[0m 250ms/step - accuracy: 0.6313 - loss: 0.9201 - val_accuracy: 0.5599 - val_loss: 1.0083\n",
      "Epoch 6/20\n",
      "\u001b[1m80/80\u001b[0m \u001b[32m━━━━━━━━━━━━━━━━━━━━\u001b[0m\u001b[37m\u001b[0m \u001b[1m20s\u001b[0m 250ms/step - accuracy: 0.6324 - loss: 0.9093 - val_accuracy: 0.6751 - val_loss: 0.7695\n",
      "Epoch 7/20\n",
      "\u001b[1m80/80\u001b[0m \u001b[32m━━━━━━━━━━━━━━━━━━━━\u001b[0m\u001b[37m\u001b[0m \u001b[1m20s\u001b[0m 251ms/step - accuracy: 0.6952 - loss: 0.7719 - val_accuracy: 0.7035 - val_loss: 0.6845\n",
      "Epoch 8/20\n",
      "\u001b[1m80/80\u001b[0m \u001b[32m━━━━━━━━━━━━━━━━━━━━\u001b[0m\u001b[37m\u001b[0m \u001b[1m20s\u001b[0m 246ms/step - accuracy: 0.6953 - loss: 0.7554 - val_accuracy: 0.7066 - val_loss: 0.7667\n",
      "Epoch 9/20\n",
      "\u001b[1m80/80\u001b[0m \u001b[32m━━━━━━━━━━━━━━━━━━━━\u001b[0m\u001b[37m\u001b[0m \u001b[1m21s\u001b[0m 257ms/step - accuracy: 0.7171 - loss: 0.7243 - val_accuracy: 0.7476 - val_loss: 0.6381\n",
      "Epoch 10/20\n",
      "\u001b[1m80/80\u001b[0m \u001b[32m━━━━━━━━━━━━━━━━━━━━\u001b[0m\u001b[37m\u001b[0m \u001b[1m21s\u001b[0m 268ms/step - accuracy: 0.7613 - loss: 0.6189 - val_accuracy: 0.7729 - val_loss: 0.5553\n",
      "Epoch 11/20\n",
      "\u001b[1m80/80\u001b[0m \u001b[32m━━━━━━━━━━━━━━━━━━━━\u001b[0m\u001b[37m\u001b[0m \u001b[1m22s\u001b[0m 279ms/step - accuracy: 0.7849 - loss: 0.5662 - val_accuracy: 0.7508 - val_loss: 0.6005\n",
      "Epoch 12/20\n",
      "\u001b[1m80/80\u001b[0m \u001b[32m━━━━━━━━━━━━━━━━━━━━\u001b[0m\u001b[37m\u001b[0m \u001b[1m28s\u001b[0m 348ms/step - accuracy: 0.7742 - loss: 0.5821 - val_accuracy: 0.7981 - val_loss: 0.5196\n",
      "Epoch 13/20\n",
      "\u001b[1m80/80\u001b[0m \u001b[32m━━━━━━━━━━━━━━━━━━━━\u001b[0m\u001b[37m\u001b[0m \u001b[1m29s\u001b[0m 358ms/step - accuracy: 0.8166 - loss: 0.4606 - val_accuracy: 0.8218 - val_loss: 0.4640\n",
      "Epoch 14/20\n",
      "\u001b[1m80/80\u001b[0m \u001b[32m━━━━━━━━━━━━━━━━━━━━\u001b[0m\u001b[37m\u001b[0m \u001b[1m27s\u001b[0m 335ms/step - accuracy: 0.8266 - loss: 0.4664 - val_accuracy: 0.8139 - val_loss: 0.5234\n",
      "Epoch 15/20\n",
      "\u001b[1m80/80\u001b[0m \u001b[32m━━━━━━━━━━━━━━━━━━━━\u001b[0m\u001b[37m\u001b[0m \u001b[1m28s\u001b[0m 348ms/step - accuracy: 0.8374 - loss: 0.4158 - val_accuracy: 0.8060 - val_loss: 0.4926\n",
      "Epoch 16/20\n",
      "\u001b[1m80/80\u001b[0m \u001b[32m━━━━━━━━━━━━━━━━━━━━\u001b[0m\u001b[37m\u001b[0m \u001b[1m28s\u001b[0m 345ms/step - accuracy: 0.8357 - loss: 0.4091 - val_accuracy: 0.8265 - val_loss: 0.4444\n",
      "Epoch 17/20\n",
      "\u001b[1m80/80\u001b[0m \u001b[32m━━━━━━━━━━━━━━━━━━━━\u001b[0m\u001b[37m\u001b[0m \u001b[1m26s\u001b[0m 331ms/step - accuracy: 0.8563 - loss: 0.3713 - val_accuracy: 0.8864 - val_loss: 0.3073\n",
      "Epoch 18/20\n",
      "\u001b[1m80/80\u001b[0m \u001b[32m━━━━━━━━━━━━━━━━━━━━\u001b[0m\u001b[37m\u001b[0m \u001b[1m26s\u001b[0m 321ms/step - accuracy: 0.8785 - loss: 0.3311 - val_accuracy: 0.8833 - val_loss: 0.3053\n",
      "Epoch 19/20\n",
      "\u001b[1m80/80\u001b[0m \u001b[32m━━━━━━━━━━━━━━━━━━━━\u001b[0m\u001b[37m\u001b[0m \u001b[1m27s\u001b[0m 336ms/step - accuracy: 0.8897 - loss: 0.3168 - val_accuracy: 0.7697 - val_loss: 0.5710\n",
      "Epoch 20/20\n",
      "\u001b[1m80/80\u001b[0m \u001b[32m━━━━━━━━━━━━━━━━━━━━\u001b[0m\u001b[37m\u001b[0m \u001b[1m27s\u001b[0m 335ms/step - accuracy: 0.8685 - loss: 0.3518 - val_accuracy: 0.8785 - val_loss: 0.3246\n",
      "\u001b[1m20/20\u001b[0m \u001b[32m━━━━━━━━━━━━━━━━━━━━\u001b[0m\u001b[37m\u001b[0m \u001b[1m2s\u001b[0m 93ms/step - accuracy: 0.8783 - loss: 0.3121\n",
      "Test Loss: 0.3245725631713867\n",
      "Test Accuracy: 0.8785489201545715\n"
     ]
    }
   ],
   "source": [
    "# Train the model\n",
    "history = model.fit(\n",
    "    X_train, y_train,\n",
    "    validation_data=(X_test, y_test),\n",
    "    epochs=20,  # Adjust the number of epochs as needed\n",
    "    batch_size=32,  # Adjust the batch size as needed\n",
    "    verbose=1\n",
    ")\n",
    "\n",
    "# Evaluate the model\n",
    "test_loss, test_accuracy = model.evaluate(X_test, y_test, verbose=1)\n",
    "print(f\"Test Loss: {test_loss}\")\n",
    "print(f\"Test Accuracy: {test_accuracy}\")"
   ]
  },
  {
   "cell_type": "code",
   "execution_count": 443,
   "id": "44a1f26f",
   "metadata": {},
   "outputs": [
    {
     "data": {
      "text/plain": [
       "<Figure size 1200x400 with 0 Axes>"
      ]
     },
     "execution_count": 443,
     "metadata": {},
     "output_type": "execute_result"
    },
    {
     "data": {
      "text/plain": [
       "<Axes: >"
      ]
     },
     "execution_count": 443,
     "metadata": {},
     "output_type": "execute_result"
    },
    {
     "data": {
      "text/plain": [
       "[<matplotlib.lines.Line2D at 0x30f864350>]"
      ]
     },
     "execution_count": 443,
     "metadata": {},
     "output_type": "execute_result"
    },
    {
     "data": {
      "text/plain": [
       "[<matplotlib.lines.Line2D at 0x30da60610>]"
      ]
     },
     "execution_count": 443,
     "metadata": {},
     "output_type": "execute_result"
    },
    {
     "data": {
      "text/plain": [
       "Text(0.5, 1.0, 'Model Accuracy')"
      ]
     },
     "execution_count": 443,
     "metadata": {},
     "output_type": "execute_result"
    },
    {
     "data": {
      "text/plain": [
       "Text(0.5, 0, 'Epochs')"
      ]
     },
     "execution_count": 443,
     "metadata": {},
     "output_type": "execute_result"
    },
    {
     "data": {
      "text/plain": [
       "Text(0, 0.5, 'Accuracy')"
      ]
     },
     "execution_count": 443,
     "metadata": {},
     "output_type": "execute_result"
    },
    {
     "data": {
      "text/plain": [
       "<matplotlib.legend.Legend at 0x30db5b350>"
      ]
     },
     "execution_count": 443,
     "metadata": {},
     "output_type": "execute_result"
    },
    {
     "data": {
      "image/png": "[encoded data removed]",
      "text/plain": [
       "<Figure size 1200x400 with 1 Axes>"
      ]
     },
     "metadata": {},
     "output_type": "display_data"
    },
    {
     "data": {
      "text/plain": [
       "[<matplotlib.lines.Line2D at 0x30d2e7310>]"
      ]
     },
     "execution_count": 443,
     "metadata": {},
     "output_type": "execute_result"
    },
    {
     "data": {
      "text/plain": [
       "[<matplotlib.lines.Line2D at 0x30d30d990>]"
      ]
     },
     "execution_count": 443,
     "metadata": {},
     "output_type": "execute_result"
    },
    {
     "data": {
      "text/plain": [
       "Text(0.5, 1.0, 'model loss')"
      ]
     },
     "execution_count": 443,
     "metadata": {},
     "output_type": "execute_result"
    },
    {
     "data": {
      "text/plain": [
       "Text(0, 0.5, 'loss')"
      ]
     },
     "execution_count": 443,
     "metadata": {},
     "output_type": "execute_result"
    },
    {
     "data": {
      "text/plain": [
       "Text(0.5, 0, 'epoch')"
      ]
     },
     "execution_count": 443,
     "metadata": {},
     "output_type": "execute_result"
    },
    {
     "data": {
      "text/plain": [
       "<matplotlib.legend.Legend at 0x30e7da710>"
      ]
     },
     "execution_count": 443,
     "metadata": {},
     "output_type": "execute_result"
    },
    {
     "data": {
      "image/png": "[encoded data removed]",
      "text/plain": [
       "<Figure size 640x480 with 1 Axes>"
      ]
     },
     "metadata": {},
     "output_type": "display_data"
    }
   ],
   "source": [
    "# plot the results\n",
    "\n",
    "plt.figure(figsize=(12, 4))\n",
    "plt.subplot(1, 2, 1)\n",
    "plt.plot(history.history['accuracy'], label='Train Accuracy')\n",
    "plt.plot(history.history['val_accuracy'], label='Validation Accuracy')\n",
    "plt.title('Model Accuracy')\n",
    "plt.xlabel('Epochs')\n",
    "plt.ylabel('Accuracy')\n",
    "plt.legend()\n",
    "plt.show()\n",
    "\n",
    "\n",
    "plt.plot(history.history['loss'])\n",
    "plt.plot(history.history['val_loss'])\n",
    "plt.title('model loss')\n",
    "plt.ylabel('loss')\n",
    "plt.xlabel('epoch')\n",
    "plt.legend(['train', 'validation'], loc='upper left')\n",
    "plt.show()"
   ]
  },
  {
   "cell_type": "markdown",
   "id": "b1b55b24",
   "metadata": {},
   "source": []
  },
  {
   "cell_type": "code",
   "execution_count": 447,
   "id": "099be252",
   "metadata": {},
   "outputs": [],
   "source": [
    "import keras"
   ]
  },
  {
   "cell_type": "code",
   "execution_count": 448,
   "id": "0f5b425c",
   "metadata": {},
   "outputs": [
    {
     "data": {
      "text/plain": [
       "<Figure size 1200x400 with 0 Axes>"
      ]
     },
     "execution_count": 448,
     "metadata": {},
     "output_type": "execute_result"
    },
    {
     "data": {
      "text/plain": [
       "<Axes: >"
      ]
     },
     "execution_count": 448,
     "metadata": {},
     "output_type": "execute_result"
    },
    {
     "data": {
      "text/plain": [
       "[<matplotlib.lines.Line2D at 0x30f5f2590>]"
      ]
     },
     "execution_count": 448,
     "metadata": {},
     "output_type": "execute_result"
    },
    {
     "data": {
      "text/plain": [
       "[<matplotlib.lines.Line2D at 0x30f642e90>]"
      ]
     },
     "execution_count": 448,
     "metadata": {},
     "output_type": "execute_result"
    },
    {
     "data": {
      "text/plain": [
       "Text(0.5, 1.0, 'Model Accuracy')"
      ]
     },
     "execution_count": 448,
     "metadata": {},
     "output_type": "execute_result"
    },
    {
     "data": {
      "text/plain": [
       "Text(0.5, 0, 'Epochs')"
      ]
     },
     "execution_count": 448,
     "metadata": {},
     "output_type": "execute_result"
    },
    {
     "data": {
      "text/plain": [
       "Text(0, 0.5, 'Accuracy')"
      ]
     },
     "execution_count": 448,
     "metadata": {},
     "output_type": "execute_result"
    },
    {
     "data": {
      "text/plain": [
       "<matplotlib.legend.Legend at 0x30d501c10>"
      ]
     },
     "execution_count": 448,
     "metadata": {},
     "output_type": "execute_result"
    },
    {
     "data": {
      "text/plain": [
       "<Axes: >"
      ]
     },
     "execution_count": 448,
     "metadata": {},
     "output_type": "execute_result"
    },
    {
     "data": {
      "text/plain": [
       "[<matplotlib.lines.Line2D at 0x30f67de10>]"
      ]
     },
     "execution_count": 448,
     "metadata": {},
     "output_type": "execute_result"
    },
    {
     "data": {
      "text/plain": [
       "[<matplotlib.lines.Line2D at 0x30f6a1110>]"
      ]
     },
     "execution_count": 448,
     "metadata": {},
     "output_type": "execute_result"
    },
    {
     "data": {
      "text/plain": [
       "Text(0.5, 1.0, 'model loss')"
      ]
     },
     "execution_count": 448,
     "metadata": {},
     "output_type": "execute_result"
    },
    {
     "data": {
      "text/plain": [
       "Text(0, 0.5, 'loss')"
      ]
     },
     "execution_count": 448,
     "metadata": {},
     "output_type": "execute_result"
    },
    {
     "data": {
      "text/plain": [
       "Text(0.5, 0, 'epoch')"
      ]
     },
     "execution_count": 448,
     "metadata": {},
     "output_type": "execute_result"
    },
    {
     "data": {
      "text/plain": [
       "<matplotlib.legend.Legend at 0x30e689c10>"
      ]
     },
     "execution_count": 448,
     "metadata": {},
     "output_type": "execute_result"
    },
    {
     "data": {
      "image/png": "[encoded data removed]",
      "text/plain": [
       "<Figure size 1200x400 with 2 Axes>"
      ]
     },
     "metadata": {},
     "output_type": "display_data"
    }
   ],
   "source": [
    "# save the plots as png in one plot\n",
    "\n",
    "plt.figure(figsize=(12, 4))\n",
    "plt.subplot(1, 2, 1)\n",
    "plt.plot(history.history['accuracy'], label='Train Accuracy')\n",
    "plt.plot(history.history['val_accuracy'], label='Validation Accuracy')\n",
    "plt.title('Model Accuracy')\n",
    "plt.xlabel('Epochs')\n",
    "plt.ylabel('Accuracy')\n",
    "plt.legend()\n",
    "plt.subplot(1, 2, 2)\n",
    "plt.plot(history.history['loss'])\n",
    "plt.plot(history.history['val_loss'])\n",
    "plt.title('model loss')\n",
    "plt.ylabel('loss')\n",
    "plt.xlabel('epoch')\n",
    "plt.legend(['train', 'validation'], loc='upper left')\n",
    "plt.savefig('model.png')\n",
    "plt.show()\n",
    "\n",
    "#save the model\n",
    "keras.saving.save_model(model, 'my_model.keras')\n",
    "\n"
   ]
  },
  {
   "cell_type": "code",
   "execution_count": null,
   "id": "67dd1c23",
   "metadata": {},
   "outputs": [],
   "source": []
  }
 ],
 "metadata": {
  "kernelspec": {
   "display_name": "Python 3",
   "language": "python",
   "name": "python3"
  },
  "language_info": {
   "codemirror_mode": {
    "name": "ipython",
    "version": 3
   },
   "file_extension": ".py",
   "mimetype": "text/x-python",
   "name": "python",
   "nbconvert_exporter": "python",
   "pygments_lexer": "ipython3",
   "version": "3.11.10"
  }
 },
 "nbformat": 4,
 "nbformat_minor": 5
}
